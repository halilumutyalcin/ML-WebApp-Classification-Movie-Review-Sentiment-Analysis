{
 "cells": [
  {
   "cell_type": "markdown",
   "metadata": {},
   "source": [
    "# Creating a Sentiment Analysis Web App\n",
    "## Using PyTorch and SageMaker\n",
    "\n",
    "_Deep Learning Nanodegree Program | Deployment_\n",
    "\n",
    "---\n",
    "\n",
    "Now that we have a basic understanding of how SageMaker works we will try to use it to construct a complete project from end to end. Our goal will be to have a simple web page which a user can use to enter a movie review. The web page will then send the review off to our deployed model which will predict the sentiment of the entered review.\n",
    "\n",
    "## Instructions\n",
    "\n",
    "Some template code has already been provided for you, and you will need to implement additional functionality to successfully complete this notebook. You will not need to modify the included code beyond what is requested. Sections that begin with '**TODO**' in the header indicate that you need to complete or implement some portion within them. Instructions will be provided for each section and the specifics of the implementation are marked in the code block with a `# TODO: ...` comment. Please be sure to read the instructions carefully!\n",
    "\n",
    "In addition to implementing code, there will be questions for you to answer which relate to the task and your implementation. Each section where you will answer a question is preceded by a '**Question:**' header. Carefully read each question and provide your answer below the '**Answer:**' header by editing the Markdown cell.\n",
    "\n",
    "> **Note**: Code and Markdown cells can be executed using the **Shift+Enter** keyboard shortcut. In addition, a cell can be edited by typically clicking it (double-click for Markdown cells) or by pressing **Enter** while it is highlighted.\n",
    "\n",
    "## General Outline\n",
    "\n",
    "Recall the general outline for SageMaker projects using a notebook instance.\n",
    "\n",
    "1. Download or otherwise retrieve the data.\n",
    "2. Process / Prepare the data.\n",
    "3. Upload the processed data to S3.\n",
    "4. Train a chosen model.\n",
    "5. Test the trained model (typically using a batch transform job).\n",
    "6. Deploy the trained model.\n",
    "7. Use the deployed model.\n",
    "\n",
    "For this project, you will be following the steps in the general outline with some modifications. \n",
    "\n",
    "First, you will not be testing the model in its own step. You will still be testing the model, however, you will do it by deploying your model and then using the deployed model by sending the test data to it. One of the reasons for doing this is so that you can make sure that your deployed model is working correctly before moving forward.\n",
    "\n",
    "In addition, you will deploy and use your trained model a second time. In the second iteration you will customize the way that your trained model is deployed by including some of your own code. In addition, your newly deployed model will be used in the sentiment analysis web app."
   ]
  },
  {
   "cell_type": "markdown",
   "metadata": {},
   "source": [
    "## Step 1: Downloading the data\n",
    "\n",
    "As in the XGBoost in SageMaker notebook, we will be using the [IMDb dataset](http://ai.stanford.edu/~amaas/data/sentiment/)\n",
    "\n",
    "> Maas, Andrew L., et al. [Learning Word Vectors for Sentiment Analysis](http://ai.stanford.edu/~amaas/data/sentiment/). In _Proceedings of the 49th Annual Meeting of the Association for Computational Linguistics: Human Language Technologies_. Association for Computational Linguistics, 2011."
   ]
  },
  {
   "cell_type": "code",
   "execution_count": 1,
   "metadata": {},
   "outputs": [
    {
     "name": "stdout",
     "output_type": "stream",
     "text": [
      "mkdir: cannot create directory ‘../data’: File exists\n",
      "--2020-01-23 19:35:48--  http://ai.stanford.edu/~amaas/data/sentiment/aclImdb_v1.tar.gz\n",
      "Resolving ai.stanford.edu (ai.stanford.edu)... 171.64.68.10\n",
      "Connecting to ai.stanford.edu (ai.stanford.edu)|171.64.68.10|:80... connected.\n",
      "HTTP request sent, awaiting response... 200 OK\n",
      "Length: 84125825 (80M) [application/x-gzip]\n",
      "Saving to: ‘../data/aclImdb_v1.tar.gz’\n",
      "\n",
      "../data/aclImdb_v1. 100%[===================>]  80.23M  6.73MB/s    in 24s     \n",
      "\n",
      "2020-01-23 19:36:12 (3.35 MB/s) - ‘../data/aclImdb_v1.tar.gz’ saved [84125825/84125825]\n",
      "\n"
     ]
    }
   ],
   "source": [
    "%mkdir ../data\n",
    "!wget -O ../data/aclImdb_v1.tar.gz http://ai.stanford.edu/~amaas/data/sentiment/aclImdb_v1.tar.gz\n",
    "!tar -zxf ../data/aclImdb_v1.tar.gz -C ../data"
   ]
  },
  {
   "cell_type": "markdown",
   "metadata": {},
   "source": [
    "## Step 2: Preparing and Processing the data\n",
    "\n",
    "Also, as in the XGBoost notebook, we will be doing some initial data processing. The first few steps are the same as in the XGBoost example. To begin with, we will read in each of the reviews and combine them into a single input structure. Then, we will split the dataset into a training set and a testing set."
   ]
  },
  {
   "cell_type": "code",
   "execution_count": 2,
   "metadata": {},
   "outputs": [],
   "source": [
    "import os\n",
    "import glob\n",
    "\n",
    "def read_imdb_data(data_dir='../data/aclImdb'):\n",
    "    data = {}\n",
    "    labels = {}\n",
    "    \n",
    "    for data_type in ['train', 'test']:\n",
    "        data[data_type] = {}\n",
    "        labels[data_type] = {}\n",
    "        \n",
    "        for sentiment in ['pos', 'neg']:\n",
    "            data[data_type][sentiment] = []\n",
    "            labels[data_type][sentiment] = []\n",
    "            \n",
    "            path = os.path.join(data_dir, data_type, sentiment, '*.txt')\n",
    "            files = glob.glob(path)\n",
    "            \n",
    "            for f in files:\n",
    "                with open(f) as review:\n",
    "                    data[data_type][sentiment].append(review.read())\n",
    "                    # Here we represent a positive review by '1' and a negative review by '0'\n",
    "                    labels[data_type][sentiment].append(1 if sentiment == 'pos' else 0)\n",
    "                    \n",
    "            assert len(data[data_type][sentiment]) == len(labels[data_type][sentiment]), \\\n",
    "                    \"{}/{} data size does not match labels size\".format(data_type, sentiment)\n",
    "                \n",
    "    return data, labels"
   ]
  },
  {
   "cell_type": "code",
   "execution_count": 3,
   "metadata": {},
   "outputs": [
    {
     "name": "stdout",
     "output_type": "stream",
     "text": [
      "IMDB reviews: train = 12500 pos / 12500 neg, test = 12500 pos / 12500 neg\n"
     ]
    }
   ],
   "source": [
    "data, labels = read_imdb_data()\n",
    "print(\"IMDB reviews: train = {} pos / {} neg, test = {} pos / {} neg\".format(\n",
    "            len(data['train']['pos']), len(data['train']['neg']),\n",
    "            len(data['test']['pos']), len(data['test']['neg'])))"
   ]
  },
  {
   "cell_type": "markdown",
   "metadata": {},
   "source": [
    "Now that we've read the raw training and testing data from the downloaded dataset, we will combine the positive and negative reviews and shuffle the resulting records."
   ]
  },
  {
   "cell_type": "code",
   "execution_count": 4,
   "metadata": {},
   "outputs": [],
   "source": [
    "from sklearn.utils import shuffle\n",
    "\n",
    "def prepare_imdb_data(data, labels):\n",
    "    \"\"\"Prepare training and test sets from IMDb movie reviews.\"\"\"\n",
    "    \n",
    "    #Combine positive and negative reviews and labels\n",
    "    data_train = data['train']['pos'] + data['train']['neg']\n",
    "    data_test = data['test']['pos'] + data['test']['neg']\n",
    "    labels_train = labels['train']['pos'] + labels['train']['neg']\n",
    "    labels_test = labels['test']['pos'] + labels['test']['neg']\n",
    "    \n",
    "    #Shuffle reviews and corresponding labels within training and test sets\n",
    "    data_train, labels_train = shuffle(data_train, labels_train)\n",
    "    data_test, labels_test = shuffle(data_test, labels_test)\n",
    "    \n",
    "    # Return a unified training data, test data, training labels, test labets\n",
    "    return data_train, data_test, labels_train, labels_test"
   ]
  },
  {
   "cell_type": "code",
   "execution_count": 5,
   "metadata": {},
   "outputs": [
    {
     "name": "stdout",
     "output_type": "stream",
     "text": [
      "IMDb reviews (combined): train = 25000, test = 25000\n"
     ]
    }
   ],
   "source": [
    "train_X, test_X, train_y, test_y = prepare_imdb_data(data, labels)\n",
    "print(\"IMDb reviews (combined): train = {}, test = {}\".format(len(train_X), len(test_X)))"
   ]
  },
  {
   "cell_type": "markdown",
   "metadata": {},
   "source": [
    "Now that we have our training and testing sets unified and prepared, we should do a quick check and see an example of the data our model will be trained on. This is generally a good idea as it allows you to see how each of the further processing steps affects the reviews and it also ensures that the data has been loaded correctly."
   ]
  },
  {
   "cell_type": "code",
   "execution_count": 6,
   "metadata": {},
   "outputs": [
    {
     "name": "stdout",
     "output_type": "stream",
     "text": [
      "This movie really, i mean REALLY, sucks. Its got plot holes so big, and 30 foot dragon can fit through them. Not to mention the dragon itself, which is inevitably the worst computer generated image ever to be put on the film real. I mean, when you see something like this, you gotta be thinking \"Wow, someone actually made this movie. Then released it. That takes guts\". Whoever they are, i'm sure they don't work in the film business anymore.<br /><br />When i hired this movie, it wasn't in on DVD, so i (reluctantly) took it out on video. The first thing to appear, was a Lord of the Rings trailer, for the Two Towers. This was a very clever move, putting this trailer on the video. It justifies me (reluctantly) giving the film 1 star, otherwise i would have given it zero stars. Maybe the producers though the star attraction of Dean Cain (I think thats how you spell it) would draw in the crowds (uh, to the video store that is).<br /><br />Next they employed split screen technique (like in Hulk) to (i assume) compensate for what an atrocity this piece of crap film is. On the box cover, we see a picture of our hero, and the dragon. Does the dragon look exactly like the one in Dragonheart, or is it just me? Either way, the dragon in the film looks like a reject from Gremlins 2, and has the CGI of a Nintendo video game villain from the early 90's (perhaps worse). Also, not the Dragons movement as it pursues its victims- its the same F##cking monotonous movement- right leg, left leg, right leg left leg- dom, dom, dom, dom DOM, DOM F#$king DOOOOOM! This just pisses me off. Maybe the filmmakers thought this was thrilling and would have the same effect of Jaws. Why not then have a Dragon POV shot. Either way, that was just funny, much like watching a Weebl toon.<br /><br />Dean Cain gives many puzzled looks during the film (maybe his coming to terms with the fact that this film could end his career). Don't expect Superman here. The first time i saw the trailer for this film, i thought it was an add for a PS2 game.<br /><br />As for the story, its so so bad, my 5 year old brother can come up with better ones when he's unconvincingly trying to lie about why he was messing around in my room while i wasn't there. Oh, and did i mention that I F@#KING HATE THE PEOPLE WHO MADE THIS INCREDIBLY STUPID STUPID CRAP ATROCIOUS FILM?!!!\n",
      "0\n"
     ]
    }
   ],
   "source": [
    "print(train_X[100])\n",
    "print(train_y[100])"
   ]
  },
  {
   "cell_type": "markdown",
   "metadata": {},
   "source": [
    "The first step in processing the reviews is to make sure that any html tags that appear should be removed. In addition we wish to tokenize our input, that way words such as *entertained* and *entertaining* are considered the same with regard to sentiment analysis."
   ]
  },
  {
   "cell_type": "code",
   "execution_count": 7,
   "metadata": {},
   "outputs": [],
   "source": [
    "import nltk\n",
    "from nltk.corpus import stopwords\n",
    "from nltk.stem.porter import *\n",
    "\n",
    "import re\n",
    "from bs4 import BeautifulSoup\n",
    "\n",
    "def review_to_words(review):\n",
    "    nltk.download(\"stopwords\", quiet=True)\n",
    "    stemmer = PorterStemmer()\n",
    "    \n",
    "    text = BeautifulSoup(review, \"html.parser\").get_text() # Remove HTML tags\n",
    "    text = re.sub(r\"[^a-zA-Z0-9]\", \" \", text.lower()) # Convert to lower case\n",
    "    words = text.split() # Split string into words\n",
    "    words = [w for w in words if w not in stopwords.words(\"english\")] # Remove stopwords\n",
    "    words = [PorterStemmer().stem(w) for w in words] # stem\n",
    "    \n",
    "    return words"
   ]
  },
  {
   "cell_type": "markdown",
   "metadata": {},
   "source": [
    "The `review_to_words` method defined above uses `BeautifulSoup` to remove any html tags that appear and uses the `nltk` package to tokenize the reviews. As a check to ensure we know how everything is working, try applying `review_to_words` to one of the reviews in the training set."
   ]
  },
  {
   "cell_type": "code",
   "execution_count": 8,
   "metadata": {},
   "outputs": [
    {
     "data": {
      "text/plain": [
       "['movi',\n",
       " 'realli',\n",
       " 'mean',\n",
       " 'realli',\n",
       " 'suck',\n",
       " 'got',\n",
       " 'plot',\n",
       " 'hole',\n",
       " 'big',\n",
       " '30',\n",
       " 'foot',\n",
       " 'dragon',\n",
       " 'fit',\n",
       " 'mention',\n",
       " 'dragon',\n",
       " 'inevit',\n",
       " 'worst',\n",
       " 'comput',\n",
       " 'gener',\n",
       " 'imag',\n",
       " 'ever',\n",
       " 'put',\n",
       " 'film',\n",
       " 'real',\n",
       " 'mean',\n",
       " 'see',\n",
       " 'someth',\n",
       " 'like',\n",
       " 'gotta',\n",
       " 'think',\n",
       " 'wow',\n",
       " 'someon',\n",
       " 'actual',\n",
       " 'made',\n",
       " 'movi',\n",
       " 'releas',\n",
       " 'take',\n",
       " 'gut',\n",
       " 'whoever',\n",
       " 'sure',\n",
       " 'work',\n",
       " 'film',\n",
       " 'busi',\n",
       " 'anymor',\n",
       " 'hire',\n",
       " 'movi',\n",
       " 'dvd',\n",
       " 'reluctantli',\n",
       " 'took',\n",
       " 'video',\n",
       " 'first',\n",
       " 'thing',\n",
       " 'appear',\n",
       " 'lord',\n",
       " 'ring',\n",
       " 'trailer',\n",
       " 'two',\n",
       " 'tower',\n",
       " 'clever',\n",
       " 'move',\n",
       " 'put',\n",
       " 'trailer',\n",
       " 'video',\n",
       " 'justifi',\n",
       " 'reluctantli',\n",
       " 'give',\n",
       " 'film',\n",
       " '1',\n",
       " 'star',\n",
       " 'otherwis',\n",
       " 'would',\n",
       " 'given',\n",
       " 'zero',\n",
       " 'star',\n",
       " 'mayb',\n",
       " 'produc',\n",
       " 'though',\n",
       " 'star',\n",
       " 'attract',\n",
       " 'dean',\n",
       " 'cain',\n",
       " 'think',\n",
       " 'that',\n",
       " 'spell',\n",
       " 'would',\n",
       " 'draw',\n",
       " 'crowd',\n",
       " 'uh',\n",
       " 'video',\n",
       " 'store',\n",
       " 'next',\n",
       " 'employ',\n",
       " 'split',\n",
       " 'screen',\n",
       " 'techniqu',\n",
       " 'like',\n",
       " 'hulk',\n",
       " 'assum',\n",
       " 'compens',\n",
       " 'atroc',\n",
       " 'piec',\n",
       " 'crap',\n",
       " 'film',\n",
       " 'box',\n",
       " 'cover',\n",
       " 'see',\n",
       " 'pictur',\n",
       " 'hero',\n",
       " 'dragon',\n",
       " 'dragon',\n",
       " 'look',\n",
       " 'exactli',\n",
       " 'like',\n",
       " 'one',\n",
       " 'dragonheart',\n",
       " 'either',\n",
       " 'way',\n",
       " 'dragon',\n",
       " 'film',\n",
       " 'look',\n",
       " 'like',\n",
       " 'reject',\n",
       " 'gremlin',\n",
       " '2',\n",
       " 'cgi',\n",
       " 'nintendo',\n",
       " 'video',\n",
       " 'game',\n",
       " 'villain',\n",
       " 'earli',\n",
       " '90',\n",
       " 'perhap',\n",
       " 'wors',\n",
       " 'also',\n",
       " 'dragon',\n",
       " 'movement',\n",
       " 'pursu',\n",
       " 'victim',\n",
       " 'f',\n",
       " 'cking',\n",
       " 'monoton',\n",
       " 'movement',\n",
       " 'right',\n",
       " 'leg',\n",
       " 'left',\n",
       " 'leg',\n",
       " 'right',\n",
       " 'leg',\n",
       " 'left',\n",
       " 'leg',\n",
       " 'dom',\n",
       " 'dom',\n",
       " 'dom',\n",
       " 'dom',\n",
       " 'dom',\n",
       " 'dom',\n",
       " 'f',\n",
       " 'king',\n",
       " 'dooooom',\n",
       " 'piss',\n",
       " 'mayb',\n",
       " 'filmmak',\n",
       " 'thought',\n",
       " 'thrill',\n",
       " 'would',\n",
       " 'effect',\n",
       " 'jaw',\n",
       " 'dragon',\n",
       " 'pov',\n",
       " 'shot',\n",
       " 'either',\n",
       " 'way',\n",
       " 'funni',\n",
       " 'much',\n",
       " 'like',\n",
       " 'watch',\n",
       " 'weebl',\n",
       " 'toon',\n",
       " 'dean',\n",
       " 'cain',\n",
       " 'give',\n",
       " 'mani',\n",
       " 'puzzl',\n",
       " 'look',\n",
       " 'film',\n",
       " 'mayb',\n",
       " 'come',\n",
       " 'term',\n",
       " 'fact',\n",
       " 'film',\n",
       " 'could',\n",
       " 'end',\n",
       " 'career',\n",
       " 'expect',\n",
       " 'superman',\n",
       " 'first',\n",
       " 'time',\n",
       " 'saw',\n",
       " 'trailer',\n",
       " 'film',\n",
       " 'thought',\n",
       " 'add',\n",
       " 'ps2',\n",
       " 'game',\n",
       " 'stori',\n",
       " 'bad',\n",
       " '5',\n",
       " 'year',\n",
       " 'old',\n",
       " 'brother',\n",
       " 'come',\n",
       " 'better',\n",
       " 'one',\n",
       " 'unconvincingli',\n",
       " 'tri',\n",
       " 'lie',\n",
       " 'mess',\n",
       " 'around',\n",
       " 'room',\n",
       " 'oh',\n",
       " 'mention',\n",
       " 'f',\n",
       " 'king',\n",
       " 'hate',\n",
       " 'peopl',\n",
       " 'made',\n",
       " 'incred',\n",
       " 'stupid',\n",
       " 'stupid',\n",
       " 'crap',\n",
       " 'atroci',\n",
       " 'film']"
      ]
     },
     "execution_count": 8,
     "metadata": {},
     "output_type": "execute_result"
    }
   ],
   "source": [
    "# TODO: Apply review_to_words to a review (train_X[100] or any other review)\n",
    "review_to_words(train_X[100])"
   ]
  },
  {
   "cell_type": "markdown",
   "metadata": {},
   "source": [
    "**Question:** Above we mentioned that `review_to_words` method removes html formatting and allows us to tokenize the words found in a review, for example, converting *entertained* and *entertaining* into *entertain* so that they are treated as though they are the same word. What else, if anything, does this method do to the input?"
   ]
  },
  {
   "cell_type": "markdown",
   "metadata": {},
   "source": [
    "**Answer:** The method also removes HTML tags, convert string to lower case and split tham into words. In addition, it removes stopwords and punctuations."
   ]
  },
  {
   "cell_type": "markdown",
   "metadata": {},
   "source": [
    "The method below applies the `review_to_words` method to each of the reviews in the training and testing datasets. In addition it caches the results. This is because performing this processing step can take a long time. This way if you are unable to complete the notebook in the current session, you can come back without needing to process the data a second time."
   ]
  },
  {
   "cell_type": "code",
   "execution_count": 9,
   "metadata": {},
   "outputs": [],
   "source": [
    "import pickle\n",
    "\n",
    "cache_dir = os.path.join(\"../cache\", \"sentiment_analysis\")  # where to store cache files\n",
    "os.makedirs(cache_dir, exist_ok=True)  # ensure cache directory exists\n",
    "\n",
    "def preprocess_data(data_train, data_test, labels_train, labels_test,\n",
    "                    cache_dir=cache_dir, cache_file=\"preprocessed_data.pkl\"):\n",
    "    \"\"\"Convert each review to words; read from cache if available.\"\"\"\n",
    "\n",
    "    # If cache_file is not None, try to read from it first\n",
    "    cache_data = None\n",
    "    if cache_file is not None:\n",
    "        try:\n",
    "            with open(os.path.join(cache_dir, cache_file), \"rb\") as f:\n",
    "                cache_data = pickle.load(f)\n",
    "            print(\"Read preprocessed data from cache file:\", cache_file)\n",
    "        except:\n",
    "            pass  # unable to read from cache, but that's okay\n",
    "    \n",
    "    # If cache is missing, then do the heavy lifting\n",
    "    if cache_data is None:\n",
    "        # Preprocess training and test data to obtain words for each review\n",
    "        #words_train = list(map(review_to_words, data_train))\n",
    "        #words_test = list(map(review_to_words, data_test))\n",
    "        words_train = [review_to_words(review) for review in data_train]\n",
    "        words_test = [review_to_words(review) for review in data_test]\n",
    "        \n",
    "        # Write to cache file for future runs\n",
    "        if cache_file is not None:\n",
    "            cache_data = dict(words_train=words_train, words_test=words_test,\n",
    "                              labels_train=labels_train, labels_test=labels_test)\n",
    "            with open(os.path.join(cache_dir, cache_file), \"wb\") as f:\n",
    "                pickle.dump(cache_data, f)\n",
    "            print(\"Wrote preprocessed data to cache file:\", cache_file)\n",
    "    else:\n",
    "        # Unpack data loaded from cache file\n",
    "        words_train, words_test, labels_train, labels_test = (cache_data['words_train'],\n",
    "                cache_data['words_test'], cache_data['labels_train'], cache_data['labels_test'])\n",
    "    \n",
    "    return words_train, words_test, labels_train, labels_test"
   ]
  },
  {
   "cell_type": "code",
   "execution_count": 10,
   "metadata": {},
   "outputs": [
    {
     "name": "stdout",
     "output_type": "stream",
     "text": [
      "Read preprocessed data from cache file: preprocessed_data.pkl\n"
     ]
    }
   ],
   "source": [
    "# Preprocess data\n",
    "train_X, test_X, train_y, test_y = preprocess_data(train_X, test_X, train_y, test_y)"
   ]
  },
  {
   "cell_type": "markdown",
   "metadata": {},
   "source": [
    "## Transform the data\n",
    "\n",
    "In the XGBoost notebook we transformed the data from its word representation to a bag-of-words feature representation. For the model we are going to construct in this notebook we will construct a feature representation which is very similar. To start, we will represent each word as an integer. Of course, some of the words that appear in the reviews occur very infrequently and so likely don't contain much information for the purposes of sentiment analysis. The way we will deal with this problem is that we will fix the size of our working vocabulary and we will only include the words that appear most frequently. We will then combine all of the infrequent words into a single category and, in our case, we will label it as `1`.\n",
    "\n",
    "Since we will be using a recurrent neural network, it will be convenient if the length of each review is the same. To do this, we will fix a size for our reviews and then pad short reviews with the category 'no word' (which we will label `0`) and truncate long reviews."
   ]
  },
  {
   "cell_type": "markdown",
   "metadata": {},
   "source": [
    "### (TODO) Create a word dictionary\n",
    "\n",
    "To begin with, we need to construct a way to map words that appear in the reviews to integers. Here we fix the size of our vocabulary (including the 'no word' and 'infrequent' categories) to be `5000` but you may wish to change this to see how it affects the model.\n",
    "\n",
    "> **TODO:** Complete the implementation for the `build_dict()` method below. Note that even though the vocab_size is set to `5000`, we only want to construct a mapping for the most frequently appearing `4998` words. This is because we want to reserve the special labels `0` for 'no word' and `1` for 'infrequent word'."
   ]
  },
  {
   "cell_type": "code",
   "execution_count": 11,
   "metadata": {},
   "outputs": [],
   "source": [
    "import numpy as np\n",
    "\n",
    "def build_dict(data, vocab_size = 5000):\n",
    "    \"\"\"Construct and return a dictionary mapping each of the most frequently appearing words to a unique integer.\"\"\"\n",
    "    \n",
    "    # TODO: Determine how often each word appears in `data`. Note that `data` is a list of sentences and that a\n",
    "    #       sentence is a list of words. \n",
    "    word_count = {} # A dict storing the words that appear in the reviews along with how often they occur \n",
    "    \n",
    "    for setence in data:\n",
    "        for word in setence:\n",
    "            if word in word_count:\n",
    "                word_count[word] += 1\n",
    "            else:\n",
    "                word_count[word] = 1 \n",
    "                 \n",
    "    \n",
    "    # TODO: Sort the words found in `data` so that sorted_words[0] is the most frequently appearing word and\n",
    "    #       sorted_words[-1] is the least frequently appearing word.\n",
    "    \n",
    "    sorted_words = None\n",
    "    sorted_words = [item[0] for item in sorted(word_count.items(), key = lambda x: x[1], reverse = True)]\n",
    "    \n",
    "    word_dict = {} # This is what we are building, a dictionary that translates words into integers\n",
    "    for idx, word in enumerate(sorted_words[:vocab_size - 2]): # The -2 is so that we save room for the 'no word'\n",
    "        word_dict[word] = idx + 2                              # 'infrequent' labels\n",
    "        \n",
    "    return word_dict"
   ]
  },
  {
   "cell_type": "code",
   "execution_count": 12,
   "metadata": {},
   "outputs": [],
   "source": [
    "word_dict = build_dict(train_X)"
   ]
  },
  {
   "cell_type": "code",
   "execution_count": 13,
   "metadata": {},
   "outputs": [
    {
     "name": "stdout",
     "output_type": "stream",
     "text": [
      "{'movi': 2, 'film': 3, 'one': 4, 'like': 5, 'time': 6, 'good': 7, 'make': 8, 'charact': 9, 'get': 10, 'see': 11, 'watch': 12, 'stori': 13, 'even': 14, 'would': 15, 'realli': 16, 'well': 17, 'scene': 18, 'look': 19, 'show': 20, 'much': 21, 'end': 22, 'peopl': 23, 'bad': 24, 'go': 25, 'great': 26, 'also': 27, 'first': 28, 'love': 29, 'think': 30, 'way': 31, 'act': 32, 'play': 33, 'made': 34, 'thing': 35, 'could': 36, 'know': 37, 'say': 38, 'seem': 39, 'work': 40, 'plot': 41, 'two': 42, 'actor': 43, 'year': 44, 'come': 45, 'mani': 46, 'seen': 47, 'take': 48, 'life': 49, 'want': 50, 'never': 51, 'littl': 52, 'best': 53, 'tri': 54, 'man': 55, 'ever': 56, 'give': 57, 'better': 58, 'still': 59, 'perform': 60, 'find': 61, 'feel': 62, 'part': 63, 'back': 64, 'use': 65, 'someth': 66, 'director': 67, 'actual': 68, 'interest': 69, 'lot': 70, 'real': 71, 'old': 72, 'cast': 73, 'though': 74, 'live': 75, 'star': 76, 'enjoy': 77, 'guy': 78, 'anoth': 79, 'new': 80, 'role': 81, 'noth': 82, '10': 83, 'funni': 84, 'music': 85, 'point': 86, 'start': 87, 'set': 88, 'girl': 89, 'origin': 90, 'day': 91, 'world': 92, 'everi': 93, 'believ': 94, 'turn': 95, 'quit': 96, 'us': 97, 'direct': 98, 'thought': 99, 'fact': 100, 'minut': 101, 'horror': 102, 'kill': 103, 'action': 104, 'comedi': 105, 'pretti': 106, 'young': 107, 'wonder': 108, 'happen': 109, 'around': 110, 'got': 111, 'effect': 112, 'right': 113, 'long': 114, 'howev': 115, 'big': 116, 'line': 117, 'famili': 118, 'enough': 119, 'seri': 120, 'may': 121, 'need': 122, 'fan': 123, 'bit': 124, 'script': 125, 'beauti': 126, 'person': 127, 'becom': 128, 'without': 129, 'must': 130, 'alway': 131, 'friend': 132, 'tell': 133, 'reason': 134, 'saw': 135, 'last': 136, 'final': 137, 'kid': 138, 'almost': 139, 'put': 140, 'least': 141, 'sure': 142, 'done': 143, 'whole': 144, 'place': 145, 'complet': 146, 'kind': 147, 'expect': 148, 'differ': 149, 'shot': 150, 'far': 151, 'mean': 152, 'anyth': 153, 'book': 154, 'laugh': 155, 'might': 156, 'name': 157, 'sinc': 158, 'begin': 159, '2': 160, 'probabl': 161, 'woman': 162, 'help': 163, 'entertain': 164, 'let': 165, 'screen': 166, 'call': 167, 'tv': 168, 'moment': 169, 'away': 170, 'read': 171, 'yet': 172, 'rather': 173, 'worst': 174, 'run': 175, 'fun': 176, 'lead': 177, 'hard': 178, 'audienc': 179, 'idea': 180, 'anyon': 181, 'episod': 182, 'american': 183, 'found': 184, 'appear': 185, 'bore': 186, 'especi': 187, 'although': 188, 'hope': 189, 'cours': 190, 'keep': 191, 'anim': 192, 'job': 193, 'goe': 194, 'move': 195, 'sens': 196, 'dvd': 197, 'version': 198, 'war': 199, 'money': 200, 'someon': 201, 'mind': 202, 'mayb': 203, 'problem': 204, 'true': 205, 'hous': 206, 'everyth': 207, 'nice': 208, 'second': 209, 'rate': 210, 'three': 211, 'night': 212, 'follow': 213, 'face': 214, 'recommend': 215, 'product': 216, 'main': 217, 'worth': 218, 'leav': 219, 'human': 220, 'special': 221, 'excel': 222, 'togeth': 223, 'wast': 224, 'sound': 225, 'everyon': 226, 'john': 227, 'hand': 228, '1': 229, 'father': 230, 'later': 231, 'eye': 232, 'said': 233, 'view': 234, 'instead': 235, 'review': 236, 'boy': 237, 'high': 238, 'hour': 239, 'miss': 240, 'talk': 241, 'classic': 242, 'wife': 243, 'understand': 244, 'left': 245, 'care': 246, 'black': 247, 'death': 248, 'open': 249, 'murder': 250, 'write': 251, 'half': 252, 'head': 253, 'rememb': 254, 'chang': 255, 'viewer': 256, 'fight': 257, 'gener': 258, 'surpris': 259, 'includ': 260, 'short': 261, 'die': 262, 'fall': 263, 'less': 264, 'els': 265, 'entir': 266, 'piec': 267, 'involv': 268, 'pictur': 269, 'simpli': 270, 'power': 271, 'home': 272, 'top': 273, 'total': 274, 'usual': 275, 'budget': 276, 'attempt': 277, 'suppos': 278, 'releas': 279, 'hollywood': 280, 'terribl': 281, 'song': 282, 'men': 283, 'possibl': 284, 'featur': 285, 'portray': 286, 'disappoint': 287, 'poor': 288, '3': 289, 'coupl': 290, 'camera': 291, 'stupid': 292, 'dead': 293, 'wrong': 294, 'produc': 295, 'low': 296, 'video': 297, 'either': 298, 'aw': 299, 'definit': 300, 'except': 301, 'rest': 302, 'given': 303, 'absolut': 304, 'women': 305, 'lack': 306, 'word': 307, 'writer': 308, 'titl': 309, 'talent': 310, 'decid': 311, 'full': 312, 'perfect': 313, 'along': 314, 'style': 315, 'close': 316, 'truli': 317, 'school': 318, 'emot': 319, 'save': 320, 'age': 321, 'sex': 322, 'next': 323, 'bring': 324, 'mr': 325, 'case': 326, 'killer': 327, 'heart': 328, 'comment': 329, 'sort': 330, 'creat': 331, 'perhap': 332, 'came': 333, 'brother': 334, 'sever': 335, 'joke': 336, 'art': 337, 'dialogu': 338, 'game': 339, 'small': 340, 'base': 341, 'flick': 342, 'written': 343, 'sequenc': 344, 'meet': 345, 'earli': 346, 'often': 347, 'other': 348, 'mother': 349, 'develop': 350, 'humor': 351, 'actress': 352, 'consid': 353, 'dark': 354, 'guess': 355, 'amaz': 356, 'unfortun': 357, 'lost': 358, 'light': 359, 'exampl': 360, 'cinema': 361, 'drama': 362, 'white': 363, 'ye': 364, 'experi': 365, 'imagin': 366, 'mention': 367, 'stop': 368, 'natur': 369, 'forc': 370, 'manag': 371, 'felt': 372, 'cut': 373, 'present': 374, 'children': 375, 'fail': 376, 'son': 377, 'support': 378, 'qualiti': 379, 'car': 380, 'ask': 381, 'hit': 382, 'side': 383, 'voic': 384, 'extrem': 385, 'impress': 386, 'wors': 387, 'evil': 388, 'stand': 389, 'went': 390, 'certainli': 391, 'basic': 392, 'oh': 393, 'overal': 394, 'favorit': 395, 'horribl': 396, 'mysteri': 397, 'number': 398, 'type': 399, 'danc': 400, 'wait': 401, 'hero': 402, 'alreadi': 403, '5': 404, 'learn': 405, 'matter': 406, '4': 407, 'michael': 408, 'genr': 409, 'fine': 410, 'despit': 411, 'throughout': 412, 'walk': 413, 'success': 414, 'histori': 415, 'question': 416, 'zombi': 417, 'town': 418, 'relationship': 419, 'realiz': 420, 'past': 421, 'child': 422, 'daughter': 423, 'late': 424, 'b': 425, 'wish': 426, 'hate': 427, 'credit': 428, 'event': 429, 'theme': 430, 'touch': 431, 'citi': 432, 'today': 433, 'sometim': 434, 'behind': 435, 'god': 436, 'twist': 437, 'sit': 438, 'stay': 439, 'deal': 440, 'annoy': 441, 'abl': 442, 'rent': 443, 'pleas': 444, 'edit': 445, 'blood': 446, 'deserv': 447, 'comic': 448, 'anyway': 449, 'appar': 450, 'soon': 451, 'gave': 452, 'etc': 453, 'level': 454, 'slow': 455, 'chanc': 456, 'score': 457, 'bodi': 458, 'brilliant': 459, 'incred': 460, 'figur': 461, 'situat': 462, 'major': 463, 'self': 464, 'stuff': 465, 'decent': 466, 'element': 467, 'dream': 468, 'return': 469, 'obvious': 470, 'continu': 471, 'order': 472, 'pace': 473, 'ridicul': 474, 'happi': 475, 'add': 476, 'highli': 477, 'group': 478, 'thank': 479, 'ladi': 480, 'novel': 481, 'speak': 482, 'pain': 483, 'career': 484, 'shoot': 485, 'strang': 486, 'heard': 487, 'sad': 488, 'husband': 489, 'polic': 490, 'import': 491, 'break': 492, 'took': 493, 'strong': 494, 'cannot': 495, 'predict': 496, 'robert': 497, 'violenc': 498, 'hilari': 499, 'recent': 500, 'countri': 501, 'known': 502, 'particularli': 503, 'pick': 504, 'documentari': 505, 'season': 506, 'critic': 507, 'jame': 508, 'compar': 509, 'alon': 510, 'obviou': 511, 'told': 512, 'state': 513, 'visual': 514, 'rock': 515, 'offer': 516, 'theater': 517, 'exist': 518, 'opinion': 519, 'gore': 520, 'hold': 521, 'crap': 522, 'result': 523, 'room': 524, 'hear': 525, 'realiti': 526, 'clich': 527, 'effort': 528, 'thriller': 529, 'caus': 530, 'explain': 531, 'sequel': 532, 'serious': 533, 'king': 534, 'local': 535, 'ago': 536, 'hell': 537, 'none': 538, 'note': 539, 'allow': 540, 'david': 541, 'sister': 542, 'simpl': 543, 'femal': 544, 'deliv': 545, 'ok': 546, 'convinc': 547, 'class': 548, 'check': 549, 'suspens': 550, 'win': 551, 'oscar': 552, 'buy': 553, 'huge': 554, 'valu': 555, 'sexual': 556, 'cool': 557, 'scari': 558, 'excit': 559, 'similar': 560, 'exactli': 561, 'apart': 562, 'provid': 563, 'shown': 564, 'avoid': 565, 'seriou': 566, 'english': 567, 'whose': 568, 'taken': 569, 'cinematographi': 570, 'shock': 571, 'polit': 572, 'spoiler': 573, 'offic': 574, 'across': 575, 'middl': 576, 'pass': 577, 'street': 578, 'messag': 579, 'somewhat': 580, 'silli': 581, 'charm': 582, 'modern': 583, 'confus': 584, 'filmmak': 585, 'form': 586, 'tale': 587, 'singl': 588, 'jack': 589, 'mostli': 590, 'attent': 591, 'william': 592, 'carri': 593, 'sing': 594, 'five': 595, 'subject': 596, 'richard': 597, 'prove': 598, 'team': 599, 'stage': 600, 'cop': 601, 'unlik': 602, 'georg': 603, 'televis': 604, 'monster': 605, 'earth': 606, 'cover': 607, 'villain': 608, 'pay': 609, 'marri': 610, 'toward': 611, 'build': 612, 'parent': 613, 'pull': 614, 'due': 615, 'respect': 616, 'fill': 617, 'dialog': 618, 'four': 619, 'remind': 620, 'futur': 621, 'typic': 622, 'weak': 623, '7': 624, 'cheap': 625, 'intellig': 626, 'british': 627, 'atmospher': 628, '80': 629, 'clearli': 630, 'non': 631, 'dog': 632, 'paul': 633, '8': 634, 'knew': 635, 'fast': 636, 'artist': 637, 'crime': 638, 'easili': 639, 'escap': 640, 'adult': 641, 'doubt': 642, 'detail': 643, 'date': 644, 'fire': 645, 'member': 646, 'romant': 647, 'gun': 648, 'drive': 649, 'straight': 650, 'beyond': 651, 'fit': 652, 'attack': 653, 'imag': 654, 'upon': 655, 'posit': 656, 'whether': 657, 'fantast': 658, 'peter': 659, 'aspect': 660, 'appreci': 661, 'captur': 662, 'ten': 663, 'plan': 664, 'discov': 665, 'remain': 666, 'near': 667, 'period': 668, 'realist': 669, 'air': 670, 'mark': 671, 'red': 672, 'dull': 673, 'adapt': 674, 'within': 675, 'lose': 676, 'spend': 677, 'color': 678, 'materi': 679, 'chase': 680, 'mari': 681, 'storylin': 682, 'forget': 683, 'bunch': 684, 'clear': 685, 'lee': 686, 'victim': 687, 'nearli': 688, 'box': 689, 'york': 690, 'match': 691, 'inspir': 692, 'mess': 693, 'finish': 694, 'standard': 695, 'easi': 696, 'truth': 697, 'suffer': 698, 'busi': 699, 'dramat': 700, 'space': 701, 'bill': 702, 'western': 703, 'e': 704, 'list': 705, 'battl': 706, 'notic': 707, 'de': 708, 'french': 709, 'ad': 710, '9': 711, 'tom': 712, 'larg': 713, 'among': 714, 'eventu': 715, 'train': 716, 'accept': 717, 'agre': 718, 'soundtrack': 719, 'spirit': 720, 'third': 721, 'teenag': 722, 'soldier': 723, 'adventur': 724, 'famou': 725, 'drug': 726, 'suggest': 727, 'sorri': 728, 'normal': 729, 'cri': 730, 'babi': 731, 'troubl': 732, 'ultim': 733, 'contain': 734, 'certain': 735, 'cultur': 736, 'romanc': 737, 'rare': 738, 'lame': 739, 'somehow': 740, 'mix': 741, 'disney': 742, 'gone': 743, 'cartoon': 744, 'student': 745, 'reveal': 746, 'fear': 747, 'suck': 748, 'kept': 749, 'attract': 750, 'appeal': 751, 'premis': 752, 'greatest': 753, 'design': 754, 'secret': 755, 'shame': 756, 'throw': 757, 'scare': 758, 'copi': 759, 'wit': 760, 'america': 761, 'admit': 762, 'brought': 763, 'relat': 764, 'particular': 765, 'screenplay': 766, 'whatev': 767, 'pure': 768, '70': 769, 'averag': 770, 'harri': 771, 'master': 772, 'describ': 773, 'treat': 774, 'male': 775, '20': 776, 'issu': 777, 'fantasi': 778, 'warn': 779, 'inde': 780, 'forward': 781, 'background': 782, 'free': 783, 'project': 784, 'japanes': 785, 'memor': 786, 'poorli': 787, 'award': 788, 'locat': 789, 'potenti': 790, 'amus': 791, 'struggl': 792, 'magic': 793, 'weird': 794, 'societi': 795, 'okay': 796, 'accent': 797, 'doctor': 798, 'imdb': 799, 'hot': 800, 'water': 801, 'alien': 802, '30': 803, 'dr': 804, 'express': 805, 'odd': 806, 'crazi': 807, 'choic': 808, 'studio': 809, 'fiction': 810, 'control': 811, 'becam': 812, 'masterpiec': 813, 'fli': 814, 'difficult': 815, 'joe': 816, 'scream': 817, 'costum': 818, 'lover': 819, 'refer': 820, 'uniqu': 821, 'remak': 822, 'girlfriend': 823, 'vampir': 824, 'prison': 825, 'execut': 826, 'wear': 827, 'jump': 828, 'unless': 829, 'wood': 830, 'creepi': 831, 'cheesi': 832, 'superb': 833, 'otherwis': 834, 'parti': 835, 'ghost': 836, 'roll': 837, 'public': 838, 'mad': 839, 'depict': 840, 'badli': 841, 'earlier': 842, 'week': 843, 'moral': 844, 'jane': 845, 'dumb': 846, 'fi': 847, 'grow': 848, 'flaw': 849, 'deep': 850, 'sci': 851, 'maker': 852, 'cat': 853, 'footag': 854, 'older': 855, 'connect': 856, 'bother': 857, 'plenti': 858, 'outsid': 859, 'stick': 860, 'gay': 861, 'catch': 862, 'plu': 863, 'co': 864, 'popular': 865, 'equal': 866, 'social': 867, 'disturb': 868, 'quickli': 869, 'perfectli': 870, 'dress': 871, 'era': 872, '90': 873, 'mistak': 874, 'lie': 875, 'ride': 876, 'previou': 877, 'combin': 878, 'concept': 879, 'band': 880, 'answer': 881, 'surviv': 882, 'rich': 883, 'front': 884, 'sweet': 885, 'christma': 886, 'insid': 887, 'eat': 888, 'concern': 889, 'bare': 890, 'beat': 891, 'ben': 892, 'listen': 893, 'c': 894, 'serv': 895, 'term': 896, 'german': 897, 'la': 898, 'meant': 899, 'hardli': 900, 'stereotyp': 901, 'law': 902, 'innoc': 903, 'desper': 904, 'memori': 905, 'promis': 906, 'intent': 907, 'cute': 908, 'inform': 909, 'variou': 910, 'steal': 911, 'brain': 912, 'post': 913, 'tone': 914, 'island': 915, 'amount': 916, 'track': 917, 'nuditi': 918, 'compani': 919, 'claim': 920, 'store': 921, '50': 922, 'hair': 923, 'flat': 924, 'land': 925, 'univers': 926, 'fairli': 927, 'kick': 928, 'danger': 929, 'scott': 930, 'player': 931, 'step': 932, 'plain': 933, 'crew': 934, 'toni': 935, 'share': 936, 'tast': 937, 'centuri': 938, 'achiev': 939, 'engag': 940, 'cold': 941, 'travel': 942, 'record': 943, 'rip': 944, 'suit': 945, 'manner': 946, 'sadli': 947, 'tension': 948, 'wrote': 949, 'spot': 950, 'fascin': 951, 'intens': 952, 'familiar': 953, 'depth': 954, 'burn': 955, 'remark': 956, 'destroy': 957, 'histor': 958, 'sleep': 959, 'purpos': 960, 'languag': 961, 'ruin': 962, 'ignor': 963, 'delight': 964, 'italian': 965, 'unbeliev': 966, 'collect': 967, 'abil': 968, 'soul': 969, 'detect': 970, 'clever': 971, 'violent': 972, 'rape': 973, 'reach': 974, 'door': 975, 'liter': 976, 'trash': 977, 'scienc': 978, 'commun': 979, 'reveng': 980, 'caught': 981, 'creatur': 982, 'approach': 983, 'trip': 984, 'fashion': 985, 'intrigu': 986, 'introduc': 987, 'paint': 988, 'skill': 989, 'complex': 990, 'channel': 991, 'camp': 992, 'christian': 993, 'extra': 994, 'hole': 995, 'limit': 996, 'immedi': 997, 'mental': 998, 'ann': 999, 'million': 1000, 'mere': 1001, '6': 1002, 'slightli': 1003, 'comput': 1004, 'slasher': 1005, 'conclus': 1006, 'imposs': 1007, 'suddenli': 1008, 'teen': 1009, 'crimin': 1010, 'neither': 1011, 'spent': 1012, 'physic': 1013, 'nation': 1014, 'respons': 1015, 'planet': 1016, 'receiv': 1017, 'fake': 1018, 'blue': 1019, 'sick': 1020, 'bizarr': 1021, 'embarrass': 1022, 'indian': 1023, '15': 1024, 'ring': 1025, 'drop': 1026, 'pop': 1027, 'drag': 1028, 'haunt': 1029, 'pointless': 1030, 'suspect': 1031, 'search': 1032, 'edg': 1033, 'handl': 1034, 'biggest': 1035, 'common': 1036, 'faith': 1037, 'arriv': 1038, 'hurt': 1039, 'technic': 1040, 'angel': 1041, 'dad': 1042, 'genuin': 1043, 'f': 1044, 'solid': 1045, 'awesom': 1046, 'colleg': 1047, 'former': 1048, 'van': 1049, 'focu': 1050, 'count': 1051, 'heavi': 1052, 'tear': 1053, 'rais': 1054, 'wall': 1055, 'visit': 1056, 'younger': 1057, 'laughabl': 1058, 'sign': 1059, 'fair': 1060, 'excus': 1061, 'cult': 1062, 'motion': 1063, 'key': 1064, 'tough': 1065, 'desir': 1066, 'super': 1067, 'addit': 1068, 'stun': 1069, 'cloth': 1070, 'exploit': 1071, 'tortur': 1072, 'smith': 1073, 'race': 1074, 'davi': 1075, 'cross': 1076, 'author': 1077, 'jim': 1078, 'focus': 1079, 'compel': 1080, 'consist': 1081, 'minor': 1082, 'commit': 1083, 'pathet': 1084, 'chemistri': 1085, 'park': 1086, 'obsess': 1087, 'frank': 1088, 'tradit': 1089, 'grade': 1090, '60': 1091, 'asid': 1092, 'brutal': 1093, 'somewher': 1094, 'steve': 1095, 'opportun': 1096, 'u': 1097, 'depress': 1098, 'rule': 1099, 'explor': 1100, 'grant': 1101, 'honest': 1102, 'besid': 1103, 'anti': 1104, 'dub': 1105, 'intend': 1106, 'trailer': 1107, 'bar': 1108, 'west': 1109, 'regard': 1110, 'longer': 1111, 'scientist': 1112, 'decad': 1113, 'judg': 1114, 'silent': 1115, 'armi': 1116, 'creativ': 1117, 'wild': 1118, 'south': 1119, 'stewart': 1120, 'g': 1121, 'draw': 1122, 'road': 1123, 'govern': 1124, 'ex': 1125, 'boss': 1126, 'practic': 1127, 'festiv': 1128, 'surprisingli': 1129, 'gang': 1130, 'motiv': 1131, 'club': 1132, 'redeem': 1133, 'page': 1134, 'green': 1135, 'london': 1136, 'machin': 1137, 'display': 1138, 'idiot': 1139, 'militari': 1140, 'aliv': 1141, 'thrill': 1142, 'repeat': 1143, '100': 1144, 'yeah': 1145, 'folk': 1146, 'nobodi': 1147, '40': 1148, 'journey': 1149, 'garbag': 1150, 'smile': 1151, 'tire': 1152, 'ground': 1153, 'bought': 1154, 'mood': 1155, 'stone': 1156, 'cost': 1157, 'sam': 1158, 'mouth': 1159, 'noir': 1160, 'terrif': 1161, 'agent': 1162, 'utterli': 1163, 'requir': 1164, 'area': 1165, 'honestli': 1166, 'sexi': 1167, 'geniu': 1168, 'report': 1169, 'humour': 1170, 'enter': 1171, 'investig': 1172, 'glad': 1173, 'serial': 1174, 'occasion': 1175, 'passion': 1176, 'narr': 1177, 'climax': 1178, 'marriag': 1179, 'industri': 1180, 'studi': 1181, 'charli': 1182, 'demon': 1183, 'center': 1184, 'nowher': 1185, 'ship': 1186, 'loos': 1187, 'hors': 1188, 'bear': 1189, 'wow': 1190, 'hang': 1191, 'graphic': 1192, 'giant': 1193, 'admir': 1194, 'send': 1195, 'damn': 1196, 'loud': 1197, 'subtl': 1198, 'profession': 1199, 'nake': 1200, 'rel': 1201, 'blow': 1202, 'bottom': 1203, 'insult': 1204, 'batman': 1205, 'r': 1206, 'kelli': 1207, 'boyfriend': 1208, 'doubl': 1209, 'initi': 1210, 'frame': 1211, 'gem': 1212, 'opera': 1213, 'challeng': 1214, 'church': 1215, 'affect': 1216, 'cinemat': 1217, 'drawn': 1218, 'j': 1219, 'seek': 1220, 'fulli': 1221, 'l': 1222, 'nightmar': 1223, 'evid': 1224, 'conflict': 1225, 'arm': 1226, 'essenti': 1227, 'wind': 1228, 'grace': 1229, 'christoph': 1230, 'henri': 1231, 'narrat': 1232, 'witch': 1233, 'assum': 1234, 'push': 1235, 'hunt': 1236, 'wise': 1237, 'chri': 1238, 'month': 1239, 'repres': 1240, 'nomin': 1241, 'sceneri': 1242, 'hide': 1243, 'avail': 1244, 'affair': 1245, 'smart': 1246, 'justic': 1247, 'thu': 1248, 'bond': 1249, 'outstand': 1250, 'interview': 1251, 'flashback': 1252, 'satisfi': 1253, 'constantli': 1254, 'presenc': 1255, 'central': 1256, 'bed': 1257, 'iron': 1258, 'sell': 1259, 'content': 1260, 'everybodi': 1261, 'gag': 1262, 'slowli': 1263, 'hotel': 1264, 'hire': 1265, 'system': 1266, 'individu': 1267, 'hey': 1268, 'charl': 1269, 'thrown': 1270, 'adam': 1271, 'mediocr': 1272, 'jone': 1273, 'allen': 1274, 'billi': 1275, 'ray': 1276, 'lesson': 1277, 'cameo': 1278, 'photographi': 1279, 'fellow': 1280, 'pari': 1281, 'strike': 1282, 'rise': 1283, 'brief': 1284, 'absurd': 1285, 'independ': 1286, 'neg': 1287, 'impact': 1288, 'phone': 1289, 'ill': 1290, 'born': 1291, 'model': 1292, 'angl': 1293, 'spoil': 1294, 'fresh': 1295, 'likabl': 1296, 'abus': 1297, 'discuss': 1298, 'hill': 1299, 'sight': 1300, 'ahead': 1301, 'photograph': 1302, 'sent': 1303, 'logic': 1304, 'blame': 1305, 'occur': 1306, 'shine': 1307, 'mainli': 1308, 'bruce': 1309, 'commerci': 1310, 'forev': 1311, 'skip': 1312, 'surround': 1313, 'held': 1314, 'segment': 1315, 'teacher': 1316, 'zero': 1317, 'blond': 1318, 'trap': 1319, 'summer': 1320, 'satir': 1321, 'resembl': 1322, 'ball': 1323, 'fool': 1324, 'queen': 1325, 'six': 1326, 'twice': 1327, 'sub': 1328, 'tragedi': 1329, 'pack': 1330, 'reaction': 1331, 'bomb': 1332, 'hospit': 1333, 'will': 1334, 'protagonist': 1335, 'mile': 1336, 'sport': 1337, 'mom': 1338, 'vote': 1339, 'trust': 1340, 'drink': 1341, 'jerri': 1342, 'encount': 1343, 'plane': 1344, 'al': 1345, 'station': 1346, 'current': 1347, 'program': 1348, 'martin': 1349, 'choos': 1350, 'celebr': 1351, 'join': 1352, 'round': 1353, 'favourit': 1354, 'field': 1355, 'lord': 1356, 'tragic': 1357, 'jean': 1358, 'robot': 1359, 'vision': 1360, 'tie': 1361, 'arthur': 1362, 'random': 1363, 'roger': 1364, 'fortun': 1365, 'intern': 1366, 'dread': 1367, 'psycholog': 1368, 'epic': 1369, 'nonsens': 1370, 'prefer': 1371, 'improv': 1372, 'highlight': 1373, 'legend': 1374, 'formula': 1375, 'pleasur': 1376, '11': 1377, 'dollar': 1378, 'tape': 1379, 'thin': 1380, 'porn': 1381, 'wide': 1382, 'gorgeou': 1383, 'fox': 1384, 'object': 1385, 'ugli': 1386, 'influenc': 1387, 'buddi': 1388, 'prepar': 1389, 'nasti': 1390, 'ii': 1391, 'reflect': 1392, 'progress': 1393, 'warm': 1394, 'supposedli': 1395, 'youth': 1396, 'worthi': 1397, 'unusu': 1398, 'length': 1399, 'latter': 1400, 'crash': 1401, 'childhood': 1402, 'seven': 1403, 'superior': 1404, 'shop': 1405, 'remot': 1406, 'theatr': 1407, 'disgust': 1408, 'paid': 1409, 'pilot': 1410, 'funniest': 1411, 'fell': 1412, 'trick': 1413, 'convers': 1414, 'castl': 1415, 'disast': 1416, 'gangster': 1417, 'rob': 1418, 'establish': 1419, 'suicid': 1420, 'mine': 1421, 'ident': 1422, 'heaven': 1423, 'disappear': 1424, 'tend': 1425, 'forgotten': 1426, 'mask': 1427, 'decis': 1428, 'singer': 1429, 'heroin': 1430, 'brian': 1431, 'partner': 1432, 'alan': 1433, 'desert': 1434, 'recogn': 1435, 'thoroughli': 1436, 'p': 1437, 'sky': 1438, 'stuck': 1439, 'ms': 1440, 'replac': 1441, 'accur': 1442, 'market': 1443, 'commentari': 1444, 'seemingli': 1445, 'danni': 1446, 'clue': 1447, 'andi': 1448, 'uncl': 1449, 'eddi': 1450, 'jackson': 1451, 'devil': 1452, 'pair': 1453, 'refus': 1454, 'that': 1455, 'therefor': 1456, 'fate': 1457, 'ed': 1458, 'unit': 1459, 'accid': 1460, 'river': 1461, 'fault': 1462, 'tune': 1463, 'afraid': 1464, 'hidden': 1465, 'clean': 1466, 'stephen': 1467, 'russian': 1468, 'readi': 1469, 'instanc': 1470, 'irrit': 1471, 'captain': 1472, 'test': 1473, 'quick': 1474, 'convey': 1475, 'european': 1476, 'daniel': 1477, 'frustrat': 1478, 'insan': 1479, '1950': 1480, 'rescu': 1481, 'wed': 1482, 'food': 1483, 'chines': 1484, 'dirti': 1485, 'lock': 1486, 'angri': 1487, 'joy': 1488, 'steven': 1489, 'price': 1490, 'cage': 1491, 'bland': 1492, 'anymor': 1493, 'rang': 1494, 'wooden': 1495, 'news': 1496, 'rush': 1497, 'jason': 1498, 'n': 1499, '12': 1500, 'board': 1501, 'led': 1502, 'worri': 1503, 'martial': 1504, 'twenti': 1505, 'hunter': 1506, 'symbol': 1507, 'cgi': 1508, 'transform': 1509, 'invent': 1510, 'onto': 1511, 'piti': 1512, 'sentiment': 1513, 'johnni': 1514, 'x': 1515, 'attitud': 1516, 'process': 1517, 'explan': 1518, 'awar': 1519, 'owner': 1520, 'aim': 1521, 'necessari': 1522, 'favor': 1523, 'target': 1524, 'energi': 1525, 'floor': 1526, 'religi': 1527, 'opposit': 1528, 'window': 1529, 'blind': 1530, 'chick': 1531, 'insight': 1532, 'movement': 1533, 'deepli': 1534, 'possess': 1535, 'comparison': 1536, 'research': 1537, 'mountain': 1538, 'whatsoev': 1539, 'comed': 1540, 'grand': 1541, 'rain': 1542, 'mid': 1543, 'began': 1544, 'shadow': 1545, 'bank': 1546, 'parodi': 1547, 'princ': 1548, 'credibl': 1549, 'weapon': 1550, 'pre': 1551, 'friendship': 1552, 'taylor': 1553, 'flesh': 1554, 'dougla': 1555, 'teach': 1556, 'terror': 1557, 'hint': 1558, 'protect': 1559, 'bloodi': 1560, 'marvel': 1561, 'anybodi': 1562, 'watchabl': 1563, 'leader': 1564, 'accord': 1565, 'load': 1566, 'drunk': 1567, 'superman': 1568, 'brown': 1569, 'freddi': 1570, 'jeff': 1571, 'appropri': 1572, 'seat': 1573, 'hitler': 1574, 'tim': 1575, 'charg': 1576, 'unknown': 1577, 'knock': 1578, 'villag': 1579, 'keaton': 1580, 'england': 1581, 'enemi': 1582, 'media': 1583, 'empti': 1584, 'unnecessari': 1585, 'wave': 1586, 'dare': 1587, 'craft': 1588, 'perspect': 1589, 'strength': 1590, 'buck': 1591, 'utter': 1592, 'nativ': 1593, 'contrast': 1594, 'kiss': 1595, 'ford': 1596, 'correct': 1597, 'knowledg': 1598, 'chill': 1599, 'magnific': 1600, 'anywher': 1601, 'speed': 1602, 'distract': 1603, 'nazi': 1604, 'soap': 1605, '1980': 1606, 'fred': 1607, 'breath': 1608, 'mission': 1609, 'ice': 1610, 'jr': 1611, 'joan': 1612, 'crowd': 1613, 'moon': 1614, 'soft': 1615, '000': 1616, 'frighten': 1617, 'kate': 1618, 'hundr': 1619, 'dick': 1620, 'dan': 1621, 'nick': 1622, 'dozen': 1623, 'radio': 1624, 'simon': 1625, 'somebodi': 1626, 'academi': 1627, 'shakespear': 1628, 'thousand': 1629, 'loss': 1630, 'andrew': 1631, 'account': 1632, 'quot': 1633, 'sum': 1634, 'root': 1635, 'vehicl': 1636, '1970': 1637, 'leg': 1638, 'convent': 1639, 'behavior': 1640, 'regular': 1641, 'gold': 1642, 'pretenti': 1643, 'demand': 1644, 'compet': 1645, 'worker': 1646, 'japan': 1647, 'interpret': 1648, 'stretch': 1649, 'notabl': 1650, 'explos': 1651, 'privat': 1652, 'lynch': 1653, 'candi': 1654, 'debut': 1655, 'constant': 1656, 'tarzan': 1657, 'prais': 1658, 'sea': 1659, 'revolv': 1660, 'spi': 1661, 'translat': 1662, 'quiet': 1663, 'sat': 1664, 'franc': 1665, 'technolog': 1666, 'ass': 1667, 'failur': 1668, 'threaten': 1669, 'jesu': 1670, 'higher': 1671, 'aid': 1672, 'punch': 1673, 'toy': 1674, 'met': 1675, 'kevin': 1676, 'interact': 1677, 'vh': 1678, 'abandon': 1679, 'mike': 1680, 'bet': 1681, 'command': 1682, 'separ': 1683, 'confront': 1684, 'site': 1685, 'techniqu': 1686, 'stunt': 1687, 'belong': 1688, 'servic': 1689, 'recal': 1690, 'gotten': 1691, 'foot': 1692, 'cabl': 1693, 'bug': 1694, 'freak': 1695, 'african': 1696, 'capabl': 1697, 'bright': 1698, 'jimmi': 1699, 'fu': 1700, 'clark': 1701, 'stock': 1702, 'presid': 1703, 'fat': 1704, 'boat': 1705, 'succeed': 1706, 'structur': 1707, 'gene': 1708, 'spanish': 1709, 'paper': 1710, 'kidnap': 1711, 'whilst': 1712, 'factor': 1713, 'belief': 1714, 'realis': 1715, 'educ': 1716, 'realism': 1717, 'tree': 1718, 'complic': 1719, 'witti': 1720, 'attend': 1721, 'bob': 1722, 'finest': 1723, 'santa': 1724, 'broken': 1725, 'assist': 1726, 'smoke': 1727, 'determin': 1728, 'v': 1729, 'observ': 1730, 'depart': 1731, 'up': 1732, 'domin': 1733, 'rubbish': 1734, 'oper': 1735, 'fame': 1736, 'lewi': 1737, 'hat': 1738, 'routin': 1739, 'hook': 1740, 'kinda': 1741, 'foreign': 1742, 'advanc': 1743, 'lone': 1744, 'morgan': 1745, 'safe': 1746, 'rank': 1747, 'numer': 1748, 'shape': 1749, 'civil': 1750, 'shallow': 1751, 'washington': 1752, 'vs': 1753, 'rose': 1754, 'werewolf': 1755, 'morn': 1756, 'gari': 1757, 'winner': 1758, 'ordinari': 1759, 'kong': 1760, 'accomplish': 1761, 'peac': 1762, 'virtual': 1763, 'whenev': 1764, 'grab': 1765, 'h': 1766, 'offens': 1767, 'luck': 1768, 'complain': 1769, 'welcom': 1770, 'bigger': 1771, 'activ': 1772, 'contriv': 1773, 'unfunni': 1774, 'patient': 1775, 'pretend': 1776, 'dimension': 1777, 'trek': 1778, 'con': 1779, 'flash': 1780, 'eric': 1781, 'wake': 1782, 'dri': 1783, 'cain': 1784, 'code': 1785, 'lesbian': 1786, 'manipul': 1787, 'statu': 1788, 'guard': 1789, 'albert': 1790, 'dancer': 1791, 'corrupt': 1792, 'speech': 1793, 'context': 1794, 'signific': 1795, 'awkward': 1796, 'gain': 1797, 'sourc': 1798, '13': 1799, 'corni': 1800, 'psycho': 1801, 'sean': 1802, 'clip': 1803, 'anthoni': 1804, 'advic': 1805, 'theatric': 1806, 'w': 1807, 'priest': 1808, 'curiou': 1809, 'reli': 1810, 'religion': 1811, 'addict': 1812, 'flow': 1813, 'howard': 1814, 'skin': 1815, 'asian': 1816, 'specif': 1817, 'jennif': 1818, 'secur': 1819, 'luke': 1820, 'promot': 1821, 'organ': 1822, 'core': 1823, 'comfort': 1824, 'golden': 1825, 'cash': 1826, 'cheat': 1827, 'lucki': 1828, 'dislik': 1829, 'lower': 1830, 'associ': 1831, 'devic': 1832, 'degre': 1833, 'frequent': 1834, 'contribut': 1835, 'spell': 1836, 'regret': 1837, 'balanc': 1838, 'wing': 1839, 'frankli': 1840, 'sake': 1841, 'print': 1842, 'forgiv': 1843, 'lake': 1844, 'thoma': 1845, 'mass': 1846, 'betti': 1847, 'crack': 1848, 'unexpect': 1849, 'gordon': 1850, 'unfold': 1851, 'grown': 1852, 'invit': 1853, 'construct': 1854, 'amateur': 1855, 'depend': 1856, 'categori': 1857, 'condit': 1858, 'honor': 1859, 'anna': 1860, 'grew': 1861, 'matur': 1862, 'walter': 1863, 'intellectu': 1864, 'sudden': 1865, 'mirror': 1866, 'sole': 1867, 'spectacular': 1868, 'veteran': 1869, 'gift': 1870, 'card': 1871, 'liner': 1872, 'robin': 1873, 'grip': 1874, 'demonstr': 1875, 'freedom': 1876, 'experienc': 1877, 'overli': 1878, 'meanwhil': 1879, 'section': 1880, 'theori': 1881, 'oliv': 1882, 'subtitl': 1883, 'brilliantli': 1884, 'circumst': 1885, 'colour': 1886, 'drew': 1887, 'crappi': 1888, 'unabl': 1889, 'sheriff': 1890, 'matt': 1891, 'sheer': 1892, 'pile': 1893, 'laughter': 1894, 'cook': 1895, 'path': 1896, 'altern': 1897, 'parker': 1898, 'hall': 1899, 'sinatra': 1900, 'defin': 1901, 'wander': 1902, 'relief': 1903, 'accident': 1904, 'lawyer': 1905, 'treatment': 1906, 'hank': 1907, 'dragon': 1908, 'captiv': 1909, 'gratuit': 1910, 'halloween': 1911, 'moor': 1912, 'wound': 1913, 'unintent': 1914, 'broadway': 1915, 'barbara': 1916, 'k': 1917, 'jacki': 1918, 'kung': 1919, 'cowboy': 1920, 'wayn': 1921, 'spoof': 1922, 'surreal': 1923, 'statement': 1924, 'canadian': 1925, 'winter': 1926, 'treasur': 1927, 'fare': 1928, 'cheer': 1929, 'gonna': 1930, 'fish': 1931, 'compos': 1932, 'sensit': 1933, 'victor': 1934, 'emerg': 1935, 'unrealist': 1936, 'woodi': 1937, 'ran': 1938, 'driven': 1939, 'sympathet': 1940, 'neighbor': 1941, 'menac': 1942, 'topic': 1943, 'authent': 1944, 'glass': 1945, 'overlook': 1946, 'expos': 1947, 'michel': 1948, 'gross': 1949, 'handsom': 1950, 'ancient': 1951, 'chief': 1952, 'contemporari': 1953, 'stranger': 1954, 'pleasant': 1955, 'built': 1956, 'feet': 1957, 'comedian': 1958, 'nevertheless': 1959, 'network': 1960, 'cinderella': 1961, 'russel': 1962, 'gori': 1963, 'earn': 1964, 'blockbust': 1965, 'miser': 1966, 'consider': 1967, 'letter': 1968, 'endless': 1969, 'underr': 1970, 'solv': 1971, 'brook': 1972, 'switch': 1973, 'bullet': 1974, 'convict': 1975, 'victoria': 1976, 'edward': 1977, 'virgin': 1978, 'joseph': 1979, 'cynic': 1980, 'scenario': 1981, 'scale': 1982, 'alex': 1983, '0': 1984, 'chosen': 1985, 'sword': 1986, 'com': 1987, 'curs': 1988, 'outrag': 1989, 'gut': 1990, 'proper': 1991, 'substanc': 1992, 'driver': 1993, 'wrap': 1994, 'monkey': 1995, 'screenwrit': 1996, 'uk': 1997, 'juli': 1998, 'bird': 1999, 'par': 2000, 'court': 2001, 'indic': 2002, 'remov': 2003, 'loser': 2004, 'advertis': 2005, 'rental': 2006, 'grave': 2007, 'naiv': 2008, 'consequ': 2009, 'inevit': 2010, 'nanci': 2011, 'roy': 2012, 'fatal': 2013, 'germani': 2014, 'slap': 2015, 'bridg': 2016, 'invis': 2017, 'le': 2018, 'brave': 2019, 'footbal': 2020, 'ador': 2021, 'provok': 2022, 'anger': 2023, 'loui': 2024, 'alcohol': 2025, 'chan': 2026, 'anderson': 2027, 'professor': 2028, 'stumbl': 2029, 'ryan': 2030, 'willi': 2031, 'assassin': 2032, 'australian': 2033, '1930': 2034, 'sharp': 2035, 'patrick': 2036, 'bat': 2037, 'refresh': 2038, 'lousi': 2039, 'heck': 2040, 'trilog': 2041, 'eight': 2042, 'deni': 2043, 'ape': 2044, 'amateurish': 2045, 'cell': 2046, 'saturday': 2047, 'strongli': 2048, 'liber': 2049, 'sin': 2050, 'vagu': 2051, 'justifi': 2052, 'san': 2053, 'resid': 2054, 'terrifi': 2055, 'defeat': 2056, 'indi': 2057, 'mini': 2058, 'creator': 2059, 'sympathi': 2060, 'reput': 2061, 'tabl': 2062, 'tediou': 2063, 'endur': 2064, 'expert': 2065, 'prevent': 2066, 'task': 2067, 'offend': 2068, 'rival': 2069, 'imit': 2070, 'basebal': 2071, 'che': 2072, 'employ': 2073, 'trial': 2074, 'beach': 2075, 'max': 2076, 'weekend': 2077, 'pitch': 2078, 'dig': 2079, 'fairi': 2080, 'complaint': 2081, 'europ': 2082, 'risk': 2083, 'purchas': 2084, 'format': 2085, 'murphi': 2086, 'titan': 2087, 'reminisc': 2088, 'glimps': 2089, 'bite': 2090, 'powel': 2091, 'harsh': 2092, 'nois': 2093, 'tini': 2094, 'hype': 2095, 'fals': 2096, '14': 2097, 'north': 2098, 'till': 2099, 'prime': 2100, 'asleep': 2101, 'strip': 2102, 'descript': 2103, 'destruct': 2104, 'texa': 2105, 'revel': 2106, 'africa': 2107, 'excess': 2108, 'uninterest': 2109, 'inner': 2110, 'spin': 2111, 'surfac': 2112, 'sitcom': 2113, 'semi': 2114, 'arrest': 2115, 'controversi': 2116, 'twin': 2117, 'maintain': 2118, 'massiv': 2119, 'makeup': 2120, 'argu': 2121, 'hitchcock': 2122, 'dinosaur': 2123, 'reject': 2124, 'melodrama': 2125, 'ludicr': 2126, 'stare': 2127, 'kim': 2128, 'ideal': 2129, 'expens': 2130, 'insist': 2131, 'press': 2132, 'erot': 2133, 'atroci': 2134, 'host': 2135, 'supernatur': 2136, 'ga': 2137, 'ala': 2138, 'nail': 2139, 'forest': 2140, 'subplot': 2141, 'columbo': 2142, 'notch': 2143, 'cant': 2144, 'dude': 2145, 'presum': 2146, 'identifi': 2147, 'forgett': 2148, 'crude': 2149, 'method': 2150, 'plagu': 2151, 'guest': 2152, 'closer': 2153, 'character': 2154, 'landscap': 2155, 'ear': 2156, 'foster': 2157, 'princess': 2158, 'border': 2159, 'lion': 2160, 'beast': 2161, 'pacino': 2162, 'accus': 2163, 'previous': 2164, 'storytel': 2165, 'birth': 2166, 'urban': 2167, 'aunt': 2168, 'damag': 2169, 'bound': 2170, 'jungl': 2171, 'jess': 2172, 'thirti': 2173, 'emma': 2174, 'nude': 2175, 'propaganda': 2176, 'chose': 2177, 'guid': 2178, 'doll': 2179, 'pet': 2180, 'mate': 2181, '25': 2182, 'whoever': 2183, 'mainstream': 2184, 'warrior': 2185, 'latest': 2186, 'exact': 2187, 'gritti': 2188, 'poster': 2189, 'deadli': 2190, 'friday': 2191, 'merit': 2192, 'size': 2193, 'cooper': 2194, 'upset': 2195, 'corps': 2196, 'sun': 2197, 'ton': 2198, 'contest': 2199, 'popul': 2200, 'buff': 2201, 'settl': 2202, 'wilson': 2203, 'warner': 2204, 'contact': 2205, '1990': 2206, 'blend': 2207, 'citizen': 2208, 'rough': 2209, 'bu': 2210, 'alic': 2211, 'pitt': 2212, 'overcom': 2213, 'mgm': 2214, 'environ': 2215, 'widow': 2216, 'metal': 2217, 'rat': 2218, 'select': 2219, 'guilti': 2220, 'link': 2221, 'particip': 2222, 'lift': 2223, 'revolut': 2224, 'ted': 2225, 'accompani': 2226, 'prostitut': 2227, '1960': 2228, 'afternoon': 2229, 'johnson': 2230, 'corner': 2231, 'moron': 2232, 'corpor': 2233, 'exagger': 2234, 'matrix': 2235, 'holm': 2236, 'sincer': 2237, 'leagu': 2238, 'hood': 2239, 'doom': 2240, 'multipl': 2241, 'clair': 2242, 'instal': 2243, 'friendli': 2244, 'defend': 2245, 'junk': 2246, 'irish': 2247, 'hip': 2248, 'sunday': 2249, 'aka': 2250, 'grim': 2251, 'examin': 2252, 'string': 2253, 'advis': 2254, 'lugosi': 2255, 'campi': 2256, 'blah': 2257, 'shut': 2258, 'varieti': 2259, 'tight': 2260, 'rachel': 2261, 'icon': 2262, 'confid': 2263, 'shake': 2264, 'pro': 2265, 'goal': 2266, 'mexican': 2267, 'medic': 2268, 'sullivan': 2269, 'attach': 2270, 'jaw': 2271, 'denni': 2272, 'directli': 2273, 'prior': 2274, 'sarah': 2275, 'terrorist': 2276, 'vietnam': 2277, 'courag': 2278, 'dean': 2279, 'sentenc': 2280, 'legendari': 2281, 'breast': 2282, 'bourn': 2283, 'duke': 2284, 'truck': 2285, 'yell': 2286, 'entri': 2287, 'split': 2288, 'behav': 2289, 'nose': 2290, 'donald': 2291, 'proceed': 2292, 'hong': 2293, 'un': 2294, 'everywher': 2295, 'gather': 2296, 'jerk': 2297, 'borrow': 2298, 'buri': 2299, 'concentr': 2300, 'unconvinc': 2301, 'lifetim': 2302, 'swim': 2303, 'confess': 2304, 'stolen': 2305, 'crush': 2306, 'forth': 2307, 'california': 2308, 'julia': 2309, 'spite': 2310, 'lip': 2311, 'turkey': 2312, 'deliveri': 2313, 'pan': 2314, 'downright': 2315, 'flight': 2316, 'freeman': 2317, 'reward': 2318, 'china': 2319, 'offici': 2320, 'quest': 2321, 'hoffman': 2322, 'proud': 2323, 'encourag': 2324, 'betray': 2325, 'worthwhil': 2326, 'fabul': 2327, 'lazi': 2328, 'inept': 2329, 'jail': 2330, 'fade': 2331, 'sink': 2332, 'jon': 2333, 'sir': 2334, 'notori': 2335, 'retard': 2336, 'branagh': 2337, 'bell': 2338, 'relev': 2339, 'lisa': 2340, 'storm': 2341, 'bag': 2342, 'survivor': 2343, 'imageri': 2344, 'susan': 2345, 'shower': 2346, 'teeth': 2347, 'cousin': 2348, 'mexico': 2349, 'facial': 2350, 'hugh': 2351, 'finger': 2352, 'stab': 2353, 'alright': 2354, 'tremend': 2355, 'summari': 2356, 'bride': 2357, 'toler': 2358, 'shark': 2359, 'quirki': 2360, 'trade': 2361, 'pose': 2362, 'ha': 2363, 'blown': 2364, 'bitter': 2365, 'hyster': 2366, 'von': 2367, 'scheme': 2368, 'afterward': 2369, 'christ': 2370, 'larri': 2371, 'address': 2372, 'ned': 2373, 'bone': 2374, 'cruel': 2375, 'ron': 2376, 'beg': 2377, 'distinct': 2378, 'tour': 2379, 'screw': 2380, 'snake': 2381, 'feed': 2382, 'pursu': 2383, 'swear': 2384, 'thumb': 2385, 'traci': 2386, 'occas': 2387, 'obscur': 2388, 'chair': 2389, 'photo': 2390, 'raw': 2391, 'stomach': 2392, 'mechan': 2393, 'chain': 2394, 'holiday': 2395, 'cabin': 2396, 'southern': 2397, 'necessarili': 2398, 'heavili': 2399, 'argument': 2400, 'render': 2401, 'resist': 2402, 'hardi': 2403, 'sidney': 2404, 'gruesom': 2405, 'racist': 2406, 'satan': 2407, 'indulg': 2408, 'understood': 2409, 'india': 2410, 'philip': 2411, 'stalk': 2412, 'integr': 2413, 'belov': 2414, 'pregnant': 2415, 'lay': 2416, 'outfit': 2417, 'forgot': 2418, 'obnoxi': 2419, 'midnight': 2420, 'fourth': 2421, 'tongu': 2422, 'restor': 2423, 'garden': 2424, 'slapstick': 2425, 'carol': 2426, 'magazin': 2427, 'ticket': 2428, '17': 2429, 'inhabit': 2430, 'deeper': 2431, 'incid': 2432, 'devot': 2433, 'brad': 2434, 'shoe': 2435, 'lincoln': 2436, 'elizabeth': 2437, 'disbelief': 2438, 'benefit': 2439, 'guarante': 2440, 'underground': 2441, 'lili': 2442, 'divorc': 2443, 'anticip': 2444, 'maria': 2445, 'sandler': 2446, 'greater': 2447, 'capit': 2448, 'bbc': 2449, 'explod': 2450, 'cring': 2451, 'mildli': 2452, 'slave': 2453, 'creation': 2454, 'princip': 2455, 'amazingli': 2456, 'introduct': 2457, 'extraordinari': 2458, 'halfway': 2459, 'funnier': 2460, 'lesli': 2461, 'transfer': 2462, 'advantag': 2463, 'enhanc': 2464, 'punish': 2465, 'text': 2466, 'extent': 2467, 'overwhelm': 2468, 'wreck': 2469, 'tap': 2470, 'horrif': 2471, 'east': 2472, 'jessica': 2473, 'lo': 2474, 'preview': 2475, 'lane': 2476, 'dynam': 2477, 'deliber': 2478, 'error': 2479, 'plant': 2480, '2000': 2481, 'miller': 2482, 'vacat': 2483, 'miscast': 2484, 'basi': 2485, 'vincent': 2486, 'appli': 2487, 'ensu': 2488, 'sophist': 2489, 'homosexu': 2490, 'uncomfort': 2491, 'steel': 2492, 'mansion': 2493, 'via': 2494, 'reed': 2495, 'extend': 2496, 'elev': 2497, 'bollywood': 2498, 'measur': 2499, 'sleazi': 2500, 'spoken': 2501, 'daili': 2502, 'blair': 2503, 'goofi': 2504, 'breathtak': 2505, 'alter': 2506, 'assign': 2507, 'stanley': 2508, 'beer': 2509, 'dentist': 2510, 'hippi': 2511, 'conceiv': 2512, 'cathol': 2513, 'mous': 2514, 'overact': 2515, 'fix': 2516, 'melt': 2517, 'savag': 2518, 'properli': 2519, 'oppos': 2520, 'succe': 2521, 'sacrific': 2522, 'carpent': 2523, 'subsequ': 2524, 'burt': 2525, 'everyday': 2526, 'inspector': 2527, 'nowaday': 2528, 'circl': 2529, 'laura': 2530, 'neck': 2531, 'massacr': 2532, 'block': 2533, 'pool': 2534, 'concert': 2535, 'portrait': 2536, 'mob': 2537, 'fay': 2538, 'fallen': 2539, 'lesser': 2540, 'grey': 2541, 'access': 2542, 'seagal': 2543, 'christi': 2544, 'react': 2545, 'isol': 2546, 'jewish': 2547, 'relax': 2548, 'competit': 2549, 'chees': 2550, 'jake': 2551, 'usa': 2552, 'sinist': 2553, 'nine': 2554, 'chop': 2555, '2006': 2556, 'immens': 2557, 'suitabl': 2558, 'lyric': 2559, 'ironi': 2560, 'nonetheless': 2561, 'spiritu': 2562, 'appal': 2563, 'stink': 2564, 'creep': 2565, 'shirt': 2566, 'showcas': 2567, 'reduc': 2568, 'retir': 2569, 'rage': 2570, 'adopt': 2571, 'navi': 2572, 'needless': 2573, 'user': 2574, 'franchis': 2575, 'spring': 2576, 'sold': 2577, 'nut': 2578, 'luci': 2579, 'nurs': 2580, 'bulli': 2581, 'jay': 2582, 'per': 2583, 'digit': 2584, 'asham': 2585, 'uninspir': 2586, 'bath': 2587, 'stanwyck': 2588, 'zone': 2589, 'oddli': 2590, 'illustr': 2591, '2001': 2592, 'laid': 2593, 'sutherland': 2594, 'upper': 2595, '1940': 2596, 'broadcast': 2597, 'amongst': 2598, 'stylish': 2599, 'brando': 2600, 'throat': 2601, 'aspir': 2602, 'disguis': 2603, 'baker': 2604, 'fulfil': 2605, 'nobl': 2606, 'em': 2607, 'wanna': 2608, '18': 2609, 'neighborhood': 2610, 'wwii': 2611, 'pound': 2612, 'pride': 2613, 'endear': 2614, 'impli': 2615, 'thief': 2616, 'tens': 2617, 'shift': 2618, 'shoulder': 2619, 'prop': 2620, 'cinematograph': 2621, '16': 2622, 'rochest': 2623, 'dinner': 2624, 'distribut': 2625, 'dawn': 2626, 'bett': 2627, 'diseas': 2628, 'albeit': 2629, 'coher': 2630, 'bo': 2631, 'shout': 2632, 'silenc': 2633, 'wash': 2634, 'surf': 2635, 'forti': 2636, 'matthau': 2637, 'contract': 2638, 'rebel': 2639, 'function': 2640, 'poignant': 2641, 'knife': 2642, 'snow': 2643, 'henc': 2644, 'reunion': 2645, 'elvira': 2646, 'cannib': 2647, 'heat': 2648, 'proof': 2649, 'eeri': 2650, 'duti': 2651, 'cancel': 2652, 'mindless': 2653, 'internet': 2654, 'horrend': 2655, 'derek': 2656, 'height': 2657, 'silver': 2658, 'widmark': 2659, 'instinct': 2660, 'chuck': 2661, 'innov': 2662, 'pie': 2663, 'greatli': 2664, 'etern': 2665, 'mill': 2666, 'glori': 2667, 'spielberg': 2668, 'incoher': 2669, 'premier': 2670, 'neat': 2671, 'alik': 2672, 'torn': 2673, 'absorb': 2674, 'musician': 2675, 'repetit': 2676, 'elvi': 2677, 'britain': 2678, 'bang': 2679, 'diamond': 2680, 'racism': 2681, 'horrifi': 2682, 'blank': 2683, 'nelson': 2684, 'lovabl': 2685, 'fbi': 2686, 'trite': 2687, 'wealthi': 2688, 'precis': 2689, 'homag': 2690, 'infam': 2691, 'announc': 2692, 'crisi': 2693, 'itali': 2694, 'redempt': 2695, 'burton': 2696, 'chaplin': 2697, 'helen': 2698, 'flop': 2699, 'hammer': 2700, 'resolut': 2701, 'pat': 2702, 'dedic': 2703, 'happili': 2704, 'wilder': 2705, 'ensembl': 2706, 'streisand': 2707, 'parallel': 2708, 'mar': 2709, 'st': 2710, 'factori': 2711, 'conclud': 2712, 'broke': 2713, 'triumph': 2714, 'plastic': 2715, 'disagre': 2716, 'oil': 2717, 'carter': 2718, 'cube': 2719, 'row': 2720, 'vega': 2721, 'rocket': 2722, 'bush': 2723, 'own': 2724, 'climb': 2725, 'chuckl': 2726, 'fighter': 2727, 'weight': 2728, 'march': 2729, 'boot': 2730, 'unforgett': 2731, 'meaning': 2732, 'thug': 2733, 'dump': 2734, 'wherea': 2735, 'dane': 2736, 'kurt': 2737, 'spare': 2738, 'mst3k': 2739, 'luca': 2740, 'lust': 2741, 'sensibl': 2742, 'enorm': 2743, 'stress': 2744, 'engin': 2745, 'bobbi': 2746, 'adequ': 2747, 'brand': 2748, 'caricatur': 2749, 'difficulti': 2750, 'threat': 2751, 'butt': 2752, 'arnold': 2753, 'dear': 2754, 'rap': 2755, 'karloff': 2756, 'fifti': 2757, 'hamlet': 2758, 'elabor': 2759, 'homeless': 2760, 'secretari': 2761, 'ego': 2762, 'fest': 2763, 'arrog': 2764, 'polish': 2765, 'barri': 2766, 'ralph': 2767, 'flynn': 2768, 'swing': 2769, 'journalist': 2770, 'resort': 2771, 'induc': 2772, 'simpson': 2773, 'arrang': 2774, 'grate': 2775, 'unbear': 2776, 'tool': 2777, 'fanci': 2778, 'float': 2779, 'puppet': 2780, 'conspiraci': 2781, 'spike': 2782, 'exercis': 2783, 'boll': 2784, 'tribut': 2785, 'phillip': 2786, 'cruis': 2787, 'pig': 2788, 'choreograph': 2789, 'basement': 2790, 'guilt': 2791, 'muppet': 2792, 'ward': 2793, 'babe': 2794, 'korean': 2795, 'file': 2796, 'toilet': 2797, 'slip': 2798, 'tower': 2799, 'layer': 2800, 'puzzl': 2801, '24': 2802, 'medium': 2803, 'ham': 2804, 'item': 2805, 'stan': 2806, 'document': 2807, 'editor': 2808, 'fianc': 2809, 'scarecrow': 2810, 'inexplic': 2811, 'portion': 2812, 'persona': 2813, 'larger': 2814, 'doc': 2815, 'denzel': 2816, 'territori': 2817, 'orient': 2818, 'philosoph': 2819, 'transit': 2820, 'minim': 2821, 'assur': 2822, 'superfici': 2823, 'librari': 2824, 'spark': 2825, 'catherin': 2826, 'glover': 2827, 'slaughter': 2828, 'shi': 2829, 'dorothi': 2830, 'owe': 2831, 'boredom': 2832, 'wolf': 2833, 'pg': 2834, 'curti': 2835, 'financi': 2836, 'walken': 2837, 'jeremi': 2838, 'sneak': 2839, 'jet': 2840, 'ban': 2841, 'backdrop': 2842, 'ambigu': 2843, 'multi': 2844, 'hudson': 2845, 'eleph': 2846, 'profound': 2847, 'metaphor': 2848, 'whale': 2849, 'cusack': 2850, 'implaus': 2851, 'viru': 2852, 'ultra': 2853, '2005': 2854, 'birthday': 2855, 'rave': 2856, 'notion': 2857, 'hack': 2858, 'union': 2859, 'elsewher': 2860, 'gadget': 2861, 'stiff': 2862, 'disc': 2863, 'deriv': 2864, 'slight': 2865, 'pad': 2866, 'poison': 2867, 'urg': 2868, 'afford': 2869, 'bibl': 2870, 'squar': 2871, 'eva': 2872, 'distanc': 2873, 'newspap': 2874, 'hawk': 2875, 'superhero': 2876, '1st': 2877, 'canada': 2878, 'reader': 2879, 'lloyd': 2880, 'eastwood': 2881, 'health': 2882, 'button': 2883, 'montag': 2884, 'huh': 2885, 'sadist': 2886, 'heston': 2887, 'essenc': 2888, 'restaur': 2889, 'charisma': 2890, 'cure': 2891, 'skit': 2892, 'spread': 2893, 'drown': 2894, 'godfath': 2895, 'muslim': 2896, 'fetch': 2897, 'estat': 2898, 'peak': 2899, 'lab': 2900, 'invest': 2901, 'dealt': 2902, 'maniac': 2903, 'companion': 2904, 'scoobi': 2905, 'gradual': 2906, 'cup': 2907, 'subtleti': 2908, 'tea': 2909, 'servant': 2910, 'gothic': 2911, 'alli': 2912, 'miik': 2913, 'kane': 2914, 'countless': 2915, 'ritter': 2916, 'heroic': 2917, 'briefli': 2918, 'electr': 2919, 'elect': 2920, 'charismat': 2921, 'salli': 2922, 'iii': 2923, 'tender': 2924, 'grandmoth': 2925, 'cole': 2926, 'ingredi': 2927, 'reel': 2928, 'neil': 2929, 'resourc': 2930, 'admittedli': 2931, 'toss': 2932, 'nuanc': 2933, 'bud': 2934, 'wannab': 2935, 'pit': 2936, 'dawson': 2937, 'mild': 2938, 'mafia': 2939, 'stood': 2940, 'stronger': 2941, 'carrey': 2942, 'gate': 2943, 'reev': 2944, 'poverti': 2945, 'pauli': 2946, 'label': 2947, 'punk': 2948, 'shall': 2949, 'kubrick': 2950, 'burst': 2951, 'smash': 2952, 'useless': 2953, 'assault': 2954, 'updat': 2955, 'astair': 2956, 'cardboard': 2957, 'terri': 2958, 'easier': 2959, 'smooth': 2960, 'fond': 2961, 'tag': 2962, 'cox': 2963, 'outcom': 2964, 'bakshi': 2965, 'ian': 2966, 'increasingli': 2967, 'melodramat': 2968, 'coincid': 2969, 'exchang': 2970, 'vulner': 2971, 'rex': 2972, 'divers': 2973, 'sketch': 2974, 'qualifi': 2975, 'fist': 2976, 'resolv': 2977, '2002': 2978, 'vari': 2979, 'samurai': 2980, 'suspend': 2981, 'scratch': 2982, 'luckili': 2983, 'reynold': 2984, 'conveni': 2985, 'brillianc': 2986, 'be': 2987, 'insert': 2988, 'tame': 2989, 'blast': 2990, 'templ': 2991, 'strictli': 2992, 'hamilton': 2993, 'nuclear': 2994, 'coach': 2995, 'gotta': 2996, 'seventi': 2997, 'farm': 2998, 'jami': 2999, 'meat': 3000, 'walker': 3001, 'matthew': 3002, 'fisher': 3003, 'ambiti': 3004, 'soprano': 3005, 'pin': 3006, 'butcher': 3007, 'empir': 3008, 'convolut': 3009, 'struck': 3010, 'instantli': 3011, 'kudo': 3012, 'clock': 3013, 'joey': 3014, 'cave': 3015, 'monk': 3016, 'discoveri': 3017, 'ninja': 3018, 'timeless': 3019, 'grasp': 3020, 'recreat': 3021, 'spooki': 3022, 'closet': 3023, 'worthless': 3024, 'eccentr': 3025, 'revers': 3026, 'brosnan': 3027, 'partli': 3028, 'sidekick': 3029, 'evok': 3030, 'declar': 3031, 'gray': 3032, 'mitchel': 3033, 'fifteen': 3034, 'communist': 3035, 'selfish': 3036, 'sloppi': 3037, 'bleak': 3038, 'importantli': 3039, 'pal': 3040, 'eighti': 3041, 'wipe': 3042, 'inconsist': 3043, 'cliff': 3044, 'clown': 3045, 'miracl': 3046, 'seller': 3047, 'norman': 3048, '45': 3049, 'farc': 3050, 'superbl': 3051, 'lifestyl': 3052, 'aforement': 3053, 'chew': 3054, 'enthusiast': 3055, 'piano': 3056, 'stoog': 3057, 'psychiatrist': 3058, 'ho': 3059, 'flawless': 3060, 'websit': 3061, 'destin': 3062, 'debat': 3063, 'seed': 3064, 'cheek': 3065, 'australia': 3066, 'dire': 3067, 'directori': 3068, 'kitchen': 3069, 'drivel': 3070, 'slice': 3071, 'dash': 3072, 'wrestl': 3073, 'emili': 3074, 'pressur': 3075, 'wick': 3076, 'regardless': 3077, 'bash': 3078, 'incompet': 3079, 'akshay': 3080, 'soviet': 3081, 'abc': 3082, 'anni': 3083, 'splatter': 3084, 'flower': 3085, 'suppli': 3086, 'distant': 3087, 'curios': 3088, 'duo': 3089, 'increas': 3090, 'chapter': 3091, 'jar': 3092, 'dave': 3093, 'blob': 3094, 'pleasantli': 3095, 'beaten': 3096, 'seduc': 3097, 'helicopt': 3098, 'recov': 3099, 'doo': 3100, 'lou': 3101, 'judi': 3102, 'ken': 3103, 'artifici': 3104, 'prize': 3105, 'glow': 3106, 'cia': 3107, 'boil': 3108, 'mann': 3109, 'cameron': 3110, 'cagney': 3111, 'panic': 3112, 'craig': 3113, 'hop': 3114, 'drunken': 3115, 'glenn': 3116, 'web': 3117, 'favour': 3118, 'ellen': 3119, 'psychot': 3120, 'francisco': 3121, 'eleg': 3122, 'splendid': 3123, 'laurel': 3124, 'combat': 3125, 'ranger': 3126, 'goldberg': 3127, 'craven': 3128, 'turner': 3129, 'perri': 3130, 'hatr': 3131, 'min': 3132, 'gentl': 3133, 'falk': 3134, 'graduat': 3135, 'greek': 3136, 'wizard': 3137, 'ruth': 3138, 'alexand': 3139, 'flip': 3140, 'shortli': 3141, 'slightest': 3142, 'philosophi': 3143, 'gandhi': 3144, '20th': 3145, 'plausibl': 3146, 'rid': 3147, 'modesti': 3148, 'fx': 3149, 'knight': 3150, 'holi': 3151, 'preciou': 3152, 'jealou': 3153, 'fund': 3154, 'legal': 3155, 'tall': 3156, 'unpleas': 3157, 'lend': 3158, 'manhattan': 3159, 'ocean': 3160, 'harm': 3161, 'felix': 3162, 'we': 3163, 'dracula': 3164, 'futurist': 3165, 'bless': 3166, 'forbidden': 3167, 'explicit': 3168, 'thread': 3169, 'tank': 3170, 'mock': 3171, 'giallo': 3172, 'scientif': 3173, 'reviv': 3174, 'overdon': 3175, 'digniti': 3176, 'nod': 3177, 'ami': 3178, 'childish': 3179, 'fever': 3180, 'broad': 3181, '2004': 3182, 'repeatedli': 3183, '99': 3184, 'elderli': 3185, 'awe': 3186, 'nerv': 3187, 'margaret': 3188, 'verhoeven': 3189, 'mel': 3190, 'pirat': 3191, 'thick': 3192, 'awaken': 3193, 'yesterday': 3194, 'torment': 3195, 'eve': 3196, 'unwatch': 3197, 'griffith': 3198, 'publish': 3199, 'kay': 3200, 'absenc': 3201, 'timothi': 3202, 'bin': 3203, 'custom': 3204, 'royal': 3205, 'eas': 3206, 'launch': 3207, 'acclaim': 3208, 'ambit': 3209, 'roman': 3210, 'romero': 3211, 'automat': 3212, 'stiller': 3213, 'ah': 3214, 'politician': 3215, 'uniform': 3216, 'rivet': 3217, 'lean': 3218, 'foul': 3219, 'darker': 3220, 'gabriel': 3221, 'termin': 3222, 'purpl': 3223, 'crook': 3224, 'pierc': 3225, 'sunshin': 3226, 'pulp': 3227, 'warren': 3228, 'homicid': 3229, 'phrase': 3230, 'transport': 3231, 'bathroom': 3232, 'antic': 3233, 'tomato': 3234, 'stinker': 3235, 'wallac': 3236, 'brazil': 3237, 'rambo': 3238, 'pray': 3239, 'prom': 3240, 'juvenil': 3241, 'eyr': 3242, 'hollow': 3243, 'revolutionari': 3244, 'awak': 3245, 'horrid': 3246, 'marin': 3247, 'contrari': 3248, 'kenneth': 3249, 'choreographi': 3250, 'donna': 3251, 'album': 3252, 'viciou': 3253, '2003': 3254, 'ought': 3255, 'coloni': 3256, 'q': 3257, 'sixti': 3258, 'evolv': 3259, 'li': 3260, 'saint': 3261, 'packag': 3262, 'karen': 3263, 'nerd': 3264, 'twelv': 3265, 'blade': 3266, 'conserv': 3267, 'kapoor': 3268, 'candid': 3269, 'ireland': 3270, 'overr': 3271, 'option': 3272, 'dose': 3273, 'ramon': 3274, 'mummi': 3275, 'defi': 3276, 'beatti': 3277, 'mildr': 3278, 'boast': 3279, 'stole': 3280, 'astonish': 3281, 'collabor': 3282, 'confirm': 3283, 'global': 3284, 'fulci': 3285, 'protest': 3286, 'jazz': 3287, 'trio': 3288, 'detract': 3289, 'kirk': 3290, 'flame': 3291, 'natali': 3292, 'funer': 3293, 'altman': 3294, 'bottl': 3295, 'shade': 3296, 'audio': 3297, 'bull': 3298, 'mystic': 3299, 'nicholson': 3300, 'tommi': 3301, 'spit': 3302, 'blake': 3303, 'leap': 3304, 'destini': 3305, 'delici': 3306, 'whip': 3307, 'enterpris': 3308, 'racial': 3309, 'yellow': 3310, 'merci': 3311, 'swedish': 3312, 'staff': 3313, 'bedroom': 3314, 'meaningless': 3315, 'reunit': 3316, 'visibl': 3317, 'inherit': 3318, 'adolesc': 3319, 'altogeth': 3320, 'neo': 3321, 'harder': 3322, 'popcorn': 3323, 'todd': 3324, 'threw': 3325, 'enchant': 3326, 'pseudo': 3327, 'vivid': 3328, 'fonda': 3329, 'kennedi': 3330, 'leonard': 3331, 'await': 3332, 'wire': 3333, 'decor': 3334, 'befriend': 3335, 'fanat': 3336, 'uneven': 3337, 'lemmon': 3338, 'moodi': 3339, 'ruthless': 3340, 'respond': 3341, 'lawrenc': 3342, 'reserv': 3343, 'voight': 3344, 'crocodil': 3345, 'synopsi': 3346, 'suspici': 3347, 'atlanti': 3348, 'bust': 3349, 'jew': 3350, 'madonna': 3351, 'roommat': 3352, 'exhibit': 3353, 'tip': 3354, 'edi': 3355, 'centr': 3356, 'palma': 3357, 'audit': 3358, 'chao': 3359, 'abysm': 3360, 'unsettl': 3361, 'incident': 3362, 'ventur': 3363, 'bargain': 3364, 'clumsi': 3365, 'rural': 3366, 'bradi': 3367, 'clint': 3368, 'bold': 3369, 'carl': 3370, 'dimens': 3371, 'voyag': 3372, 'garner': 3373, '2007': 3374, 'holli': 3375, 'immigr': 3376, 'cuba': 3377, '2nd': 3378, 'humili': 3379, 'timon': 3380, 'cd': 3381, 'hart': 3382, 'neglect': 3383, 'mall': 3384, 'characterist': 3385, 'acknowledg': 3386, 'troop': 3387, 'daddi': 3388, 'echo': 3389, 'wealth': 3390, 'poetic': 3391, 'nearbi': 3392, 'versu': 3393, 'elimin': 3394, 'trail': 3395, 'ant': 3396, 'cari': 3397, 'tiger': 3398, 'lit': 3399, 'imperson': 3400, 'infect': 3401, 'paus': 3402, 'mickey': 3403, 'saga': 3404, 'homer': 3405, 'domest': 3406, 'marshal': 3407, 'mistaken': 3408, 'prejudic': 3409, 'solo': 3410, 'pun': 3411, 'jeffrey': 3412, 'celluloid': 3413, 'repuls': 3414, 'collaps': 3415, 'gear': 3416, 'interrupt': 3417, 'leon': 3418, '1996': 3419, 'coffe': 3420, 'tribe': 3421, 'pant': 3422, 'cake': 3423, 'promin': 3424, 'inan': 3425, 'olivi': 3426, 'assembl': 3427, 'inappropri': 3428, 'harvey': 3429, 'undoubtedli': 3430, 'equip': 3431, 'hbo': 3432, 'sore': 3433, 'milk': 3434, 'chest': 3435, 'ginger': 3436, 'coat': 3437, 'apolog': 3438, 'retain': 3439, 'brooklyn': 3440, 'instant': 3441, 'devast': 3442, 'consum': 3443, 'vulgar': 3444, 'aveng': 3445, 'humbl': 3446, 'embrac': 3447, 'solut': 3448, 'primari': 3449, 'exot': 3450, 'airplan': 3451, 'pot': 3452, 'pen': 3453, 'colleagu': 3454, 'maggi': 3455, 'trace': 3456, 'furthermor': 3457, 'highest': 3458, 'institut': 3459, 'polanski': 3460, 'colonel': 3461, 'jenni': 3462, 'florida': 3463, 'poke': 3464, 'cope': 3465, 'strain': 3466, 'bowl': 3467, 'principl': 3468, '3rd': 3469, 'sale': 3470, '1999': 3471, 'disabl': 3472, 'illog': 3473, 'ya': 3474, 'linda': 3475, 'gender': 3476, 'descend': 3477, 'seduct': 3478, 'wive': 3479, 'smaller': 3480, 'outer': 3481, 'dian': 3482, 'dutch': 3483, 'godzilla': 3484, 'rick': 3485, 'glamor': 3486, 'lol': 3487, 'devoid': 3488, 'bubbl': 3489, 'cue': 3490, 'rabbit': 3491, 'scope': 3492, 'yard': 3493, 'dive': 3494, 'hal': 3495, 'mixtur': 3496, 'inferior': 3497, 'predecessor': 3498, 'vast': 3499, 'blatant': 3500, 'gloriou': 3501, 'beneath': 3502, 'secondli': 3503, 'dud': 3504, 'gundam': 3505, 'primarili': 3506, 'trademark': 3507, 'streep': 3508, 'april': 3509, 'disjoint': 3510, 'countrysid': 3511, 'shelf': 3512, 'alert': 3513, 'senseless': 3514, 'breed': 3515, 'et': 3516, 'z': 3517, 'simplist': 3518, 'garbo': 3519, 'casual': 3520, 'museum': 3521, 'arab': 3522, 'aggress': 3523, 'invas': 3524, 'pearl': 3525, 'alfr': 3526, 'hideou': 3527, 'shirley': 3528, 'talki': 3529, 'grinch': 3530, 'myer': 3531, 'domino': 3532, 'acid': 3533, 'illeg': 3534, 'obtain': 3535, 'stellar': 3536, 'rendit': 3537, 'uwe': 3538, 'applaud': 3539, 'oz': 3540, 'hardcor': 3541, 'mayor': 3542, 'robinson': 3543, 'mail': 3544, 'slide': 3545, 'stack': 3546, 'hopeless': 3547, 'experiment': 3548, 'defens': 3549, 'stir': 3550, 'disgrac': 3551, 'unhappi': 3552, 'sh': 3553, 'loyal': 3554, 'vanish': 3555, 'maci': 3556, 'robberi': 3557, 'khan': 3558, 'boom': 3559, 'span': 3560, 'tenant': 3561, 'psychic': 3562, 'diana': 3563, 'grandfath': 3564, 'emphasi': 3565, 'blew': 3566, 'counter': 3567, 'dismiss': 3568, 'dicken': 3569, 'wont': 3570, 'hartley': 3571, 'tempt': 3572, 'recruit': 3573, 'berlin': 3574, 'incomprehens': 3575, 'scroog': 3576, 'craze': 3577, 'rifl': 3578, 'soccer': 3579, 'amanda': 3580, 'fri': 3581, 'topless': 3582, 'declin': 3583, 'spider': 3584, 'niro': 3585, 'wet': 3586, 'resurrect': 3587, 'trashi': 3588, 'revolt': 3589, 'ethnic': 3590, 'shed': 3591, 'porno': 3592, 'goer': 3593, 'intim': 3594, 'sibl': 3595, 'faster': 3596, 'riot': 3597, 'ration': 3598, 'justin': 3599, 'woo': 3600, 'lumet': 3601, 'parad': 3602, 'shaw': 3603, 'bitch': 3604, 'sympath': 3605, 'hesit': 3606, 'biographi': 3607, 'rider': 3608, 'immort': 3609, 'lena': 3610, 'andr': 3611, 'gap': 3612, 'steam': 3613, 'mario': 3614, 'wendi': 3615, 'patriot': 3616, 'nephew': 3617, 'region': 3618, 'farmer': 3619, 'jonathan': 3620, 'honesti': 3621, 'commend': 3622, '00': 3623, 'unreal': 3624, 'hopper': 3625, 'eager': 3626, 'weakest': 3627, 'slick': 3628, 'choru': 3629, 'ballet': 3630, 'partial': 3631, 'worm': 3632, 'feminist': 3633, 'dealer': 3634, 'wheel': 3635, 'ensur': 3636, 'enlighten': 3637, 'util': 3638, 'similarli': 3639, 'confin': 3640, 'blunt': 3641, 'repress': 3642, 'prequel': 3643, 'nostalg': 3644, 'franco': 3645, 'sappi': 3646, 'psychopath': 3647, 'leo': 3648, 'safeti': 3649, 'charlott': 3650, 'owen': 3651, 'victori': 3652, 'vice': 3653, 'hung': 3654, 'composit': 3655, 'morri': 3656, 'properti': 3657, 'wore': 3658, 'kingdom': 3659, 'mutant': 3660, 'snap': 3661, 'skull': 3662, 'sandra': 3663, 'macarthur': 3664, 'pattern': 3665, 'bow': 3666, 'bumbl': 3667, 'montana': 3668, 'strand': 3669, 'compens': 3670, 'farrel': 3671, 'exit': 3672, 'despair': 3673, 'emperor': 3674, 'heartbreak': 3675, 'dust': 3676, 'bonu': 3677, 'dalton': 3678, 'thru': 3679, 'del': 3680, '1972': 3681, 'drum': 3682, 'speci': 3683, 'nervou': 3684, 'miseri': 3685, 'latin': 3686, 'repli': 3687, 'kyle': 3688, 'drain': 3689, 'rope': 3690, 'acquir': 3691, 'tad': 3692, 'valuabl': 3693, 'recycl': 3694, 'compass': 3695, 'whoopi': 3696, 'rambl': 3697, 'snl': 3698, 'hyde': 3699, 'rocki': 3700, 'tail': 3701, 'cg': 3702, 'bergman': 3703, 'campbel': 3704, 'deed': 3705, 'roth': 3706, 'gimmick': 3707, 'mistress': 3708, 'downhil': 3709, 'da': 3710, 'orson': 3711, '35': 3712, 'tonight': 3713, 'pour': 3714, 'radic': 3715, 'airport': 3716, 'oppress': 3717, 'romp': 3718, 'olli': 3719, 'gal': 3720, 'bleed': 3721, 'chess': 3722, 'rapist': 3723, 'carradin': 3724, 'slug': 3725, 'martian': 3726, 'wacki': 3727, 'rotten': 3728, 'contempl': 3729, 'percept': 3730, 'programm': 3731, 'champion': 3732, '1983': 3733, 'taught': 3734, 'melodi': 3735, 'preach': 3736, 'dazzl': 3737, 'arguabl': 3738, 'edgar': 3739, 'pursuit': 3740, 'tackl': 3741, 'arc': 3742, 'paltrow': 3743, 'unpredict': 3744, 'pervers': 3745, 'stilt': 3746, 'mislead': 3747, 'heal': 3748, 'slash': 3749, 'attorney': 3750, 'shelley': 3751, 'pervert': 3752, 'belt': 3753, 'banal': 3754, 'tooth': 3755, 'franki': 3756, 'marti': 3757, 'mesmer': 3758, 'passeng': 3759, 'maid': 3760, 'duval': 3761, 'graham': 3762, 'conneri': 3763, 'closest': 3764, 'vocal': 3765, 'tiresom': 3766, 'employe': 3767, 'cleverli': 3768, 'sensat': 3769, 'gambl': 3770, 'uplift': 3771, 'plight': 3772, 'raymond': 3773, 'rubi': 3774, 'vengeanc': 3775, 'virginia': 3776, 'bela': 3777, 'chicken': 3778, 'orang': 3779, 'poem': 3780, 'dixon': 3781, 'convincingli': 3782, 'calm': 3783, 'secretli': 3784, 'suffic': 3785, 'bay': 3786, 'extens': 3787, 'volum': 3788, 'gerard': 3789, 'crystal': 3790, '1968': 3791, 'profan': 3792, 'clone': 3793, 'tube': 3794, 'swallow': 3795, 'numb': 3796, 'quarter': 3797, 'pokemon': 3798, 'mute': 3799, 'habit': 3800, 'amitabh': 3801, 'yawn': 3802, 'engross': 3803, 'monologu': 3804, 'whine': 3805, 'sirk': 3806, 'outing': 3807, 'paranoia': 3808, 'giggl': 3809, 'abraham': 3810, 'climact': 3811, 'iran': 3812, 'lundgren': 3813, 'inject': 3814, 'scottish': 3815, 'junior': 3816, 'linger': 3817, 'surpass': 3818, 'septemb': 3819, 'profess': 3820, 'bend': 3821, 'poetri': 3822, 'chicago': 3823, 'expand': 3824, 'im': 3825, 'grotesqu': 3826, 'earl': 3827, 'lowest': 3828, 'richardson': 3829, 'trend': 3830, 'taxi': 3831, 'meander': 3832, 'plod': 3833, 'underst': 3834, 'austen': 3835, 'frankenstein': 3836, 'fed': 3837, 'franci': 3838, 'dispos': 3839, 'spock': 3840, 'backward': 3841, 'ethan': 3842, 'nichola': 3843, 'abort': 3844, 'muddl': 3845, 'compliment': 3846, 'stallon': 3847, 'dysfunct': 3848, 'rant': 3849, 'econom': 3850, 'der': 3851, 'household': 3852, 'cannon': 3853, 'literatur': 3854, 'myth': 3855, 'catchi': 3856, 'sue': 3857, 'descent': 3858, 'nostalgia': 3859, 'tourist': 3860, 'lure': 3861, 'greedi': 3862, 'hum': 3863, 'mundan': 3864, 'simplic': 3865, 'waitress': 3866, 'spoke': 3867, 'rubber': 3868, 'instrument': 3869, 'eugen': 3870, 'june': 3871, 'alongsid': 3872, 'crucial': 3873, 'firstli': 3874, 'phantom': 3875, 'eaten': 3876, 'recognit': 3877, 'occupi': 3878, 'cent': 3879, 'equival': 3880, 'bacal': 3881, 'molli': 3882, 'phoni': 3883, 'flee': 3884, 'carel': 3885, 'deaf': 3886, 'irrelev': 3887, 'randi': 3888, 'mankind': 3889, 'omen': 3890, 'sissi': 3891, 'recognis': 3892, 'mortal': 3893, 'damon': 3894, 'dictat': 3895, 'hello': 3896, 'stale': 3897, 'insur': 3898, 'coast': 3899, 'louis': 3900, 'map': 3901, 'dement': 3902, 'furi': 3903, 'lang': 3904, 'duck': 3905, 'dreari': 3906, 'reign': 3907, 'cyborg': 3908, 'rooney': 3909, 'daisi': 3910, 'distinguish': 3911, 'blackmail': 3912, 'ashley': 3913, '1973': 3914, 'freez': 3915, 'bike': 3916, 'grayson': 3917, 'loyalti': 3918, 'wisdom': 3919, 'likewis': 3920, 'newli': 3921, 'lengthi': 3922, 'labor': 3923, 'damm': 3924, 'bump': 3925, 'twilight': 3926, 'rude': 3927, 'onlin': 3928, 'buffalo': 3929, 'heel': 3930, 'drake': 3931, 'antwon': 3932, 'biko': 3933, 'baddi': 3934, 'interior': 3935, 'provoc': 3936, 'boxer': 3937, 'unorigin': 3938, 'ridden': 3939, 'tunnel': 3940, 'vein': 3941, 'attribut': 3942, 'basketbal': 3943, 'prey': 3944, 'proce': 3945, 'incorpor': 3946, 'approv': 3947, 'exposur': 3948, 'sailor': 3949, 'worn': 3950, 'inher': 3951, 'emphas': 3952, 'chronicl': 3953, 'analysi': 3954, 'keith': 3955, 'startl': 3956, 'barrymor': 3957, 'nineti': 3958, 'butler': 3959, 'pink': 3960, 'millionair': 3961, 'drift': 3962, 'nicol': 3963, 'meg': 3964, 'julian': 3965, 'condemn': 3966, 'barrel': 3967, 'fleet': 3968, 'hypnot': 3969, 'degrad': 3970, 'mighti': 3971, 'unrel': 3972, 'undeni': 3973, 'predat': 3974, 'elm': 3975, 'improvis': 3976, 'walsh': 3977, 'underli': 3978, 'substitut': 3979, 'belushi': 3980, 'simmon': 3981, 'indiffer': 3982, 'er': 3983, 'carla': 3984, 'bunni': 3985, 'mormon': 3986, 'stalker': 3987, 'meyer': 3988, 'robbin': 3989, 'othello': 3990, 'alarm': 3991, 'reid': 3992, 'unawar': 3993, 'marion': 3994, 'agenda': 3995, 'enthusiasm': 3996, 'warmth': 3997, 'vital': 3998, 'lampoon': 3999, 'watson': 4000, 'exquisit': 4001, 'hay': 4002, 'palac': 4003, 'priceless': 4004, 'shove': 4005, '3d': 4006, 'disord': 4007, 'roof': 4008, 'nyc': 4009, 'alison': 4010, 'greed': 4011, 'mtv': 4012, 'errol': 4013, 'edgi': 4014, 'novak': 4015, 'dolph': 4016, 'rukh': 4017, 'firm': 4018, 'valentin': 4019, 'spain': 4020, 'simultan': 4021, 'petti': 4022, 'session': 4023, 'testament': 4024, 'drip': 4025, 'minimum': 4026, 'iraq': 4027, '1933': 4028, '13th': 4029, 'ponder': 4030, 'eastern': 4031, 'glanc': 4032, 'cassidi': 4033, 'randomli': 4034, 'profit': 4035, 'campaign': 4036, 'pamela': 4037, 'coup': 4038, 'gestur': 4039, 'championship': 4040, 'orlean': 4041, 'peck': 4042, 'unleash': 4043, 'preserv': 4044, 'thompson': 4045, 'beatl': 4046, 'distort': 4047, 'peril': 4048, 'nun': 4049, 'what': 4050, 'sergeant': 4051, 'crown': 4052, 'showdown': 4053, 'angela': 4054, 'israel': 4055, 'zizek': 4056, '1984': 4057, 'stroke': 4058, 'crow': 4059, 'cream': 4060, 'scotland': 4061, 'sabrina': 4062, 'rout': 4063, 'unimagin': 4064, 'cooki': 4065, 'shootout': 4066, 'travesti': 4067, 'gentleman': 4068, 'exposit': 4069, 'valley': 4070, 'miyazaki': 4071, 'buster': 4072, 'realm': 4073, 'regist': 4074, 'reson': 4075, 'wig': 4076, 'represent': 4077, 'climat': 4078, 'jan': 4079, 'mon': 4080, 'kurosawa': 4081, 'restrain': 4082, 'han': 4083, 'perpetu': 4084, 'quinn': 4085, 'contradict': 4086, 'crawl': 4087, 'brenda': 4088, 'empathi': 4089, 'bro': 4090, 'calib': 4091, 'stake': 4092, 'din': 4093, 'fido': 4094, 'absent': 4095, 'meryl': 4096, 'unseen': 4097, 'derang': 4098, 'greg': 4099, 'shaki': 4100, 'businessman': 4101, 'spacey': 4102, 'mclaglen': 4103, 'pretens': 4104, 'abomin': 4105, 'crawford': 4106, 'warrant': 4107, 'geek': 4108, 'traumat': 4109, 'baldwin': 4110, 'delic': 4111, 'cloud': 4112, 'unsatisfi': 4113, 'ross': 4114, 'shoddi': 4115, 'compromis': 4116, 'monoton': 4117, 'stargat': 4118, 'soderbergh': 4119, '1997': 4120, 'distress': 4121, 'tacki': 4122, 'josh': 4123, 'dana': 4124, 'demis': 4125, 'sucker': 4126, 'painter': 4127, 'perceiv': 4128, 'darren': 4129, 'passabl': 4130, 'femm': 4131, 'ustinov': 4132, 'sammi': 4133, 'pole': 4134, 'wax': 4135, 'censor': 4136, '1987': 4137, 'fuller': 4138, 'seal': 4139, 'wholli': 4140, 'reluct': 4141, 'tech': 4142, 'click': 4143, 'jewel': 4144, 'polici': 4145, 'deniro': 4146, 'tarantino': 4147, 'nathan': 4148, 'deceas': 4149, 'accuraci': 4150, 'unravel': 4151, 'sid': 4152, 'verbal': 4153, 'antonioni': 4154, 'judgment': 4155, 'fenc': 4156, 'kumar': 4157, 'exclus': 4158, 'dee': 4159, 'anchor': 4160, 'correctli': 4161, 'norm': 4162, 'uncov': 4163, 'expedit': 4164, 'primit': 4165, 'valid': 4166, 'fog': 4167, '1993': 4168, 'clash': 4169, 'furiou': 4170, 'austin': 4171, 'pocket': 4172, 'crippl': 4173, 'slam': 4174, 'trait': 4175, '2008': 4176, 'roller': 4177, 'conduct': 4178, 'debt': 4179, '1995': 4180, 'temper': 4181, '1971': 4182, 'patienc': 4183, 'darn': 4184, 'behold': 4185, 'fought': 4186, 'alec': 4187, 'wang': 4188, 'clerk': 4189, 'fabric': 4190, 'unfair': 4191, 'sunni': 4192, 'sustain': 4193, 'enforc': 4194, 'sand': 4195, 'shanghai': 4196, 'logan': 4197, '3000': 4198, 'hallucin': 4199, 'malon': 4200, 'nicola': 4201, 'tax': 4202, 'murray': 4203, 'bake': 4204, 'dreck': 4205, 'fart': 4206, 'joel': 4207, 'seldom': 4208, 'sheet': 4209, 'ritual': 4210, 'mode': 4211, 'vanc': 4212, 'wretch': 4213, 'helpless': 4214, 'fundament': 4215, 'despis': 4216, 'scriptwrit': 4217, 'soup': 4218, 'shell': 4219, 'preposter': 4220, 'clau': 4221, 'guitar': 4222, 'squad': 4223, 'stuart': 4224, 'exhaust': 4225, 'grief': 4226, 'pete': 4227, 'tactic': 4228, 'critiqu': 4229, 'divid': 4230, 'sweep': 4231, 'rita': 4232, 'conscious': 4233, 'legaci': 4234, 'schedul': 4235, 'technicolor': 4236, 'bias': 4237, 'outlin': 4238, 'runner': 4239, 'isabel': 4240, 'stark': 4241, 'penni': 4242, 'bridget': 4243, 'robber': 4244, 'phil': 4245, 'preston': 4246, 'canyon': 4247, 'propos': 4248, 'delv': 4249, 'inabl': 4250, 'alley': 4251, 'restrict': 4252, 'alicia': 4253, 'newman': 4254, 'connor': 4255, 'marc': 4256, 'unexpectedli': 4257, 'flair': 4258, 'invad': 4259, 'sugar': 4260, 'kansa': 4261, 'liberti': 4262, 'downey': 4263, 'vomit': 4264, 'sentinel': 4265, 'russia': 4266, 'boyl': 4267, 'rehash': 4268, 'consciou': 4269, 'lacklust': 4270, 'palanc': 4271, 'implic': 4272, 'jacket': 4273, 'rear': 4274, 'cigarett': 4275, 'culmin': 4276, 'drove': 4277, 'bloom': 4278, 'sniper': 4279, 'passag': 4280, 'agenc': 4281, 'gregori': 4282, 'jodi': 4283, 'chainsaw': 4284, 'arrow': 4285, 'wrench': 4286, 'ladder': 4287, 'asylum': 4288, 'vet': 4289, 'delet': 4290, 'lush': 4291, 'aesthet': 4292, 'behaviour': 4293, 'sharon': 4294, 'awhil': 4295, 'feat': 4296, 'improb': 4297, 'horn': 4298, 'bacon': 4299, 'rod': 4300, '1936': 4301, 'tendenc': 4302, '22': 4303, 'rampag': 4304, 'mccoy': 4305, 'cap': 4306, 'pale': 4307, 'tripe': 4308, 'karl': 4309, 'rehears': 4310, 'foxx': 4311, 'kolchak': 4312, 'yeti': 4313, 'hungri': 4314, '1978': 4315, 'el': 4316, 'globe': 4317, 'weav': 4318, 'paradis': 4319, 'conscienc': 4320, 'prank': 4321, 'amazon': 4322, 'financ': 4323, 'loneli': 4324, 'shortcom': 4325, 'wildli': 4326, 'minu': 4327, 'coaster': 4328, 'aristocrat': 4329, 'rumor': 4330, 'basing': 4331, 'tasteless': 4332, 'underneath': 4333, 'thunderbird': 4334, 'elit': 4335, 'hackney': 4336, 'sung': 4337, 'paramount': 4338, 'rhythm': 4339, '1920': 4340, 'tomorrow': 4341, 'filler': 4342, 'suffici': 4343, 'lurk': 4344, 'suspicion': 4345, 'stream': 4346, 'newcom': 4347, '1988': 4348, '19th': 4349, 'visitor': 4350, 'spice': 4351, 'wagner': 4352, 'scoop': 4353, 'fright': 4354, 'hulk': 4355, 'secondari': 4356, 'recogniz': 4357, '1939': 4358, 'leigh': 4359, 'atroc': 4360, 'naughti': 4361, 'cancer': 4362, 'literari': 4363, 'ingeni': 4364, 'en': 4365, 'quietli': 4366, 'springer': 4367, 'posey': 4368, 'inmat': 4369, 'immers': 4370, '75': 4371, '1989': 4372, 'ram': 4373, 'choppi': 4374, 'iv': 4375, 'couch': 4376, 'smell': 4377, 'abrupt': 4378, 'brit': 4379, 'heist': 4380, 'standout': 4381, 'worship': 4382, 'rub': 4383, 'teas': 4384, 'penn': 4385, 'curli': 4386, 'beverli': 4387, 'bread': 4388, 'chavez': 4389, 'straightforward': 4390, 'counterpart': 4391, 'dirt': 4392, 'impos': 4393, 'paxton': 4394, 'hopkin': 4395, 'chamberlain': 4396, 'minist': 4397, 'grudg': 4398, 'lectur': 4399, 'tierney': 4400, 'entranc': 4401, 'wwe': 4402, 'yearn': 4403, 'net': 4404, '1986': 4405, 'entitl': 4406, 'bernard': 4407, 'duel': 4408, 'sublim': 4409, 'transcend': 4410, 'convert': 4411, 'lindsay': 4412, 'morbid': 4413, 'missil': 4414, 'misguid': 4415, 'cattl': 4416, 'laurenc': 4417, 'enthral': 4418, 'geni': 4419, 'nolan': 4420, 'injuri': 4421, 'sassi': 4422, 'policeman': 4423, 'variat': 4424, 'moreov': 4425, 'heartfelt': 4426, 'skeptic': 4427, 'quaid': 4428, 'watcher': 4429, 'clan': 4430, 'ace': 4431, 'esther': 4432, 'nemesi': 4433, 'attenborough': 4434, 'ratso': 4435, 'carlito': 4436, 'buzz': 4437, 'kidman': 4438, 'spiral': 4439, 'reliabl': 4440, 'uncut': 4441, 'tyler': 4442, 'puppi': 4443, 'youngest': 4444, 'grin': 4445, 'diari': 4446, 'kitti': 4447, 'facil': 4448, 'hopelessli': 4449, 'characteris': 4450, 'dont': 4451, 'setup': 4452, 'obstacl': 4453, 'steadi': 4454, 'bye': 4455, 'poe': 4456, 'mytholog': 4457, 'egg': 4458, 'graini': 4459, 'enabl': 4460, 'moder': 4461, 'unexplain': 4462, 'artsi': 4463, 'vader': 4464, 'brood': 4465, 'rosemari': 4466, '1979': 4467, 'cruelti': 4468, 'bean': 4469, 'out': 4470, 'hk': 4471, 'hammi': 4472, 'fuel': 4473, 'oblig': 4474, 'athlet': 4475, 'despic': 4476, 'martha': 4477, 'narrow': 4478, 'bounc': 4479, '1969': 4480, 'decept': 4481, 'patricia': 4482, 'acquaint': 4483, 'sweat': 4484, 'gina': 4485, 'disastr': 4486, 'bronson': 4487, 'clueless': 4488, 'baffl': 4489, 'bewar': 4490, 'heap': 4491, 'niec': 4492, 'hain': 4493, 'weather': 4494, 'christin': 4495, 'brendan': 4496, 'underworld': 4497, 'spontan': 4498, 'preming': 4499, 'effici': 4500, 'gillian': 4501, 'exterior': 4502, 'kline': 4503, 'outlaw': 4504, 'uh': 4505, 'viewpoint': 4506, 'scar': 4507, 'preachi': 4508, 'shatter': 4509, 'circu': 4510, 'biker': 4511, 'mayhem': 4512, 'fontain': 4513, 'loath': 4514, 'angst': 4515, 'trigger': 4516, 'dilemma': 4517, 'insipid': 4518, 'taboo': 4519, 'lester': 4520, 'loi': 4521, 'housewif': 4522, 'rome': 4523, 'astound': 4524, 'injur': 4525, 'sleepwalk': 4526, 'dandi': 4527, 'enlist': 4528, 'harmless': 4529, 'virtu': 4530, '19': 4531, 'analyz': 4532, 'suprem': 4533, 'sooner': 4534, 'candl': 4535, 'hepburn': 4536, 'headach': 4537, 'goof': 4538, 'tick': 4539, '73': 4540, 'mermaid': 4541, 'renaiss': 4542, 'dish': 4543, 'claustrophob': 4544, 'hokey': 4545, 'stimul': 4546, 'salt': 4547, 'tripl': 4548, 'bent': 4549, 'foolish': 4550, 'redund': 4551, 'glorifi': 4552, 'steer': 4553, 'boston': 4554, 'overlong': 4555, 'stair': 4556, 'surgeri': 4557, 'filth': 4558, 'hostag': 4559, 'phenomenon': 4560, 'slimi': 4561, 'intric': 4562, 'immatur': 4563, 'idol': 4564, 'camcord': 4565, 'whore': 4566, 'dismal': 4567, 'amor': 4568, 'fluff': 4569, 'guin': 4570, 'zoom': 4571, 'contempt': 4572, 'sox': 4573, 'scorses': 4574, 'oldest': 4575, 'macho': 4576, 'gere': 4577, 'corbett': 4578, 'spade': 4579, 'hooker': 4580, 'ebert': 4581, 'cassavet': 4582, 'ariel': 4583, 'conquer': 4584, 'perman': 4585, 'rhyme': 4586, 'shred': 4587, 'naschi': 4588, 'cohen': 4589, 'obligatori': 4590, 'faint': 4591, 'margin': 4592, 'cow': 4593, 'widescreen': 4594, 'zane': 4595, 'astronaut': 4596, 'proport': 4597, 'strongest': 4598, 'beard': 4599, 'antagonist': 4600, 'corman': 4601, 'harold': 4602, '1976': 4603, 'flag': 4604, 'flirt': 4605, '1981': 4606, 'mutual': 4607, 'down': 4608, 'trivia': 4609, 'gasp': 4610, 'assert': 4611, 'joker': 4612, 'muscl': 4613, 'alvin': 4614, 'mount': 4615, 'spree': 4616, 'transplant': 4617, 'remad': 4618, 'shield': 4619, 'dwarf': 4620, 'frantic': 4621, 'fascist': 4622, 'messi': 4623, 'flashi': 4624, 'schlock': 4625, 'spinal': 4626, 'cush': 4627, 'radiat': 4628, 'gabl': 4629, 'keen': 4630, 'preced': 4631, 'nolt': 4632, 'sensual': 4633, 'bitten': 4634, 'brush': 4635, 'bachelor': 4636, 'info': 4637, '1945': 4638, 'departur': 4639, 'www': 4640, 'repris': 4641, 'instruct': 4642, 'boob': 4643, 'wield': 4644, 'deer': 4645, 'strive': 4646, 'off': 4647, 'someday': 4648, 'ritchi': 4649, '28': 4650, 'fishburn': 4651, 'mobil': 4652, 'hara': 4653, 'interestingli': 4654, 'persuad': 4655, 'scandal': 4656, 'vaniti': 4657, 'carey': 4658, 'archiv': 4659, 'divin': 4660, 'triangl': 4661, 'discern': 4662, 'inflict': 4663, 'danish': 4664, 'raj': 4665, 'resum': 4666, 'barn': 4667, 'neurot': 4668, 'aborigin': 4669, 'claud': 4670, 'flock': 4671, '95': 4672, 'mol': 4673, 'carlo': 4674, 'loretta': 4675, 'banter': 4676, 'submit': 4677, 'clad': 4678, 'recit': 4679, 'pacif': 4680, 'mobster': 4681, 'cher': 4682, 'fragil': 4683, 'luka': 4684, 'europa': 4685, 'cliffhang': 4686, 'helm': 4687, 'cycl': 4688, 'hapless': 4689, 'earnest': 4690, 'miracul': 4691, 'prophet': 4692, 'biblic': 4693, 'axe': 4694, 'ish': 4695, 'wendigo': 4696, 'traffic': 4697, 'melissa': 4698, 'dylan': 4699, 'artwork': 4700, 'jade': 4701, 'heartwarm': 4702, 'undermin': 4703, 'parson': 4704, 'casino': 4705, 'cb': 4706, 'anton': 4707, 'senior': 4708, 'kathryn': 4709, 'timberlak': 4710, 'rot': 4711, 'frontier': 4712, 'neill': 4713, 'pixar': 4714, 'harrison': 4715, 'vibrant': 4716, 'hilar': 4717, 'pickford': 4718, 'hug': 4719, 'dim': 4720, 'proclaim': 4721, 'dame': 4722, 'colin': 4723, 'bate': 4724, 'antholog': 4725, 'lui': 4726, 'akin': 4727, 'mason': 4728, 'cerebr': 4729, 'jordan': 4730, 'mathieu': 4731, 'eli': 4732, 'shepherd': 4733, 'isra': 4734, 'feast': 4735, 'articl': 4736, 'blatantli': 4737, 'razor': 4738, 'orphan': 4739, 'aris': 4740, 'misfortun': 4741, 'northern': 4742, 'electron': 4743, 'marlon': 4744, 'http': 4745, 'legitim': 4746, 'vanessa': 4747, 'estrang': 4748, 'token': 4749, 'vile': 4750, 'toronto': 4751, 'nope': 4752, 'flavor': 4753, 'illus': 4754, 'jo': 4755, 'breakfast': 4756, 'lucil': 4757, 'trier': 4758, 'uma': 4759, 'bikini': 4760, 'static': 4761, 'wardrob': 4762, 'holocaust': 4763, 'sicken': 4764, 'bondag': 4765, 'seedi': 4766, 'redneck': 4767, 'pc': 4768, 'rooki': 4769, 'foil': 4770, 'winchest': 4771, 'milo': 4772, 'choke': 4773, 'venom': 4774, 'alexandr': 4775, 'disregard': 4776, 'gilbert': 4777, 'oppon': 4778, 'tack': 4779, 'glare': 4780, 'fifth': 4781, 'swept': 4782, 'charlton': 4783, 'clinic': 4784, 'turd': 4785, 'smack': 4786, 'boyer': 4787, 'peer': 4788, 'ceremoni': 4789, 'linear': 4790, 'ideolog': 4791, 'howl': 4792, 'magician': 4793, 'retriev': 4794, 'audrey': 4795, 'psych': 4796, 'outdat': 4797, 'abund': 4798, 'cartoonish': 4799, 'comprehend': 4800, 'shorter': 4801, 'dudley': 4802, 'highway': 4803, 'styliz': 4804, 'leather': 4805, 'deem': 4806, 'feminin': 4807, 'nightclub': 4808, 'affleck': 4809, 'wrestler': 4810, 'gunga': 4811, 'huston': 4812, 'frog': 4813, 'knightley': 4814, 'btw': 4815, 'cuban': 4816, '4th': 4817, 'summar': 4818, '1991': 4819, 'energet': 4820, 'spine': 4821, 'snatch': 4822, 'collector': 4823, 'compris': 4824, 'boo': 4825, 'lighter': 4826, 'sleaz': 4827, 'durat': 4828, 'uniformli': 4829, 'toe': 4830, 'evolut': 4831, 'newer': 4832, 'mitch': 4833, 'monument': 4834, 'lifeless': 4835, 'senat': 4836, 'tara': 4837, 'lavish': 4838, 'plate': 4839, 'corn': 4840, 'spawn': 4841, 'bogu': 4842, '1994': 4843, 'client': 4844, 'potter': 4845, 'deliver': 4846, 'greet': 4847, 'chip': 4848, 'moe': 4849, 'conrad': 4850, 'salman': 4851, 'bastard': 4852, 'phenomen': 4853, 'breakdown': 4854, 'whack': 4855, 'goldsworthi': 4856, 'braveheart': 4857, 'cemeteri': 4858, 'einstein': 4859, 'jare': 4860, 'spectacl': 4861, 'creek': 4862, 'neatli': 4863, 'clara': 4864, 'ie': 4865, 'fluid': 4866, 'ol': 4867, 'gilliam': 4868, 'appl': 4869, 'evelyn': 4870, 'undead': 4871, 'inaccuraci': 4872, 'bulk': 4873, 'mcqueen': 4874, 'judd': 4875, '1974': 4876, 'sorrow': 4877, 'firmli': 4878, 'trauma': 4879, 'healthi': 4880, 'kent': 4881, 'luxuri': 4882, 'cecil': 4883, 'eleven': 4884, 'pronounc': 4885, 'jam': 4886, 'capot': 4887, 'armstrong': 4888, 'kazan': 4889, 'embark': 4890, 'historian': 4891, 'constitut': 4892, 'wtf': 4893, 'replay': 4894, 'bori': 4895, 'occup': 4896, 'alleg': 4897, 'randolph': 4898, 'signal': 4899, 'jedi': 4900, 'nina': 4901, 'belli': 4902, 'lex': 4903, 'outright': 4904, 'undertak': 4905, 'liu': 4906, 'jule': 4907, '1977': 4908, 'aussi': 4909, 'congratul': 4910, 'porter': 4911, 'decapit': 4912, 'paula': 4913, 'antonio': 4914, 'relentless': 4915, 'tokyo': 4916, 'sidewalk': 4917, 'miniseri': 4918, 'pepper': 4919, 'cape': 4920, 'inclus': 4921, 'unattract': 4922, 'abound': 4923, 'roar': 4924, 'knee': 4925, 'miami': 4926, 'lauren': 4927, 'unsuspect': 4928, 'id': 4929, 'walt': 4930, 'pioneer': 4931, 'kiddi': 4932, 'comb': 4933, 'rosario': 4934, 'goldblum': 4935, 'forgiven': 4936, 'truman': 4937, 'propheci': 4938, 'fruit': 4939, 'groan': 4940, 'galaxi': 4941, 'vignett': 4942, 'inaccur': 4943, 'subtli': 4944, 'ash': 4945, 'poker': 4946, 'conan': 4947, 'comprehens': 4948, 'meal': 4949, 'blur': 4950, '1985': 4951, 'basket': 4952, 'mum': 4953, 'sacrif': 4954, 'bait': 4955, 'palm': 4956, 'genet': 4957, 'spray': 4958, 'lanc': 4959, 'carmen': 4960, 'curtain': 4961, 'vain': 4962, 'bsg': 4963, 'scarfac': 4964, 'ghetto': 4965, 'spill': 4966, 'sparkl': 4967, 'masterson': 4968, 'turtl': 4969, 'hostil': 4970, 'mice': 4971, 'macabr': 4972, 'asset': 4973, 'vastli': 4974, 'evan': 4975, 'substanti': 4976, 'sophi': 4977, 'dubiou': 4978, 'jill': 4979, 'handicap': 4980, 'scariest': 4981, 'monti': 4982, 'epitom': 4983, 'optimist': 4984, 'motorcycl': 4985, 'verg': 4986, 'casper': 4987, 'frontal': 4988, '21st': 4989, 'omin': 4990, 'victorian': 4991, 'profil': 4992, 'playboy': 4993, 'bach': 4994, 'drone': 4995, 'orchestr': 4996, 'rapidli': 4997, 'weaker': 4998, 'detach': 4999}\n"
     ]
    }
   ],
   "source": [
    "print(word_dict)"
   ]
  },
  {
   "cell_type": "markdown",
   "metadata": {},
   "source": [
    "**Question:** What are the five most frequently appearing (tokenized) words in the training set? Does it makes sense that these words appear frequently in the training set?"
   ]
  },
  {
   "cell_type": "markdown",
   "metadata": {},
   "source": [
    "**Answer:**"
   ]
  },
  {
   "cell_type": "code",
   "execution_count": 14,
   "metadata": {},
   "outputs": [
    {
     "data": {
      "text/plain": [
       "['movi', 'film', 'one', 'like', 'time']"
      ]
     },
     "execution_count": 14,
     "metadata": {},
     "output_type": "execute_result"
    }
   ],
   "source": [
    "# TODO: Use this space to determine the five most frequently appearing words in the training set.\n",
    "list(word_dict.keys())[0:5]"
   ]
  },
  {
   "cell_type": "markdown",
   "metadata": {},
   "source": [
    "### Save `word_dict`\n",
    "\n",
    "Later on when we construct an endpoint which processes a submitted review we will need to make use of the `word_dict` which we have created. As such, we will save it to a file now for future use."
   ]
  },
  {
   "cell_type": "code",
   "execution_count": 15,
   "metadata": {},
   "outputs": [],
   "source": [
    "data_dir = '../data/pytorch' # The folder we will use for storing data\n",
    "if not os.path.exists(data_dir): # Make sure that the folder exists\n",
    "    os.makedirs(data_dir)"
   ]
  },
  {
   "cell_type": "code",
   "execution_count": 16,
   "metadata": {},
   "outputs": [],
   "source": [
    "with open(os.path.join(data_dir, 'word_dict.pkl'), \"wb\") as f:\n",
    "    pickle.dump(word_dict, f)"
   ]
  },
  {
   "cell_type": "markdown",
   "metadata": {},
   "source": [
    "### Transform the reviews\n",
    "\n",
    "Now that we have our word dictionary which allows us to transform the words appearing in the reviews into integers, it is time to make use of it and convert our reviews to their integer sequence representation, making sure to pad or truncate to a fixed length, which in our case is `500`."
   ]
  },
  {
   "cell_type": "code",
   "execution_count": 17,
   "metadata": {},
   "outputs": [],
   "source": [
    "def convert_and_pad(word_dict, sentence, pad=500):\n",
    "    NOWORD = 0 # We will use 0 to represent the 'no word' category\n",
    "    INFREQ = 1 # and we use 1 to represent the infrequent words, i.e., words not appearing in word_dict\n",
    "    \n",
    "    working_sentence = [NOWORD] * pad\n",
    "    \n",
    "    for word_index, word in enumerate(sentence[:pad]):\n",
    "        if word in word_dict:\n",
    "            working_sentence[word_index] = word_dict[word]\n",
    "        else:\n",
    "            working_sentence[word_index] = INFREQ\n",
    "        \n",
    "            \n",
    "    return working_sentence, min(len(sentence), pad)\n",
    "\n",
    "def convert_and_pad_data(word_dict, data, pad=500):\n",
    "    result = []\n",
    "    lengths = []\n",
    "    \n",
    "    for sentence in data:\n",
    "        converted, leng = convert_and_pad(word_dict, sentence, pad)\n",
    "        result.append(converted)\n",
    "        lengths.append(leng)\n",
    "        \n",
    "    return np.array(result), np.array(lengths)"
   ]
  },
  {
   "cell_type": "code",
   "execution_count": 18,
   "metadata": {},
   "outputs": [],
   "source": [
    "train_X, train_X_len = convert_and_pad_data(word_dict, train_X)\n",
    "test_X, test_X_len = convert_and_pad_data(word_dict, test_X)"
   ]
  },
  {
   "cell_type": "markdown",
   "metadata": {},
   "source": [
    "As a quick check to make sure that things are working as intended, check to see what one of the reviews in the training set looks like after having been processeed. Does this look reasonable? What is the length of a review in the training set?"
   ]
  },
  {
   "cell_type": "code",
   "execution_count": 19,
   "metadata": {},
   "outputs": [
    {
     "data": {
      "text/plain": [
       "500"
      ]
     },
     "execution_count": 19,
     "metadata": {},
     "output_type": "execute_result"
    }
   ],
   "source": [
    "train_X_len[100]"
   ]
  },
  {
   "cell_type": "code",
   "execution_count": 20,
   "metadata": {},
   "outputs": [
    {
     "data": {
      "text/plain": [
       "array([ 573,  573, 1009, 1005,  342,  698,    1,   90,  299,   39,   28,\n",
       "       2606,  752,   36, 3638,   17, 2124,  107, 3264,  848, 2412,  250,\n",
       "         89, 1072,  537, 3816,  238,   38,   82,   40,    3,  194, 1063,\n",
       "        500, 1005,  207,  457,  291, 1293,  540,   97,  496,  561, 2096,\n",
       "       3991,   45,  561,  327, 1282,   37, 3665,  292, 1005,    2, 1235,\n",
       "       1549,    1,  101,  165,  381,   66,  113,  202,   25,  259,  132,\n",
       "        354, 3906,    1,  576,  212,  259, 1019,  510, 1313, 2196,    8,\n",
       "       1196,  196, 4019, 1175, 2662,    4,    7,  150,  268, 3007,    1,\n",
       "        597,    9,   10, 1319,  887, 2534,  327, 3464, 4284,    7,  282,\n",
       "        719,  260,    4,  557,  917,    1,   85,  297,  734,  221,  285,\n",
       "       1880,  197,   14,   32, 1272,   53,   43,  959,   81,  190,  541,\n",
       "          1,  347,    1,   14,  286,  309,    9, 1041,    1,  597,  410,\n",
       "        352,   74,  191,    1,  412,    2, 4019,    5,  148, 1643, 2851,\n",
       "       2148,  832,  129,    7,  758, 1300,   14,  857,  457,  407,   83,\n",
       "          0,    0,    0,    0,    0,    0,    0,    0,    0,    0,    0,\n",
       "          0,    0,    0,    0,    0,    0,    0,    0,    0,    0,    0,\n",
       "          0,    0,    0,    0,    0,    0,    0,    0,    0,    0,    0,\n",
       "          0,    0,    0,    0,    0,    0,    0,    0,    0,    0,    0,\n",
       "          0,    0,    0,    0,    0,    0,    0,    0,    0,    0,    0,\n",
       "          0,    0,    0,    0,    0,    0,    0,    0,    0,    0,    0,\n",
       "          0,    0,    0,    0,    0,    0,    0,    0,    0,    0,    0,\n",
       "          0,    0,    0,    0,    0,    0,    0,    0,    0,    0,    0,\n",
       "          0,    0,    0,    0,    0,    0,    0,    0,    0,    0,    0,\n",
       "          0,    0,    0,    0,    0,    0,    0,    0,    0,    0,    0,\n",
       "          0,    0,    0,    0,    0,    0,    0,    0,    0,    0,    0,\n",
       "          0,    0,    0,    0,    0,    0,    0,    0,    0,    0,    0,\n",
       "          0,    0,    0,    0,    0,    0,    0,    0,    0,    0,    0,\n",
       "          0,    0,    0,    0,    0,    0,    0,    0,    0,    0,    0,\n",
       "          0,    0,    0,    0,    0,    0,    0,    0,    0,    0,    0,\n",
       "          0,    0,    0,    0,    0,    0,    0,    0,    0,    0,    0,\n",
       "          0,    0,    0,    0,    0,    0,    0,    0,    0,    0,    0,\n",
       "          0,    0,    0,    0,    0,    0,    0,    0,    0,    0,    0,\n",
       "          0,    0,    0,    0,    0,    0,    0,    0,    0,    0,    0,\n",
       "          0,    0,    0,    0,    0,    0,    0,    0,    0,    0,    0,\n",
       "          0,    0,    0,    0,    0,    0,    0,    0,    0,    0,    0,\n",
       "          0,    0,    0,    0,    0,    0,    0,    0,    0,    0,    0,\n",
       "          0,    0,    0,    0,    0,    0,    0,    0,    0,    0,    0,\n",
       "          0,    0,    0,    0,    0,    0,    0,    0,    0,    0,    0,\n",
       "          0,    0,    0,    0,    0,    0,    0,    0,    0,    0,    0,\n",
       "          0,    0,    0,    0,    0,    0,    0,    0,    0,    0,    0,\n",
       "          0,    0,    0,    0,    0,    0,    0,    0,    0,    0,    0,\n",
       "          0,    0,    0,    0,    0,    0,    0,    0,    0,    0,    0,\n",
       "          0,    0,    0,    0,    0,    0,    0,    0,    0,    0,    0,\n",
       "          0,    0,    0,    0,    0,    0,    0,    0,    0,    0,    0,\n",
       "          0,    0,    0,    0,    0,    0,    0,    0,    0,    0,    0,\n",
       "          0,    0,    0,    0,    0])"
      ]
     },
     "execution_count": 20,
     "metadata": {},
     "output_type": "execute_result"
    }
   ],
   "source": [
    "# Use this cell to examine one of the processed reviews to make sure everything is working as intended.\n",
    "train_X[0] \n",
    "#it looks ok."
   ]
  },
  {
   "cell_type": "markdown",
   "metadata": {},
   "source": [
    "**Question:** In the cells above we use the `preprocess_data` and `convert_and_pad_data` methods to process both the training and testing set. Why or why not might this be a problem?"
   ]
  },
  {
   "cell_type": "markdown",
   "metadata": {},
   "source": [
    "**Answer:** preprocess_data applies the review_to_words method in each review and save all of its output in a file so that when we run this notebook in second time it will load quickly. \n",
    "The convert_and_pad_data method is basically used to label the words of each review and to set an uniform number of words to feed our neural network model. "
   ]
  },
  {
   "cell_type": "markdown",
   "metadata": {},
   "source": [
    "## Step 3: Upload the data to S3\n",
    "\n",
    "As in the XGBoost notebook, we will need to upload the training dataset to S3 in order for our training code to access it. For now we will save it locally and we will upload to S3 later on.\n",
    "\n",
    "### Save the processed training dataset locally\n",
    "\n",
    "It is important to note the format of the data that we are saving as we will need to know it when we write the training code. In our case, each row of the dataset has the form `label`, `length`, `review[500]` where `review[500]` is a sequence of `500` integers representing the words in the review."
   ]
  },
  {
   "cell_type": "code",
   "execution_count": 21,
   "metadata": {},
   "outputs": [],
   "source": [
    "import pandas as pd\n",
    "    \n",
    "pd.concat([pd.DataFrame(train_y), pd.DataFrame(train_X_len), pd.DataFrame(train_X)], axis=1) \\\n",
    "        .to_csv(os.path.join(data_dir, 'train.csv'), header=False, index=False)"
   ]
  },
  {
   "cell_type": "markdown",
   "metadata": {},
   "source": [
    "### Uploading the training data\n",
    "\n",
    "\n",
    "Next, we need to upload the training data to the SageMaker default S3 bucket so that we can provide access to it while training our model."
   ]
  },
  {
   "cell_type": "code",
   "execution_count": 22,
   "metadata": {},
   "outputs": [],
   "source": [
    "import sagemaker\n",
    "\n",
    "sagemaker_session = sagemaker.Session()\n",
    "\n",
    "bucket = sagemaker_session.default_bucket()\n",
    "prefix = 'sagemaker/sentiment_rnn'\n",
    "\n",
    "role = sagemaker.get_execution_role()"
   ]
  },
  {
   "cell_type": "code",
   "execution_count": 23,
   "metadata": {},
   "outputs": [],
   "source": [
    "input_data = sagemaker_session.upload_data(path=data_dir, bucket=bucket, key_prefix=prefix)"
   ]
  },
  {
   "cell_type": "markdown",
   "metadata": {},
   "source": [
    "**NOTE:** The cell above uploads the entire contents of our data directory. This includes the `word_dict.pkl` file. This is fortunate as we will need this later on when we create an endpoint that accepts an arbitrary review. For now, we will just take note of the fact that it resides in the data directory (and so also in the S3 training bucket) and that we will need to make sure it gets saved in the model directory."
   ]
  },
  {
   "cell_type": "markdown",
   "metadata": {},
   "source": [
    "## Step 4: Build and Train the PyTorch Model\n",
    "\n",
    "In the XGBoost notebook we discussed what a model is in the SageMaker framework. In particular, a model comprises three objects\n",
    "\n",
    " - Model Artifacts,\n",
    " - Training Code, and\n",
    " - Inference Code,\n",
    " \n",
    "each of which interact with one another. In the XGBoost example we used training and inference code that was provided by Amazon. Here we will still be using containers provided by Amazon with the added benefit of being able to include our own custom code.\n",
    "\n",
    "We will start by implementing our own neural network in PyTorch along with a training script. For the purposes of this project we have provided the necessary model object in the `model.py` file, inside of the `train` folder. You can see the provided implementation by running the cell below."
   ]
  },
  {
   "cell_type": "code",
   "execution_count": 24,
   "metadata": {},
   "outputs": [
    {
     "name": "stdout",
     "output_type": "stream",
     "text": [
      "\u001b[34mimport\u001b[39;49;00m \u001b[04m\u001b[36mtorch.nn\u001b[39;49;00m \u001b[34mas\u001b[39;49;00m \u001b[04m\u001b[36mnn\u001b[39;49;00m\r\n",
      "\r\n",
      "\u001b[34mclass\u001b[39;49;00m \u001b[04m\u001b[32mLSTMClassifier\u001b[39;49;00m(nn.Module):\r\n",
      "    \u001b[33m\"\"\"\u001b[39;49;00m\r\n",
      "\u001b[33m    This is the simple RNN model we will be using to perform Sentiment Analysis.\u001b[39;49;00m\r\n",
      "\u001b[33m    \"\"\"\u001b[39;49;00m\r\n",
      "\r\n",
      "    \u001b[34mdef\u001b[39;49;00m \u001b[32m__init__\u001b[39;49;00m(\u001b[36mself\u001b[39;49;00m, embedding_dim, hidden_dim, vocab_size):\r\n",
      "        \u001b[33m\"\"\"\u001b[39;49;00m\r\n",
      "\u001b[33m        Initialize the model by settingg up the various layers.\u001b[39;49;00m\r\n",
      "\u001b[33m        \"\"\"\u001b[39;49;00m\r\n",
      "        \u001b[36msuper\u001b[39;49;00m(LSTMClassifier, \u001b[36mself\u001b[39;49;00m).\u001b[32m__init__\u001b[39;49;00m()\r\n",
      "\r\n",
      "        \u001b[36mself\u001b[39;49;00m.embedding = nn.Embedding(vocab_size, embedding_dim, padding_idx=\u001b[34m0\u001b[39;49;00m)\r\n",
      "        \u001b[36mself\u001b[39;49;00m.lstm = nn.LSTM(embedding_dim, hidden_dim)\r\n",
      "        \u001b[36mself\u001b[39;49;00m.dense = nn.Linear(in_features=hidden_dim, out_features=\u001b[34m1\u001b[39;49;00m)\r\n",
      "        \u001b[36mself\u001b[39;49;00m.sig = nn.Sigmoid()\r\n",
      "        \r\n",
      "        \u001b[36mself\u001b[39;49;00m.word_dict = \u001b[36mNone\u001b[39;49;00m\r\n",
      "\r\n",
      "    \u001b[34mdef\u001b[39;49;00m \u001b[32mforward\u001b[39;49;00m(\u001b[36mself\u001b[39;49;00m, x):\r\n",
      "        \u001b[33m\"\"\"\u001b[39;49;00m\r\n",
      "\u001b[33m        Perform a forward pass of our model on some input.\u001b[39;49;00m\r\n",
      "\u001b[33m        \"\"\"\u001b[39;49;00m\r\n",
      "        x = x.t()\r\n",
      "        lengths = x[\u001b[34m0\u001b[39;49;00m,:]\r\n",
      "        reviews = x[\u001b[34m1\u001b[39;49;00m:,:]\r\n",
      "        embeds = \u001b[36mself\u001b[39;49;00m.embedding(reviews)\r\n",
      "        lstm_out, _ = \u001b[36mself\u001b[39;49;00m.lstm(embeds)\r\n",
      "        out = \u001b[36mself\u001b[39;49;00m.dense(lstm_out)\r\n",
      "        out = out[lengths - \u001b[34m1\u001b[39;49;00m, \u001b[36mrange\u001b[39;49;00m(\u001b[36mlen\u001b[39;49;00m(lengths))]\r\n",
      "        \u001b[34mreturn\u001b[39;49;00m \u001b[36mself\u001b[39;49;00m.sig(out.squeeze())\r\n"
     ]
    }
   ],
   "source": [
    "!pygmentize train/model.py"
   ]
  },
  {
   "cell_type": "markdown",
   "metadata": {},
   "source": [
    "The important takeaway from the implementation provided is that there are three parameters that we may wish to tweak to improve the performance of our model. These are the embedding dimension, the hidden dimension and the size of the vocabulary. We will likely want to make these parameters configurable in the training script so that if we wish to modify them we do not need to modify the script itself. We will see how to do this later on. To start we will write some of the training code in the notebook so that we can more easily diagnose any issues that arise.\n",
    "\n",
    "First we will load a small portion of the training data set to use as a sample. It would be very time consuming to try and train the model completely in the notebook as we do not have access to a gpu and the compute instance that we are using is not particularly powerful. However, we can work on a small bit of the data to get a feel for how our training script is behaving."
   ]
  },
  {
   "cell_type": "code",
   "execution_count": 25,
   "metadata": {},
   "outputs": [],
   "source": [
    "import torch\n",
    "import torch.utils.data\n",
    "\n",
    "# Read in only the first 250 rows\n",
    "train_sample = pd.read_csv(os.path.join(data_dir, 'train.csv'), header=None, names=None, nrows=250)\n",
    "\n",
    "# Turn the input pandas dataframe into tensors\n",
    "train_sample_y = torch.from_numpy(train_sample[[0]].values).float().squeeze()\n",
    "train_sample_X = torch.from_numpy(train_sample.drop([0], axis=1).values).long()\n",
    "\n",
    "# Build the dataset\n",
    "train_sample_ds = torch.utils.data.TensorDataset(train_sample_X, train_sample_y)\n",
    "# Build the dataloader\n",
    "train_sample_dl = torch.utils.data.DataLoader(train_sample_ds, batch_size=50)"
   ]
  },
  {
   "cell_type": "code",
   "execution_count": 26,
   "metadata": {},
   "outputs": [
    {
     "data": {
      "text/html": [
       "<div>\n",
       "<style scoped>\n",
       "    .dataframe tbody tr th:only-of-type {\n",
       "        vertical-align: middle;\n",
       "    }\n",
       "\n",
       "    .dataframe tbody tr th {\n",
       "        vertical-align: top;\n",
       "    }\n",
       "\n",
       "    .dataframe thead th {\n",
       "        text-align: right;\n",
       "    }\n",
       "</style>\n",
       "<table border=\"1\" class=\"dataframe\">\n",
       "  <thead>\n",
       "    <tr style=\"text-align: right;\">\n",
       "      <th></th>\n",
       "      <th>0</th>\n",
       "      <th>1</th>\n",
       "      <th>2</th>\n",
       "      <th>3</th>\n",
       "      <th>4</th>\n",
       "      <th>5</th>\n",
       "      <th>6</th>\n",
       "      <th>7</th>\n",
       "      <th>8</th>\n",
       "      <th>9</th>\n",
       "      <th>...</th>\n",
       "      <th>492</th>\n",
       "      <th>493</th>\n",
       "      <th>494</th>\n",
       "      <th>495</th>\n",
       "      <th>496</th>\n",
       "      <th>497</th>\n",
       "      <th>498</th>\n",
       "      <th>499</th>\n",
       "      <th>500</th>\n",
       "      <th>501</th>\n",
       "    </tr>\n",
       "  </thead>\n",
       "  <tbody>\n",
       "    <tr>\n",
       "      <th>0</th>\n",
       "      <td>0</td>\n",
       "      <td>154</td>\n",
       "      <td>573</td>\n",
       "      <td>573</td>\n",
       "      <td>1009</td>\n",
       "      <td>1005</td>\n",
       "      <td>342</td>\n",
       "      <td>698</td>\n",
       "      <td>1</td>\n",
       "      <td>90</td>\n",
       "      <td>...</td>\n",
       "      <td>0</td>\n",
       "      <td>0</td>\n",
       "      <td>0</td>\n",
       "      <td>0</td>\n",
       "      <td>0</td>\n",
       "      <td>0</td>\n",
       "      <td>0</td>\n",
       "      <td>0</td>\n",
       "      <td>0</td>\n",
       "      <td>0</td>\n",
       "    </tr>\n",
       "    <tr>\n",
       "      <th>1</th>\n",
       "      <td>1</td>\n",
       "      <td>67</td>\n",
       "      <td>42</td>\n",
       "      <td>44</td>\n",
       "      <td>72</td>\n",
       "      <td>377</td>\n",
       "      <td>698</td>\n",
       "      <td>1858</td>\n",
       "      <td>1</td>\n",
       "      <td>3330</td>\n",
       "      <td>...</td>\n",
       "      <td>0</td>\n",
       "      <td>0</td>\n",
       "      <td>0</td>\n",
       "      <td>0</td>\n",
       "      <td>0</td>\n",
       "      <td>0</td>\n",
       "      <td>0</td>\n",
       "      <td>0</td>\n",
       "      <td>0</td>\n",
       "      <td>0</td>\n",
       "    </tr>\n",
       "    <tr>\n",
       "      <th>2</th>\n",
       "      <td>1</td>\n",
       "      <td>89</td>\n",
       "      <td>69</td>\n",
       "      <td>120</td>\n",
       "      <td>48</td>\n",
       "      <td>71</td>\n",
       "      <td>49</td>\n",
       "      <td>23</td>\n",
       "      <td>2172</td>\n",
       "      <td>508</td>\n",
       "      <td>...</td>\n",
       "      <td>0</td>\n",
       "      <td>0</td>\n",
       "      <td>0</td>\n",
       "      <td>0</td>\n",
       "      <td>0</td>\n",
       "      <td>0</td>\n",
       "      <td>0</td>\n",
       "      <td>0</td>\n",
       "      <td>0</td>\n",
       "      <td>0</td>\n",
       "    </tr>\n",
       "    <tr>\n",
       "      <th>3</th>\n",
       "      <td>1</td>\n",
       "      <td>447</td>\n",
       "      <td>1</td>\n",
       "      <td>1</td>\n",
       "      <td>1</td>\n",
       "      <td>1</td>\n",
       "      <td>44</td>\n",
       "      <td>321</td>\n",
       "      <td>4315</td>\n",
       "      <td>1</td>\n",
       "      <td>...</td>\n",
       "      <td>0</td>\n",
       "      <td>0</td>\n",
       "      <td>0</td>\n",
       "      <td>0</td>\n",
       "      <td>0</td>\n",
       "      <td>0</td>\n",
       "      <td>0</td>\n",
       "      <td>0</td>\n",
       "      <td>0</td>\n",
       "      <td>0</td>\n",
       "    </tr>\n",
       "    <tr>\n",
       "      <th>4</th>\n",
       "      <td>0</td>\n",
       "      <td>171</td>\n",
       "      <td>3</td>\n",
       "      <td>277</td>\n",
       "      <td>374</td>\n",
       "      <td>4860</td>\n",
       "      <td>2680</td>\n",
       "      <td>1881</td>\n",
       "      <td>648</td>\n",
       "      <td>1</td>\n",
       "      <td>...</td>\n",
       "      <td>0</td>\n",
       "      <td>0</td>\n",
       "      <td>0</td>\n",
       "      <td>0</td>\n",
       "      <td>0</td>\n",
       "      <td>0</td>\n",
       "      <td>0</td>\n",
       "      <td>0</td>\n",
       "      <td>0</td>\n",
       "      <td>0</td>\n",
       "    </tr>\n",
       "  </tbody>\n",
       "</table>\n",
       "<p>5 rows × 502 columns</p>\n",
       "</div>"
      ],
      "text/plain": [
       "   0    1    2    3     4     5     6     7     8     9    ...  492  493  494  \\\n",
       "0    0  154  573  573  1009  1005   342   698     1    90  ...    0    0    0   \n",
       "1    1   67   42   44    72   377   698  1858     1  3330  ...    0    0    0   \n",
       "2    1   89   69  120    48    71    49    23  2172   508  ...    0    0    0   \n",
       "3    1  447    1    1     1     1    44   321  4315     1  ...    0    0    0   \n",
       "4    0  171    3  277   374  4860  2680  1881   648     1  ...    0    0    0   \n",
       "\n",
       "   495  496  497  498  499  500  501  \n",
       "0    0    0    0    0    0    0    0  \n",
       "1    0    0    0    0    0    0    0  \n",
       "2    0    0    0    0    0    0    0  \n",
       "3    0    0    0    0    0    0    0  \n",
       "4    0    0    0    0    0    0    0  \n",
       "\n",
       "[5 rows x 502 columns]"
      ]
     },
     "execution_count": 26,
     "metadata": {},
     "output_type": "execute_result"
    }
   ],
   "source": [
    "train_sample.head()"
   ]
  },
  {
   "cell_type": "markdown",
   "metadata": {},
   "source": [
    "### (TODO) Writing the training method\n",
    "\n",
    "Next we need to write the training code itself. This should be very similar to training methods that you have written before to train PyTorch models. We will leave any difficult aspects such as model saving / loading and parameter loading until a little later."
   ]
  },
  {
   "cell_type": "code",
   "execution_count": 27,
   "metadata": {},
   "outputs": [],
   "source": [
    "def train(model, train_loader, epochs, optimizer, loss_fn, device):\n",
    "    for epoch in range(1, epochs + 1):\n",
    "        model.train()\n",
    "        total_loss = 0\n",
    "        for batch in train_loader:         \n",
    "            batch_X, batch_y = batch\n",
    "            \n",
    "            batch_X = batch_X.to(device)\n",
    "            batch_y = batch_y.to(device)\n",
    "            \n",
    "            # TODO: Complete this train method to train the model provided.\n",
    "            optimizer.zero_grad() # set the gradients to zero before starting to do backpropragation \n",
    "            output = model.forward(batch_X)\n",
    "            loss = loss_fn(output,batch_y)\n",
    "            loss.backward()\n",
    "            optimizer.step()\n",
    "            \n",
    "            \n",
    "            total_loss += loss.data.item()\n",
    "        print(\"Epoch: {}, BCELoss: {}\".format(epoch, total_loss / len(train_loader)))"
   ]
  },
  {
   "cell_type": "markdown",
   "metadata": {},
   "source": [
    "Supposing we have the training method above, we will test that it is working by writing a bit of code in the notebook that executes our training method on the small sample training set that we loaded earlier. The reason for doing this in the notebook is so that we have an opportunity to fix any errors that arise early when they are easier to diagnose."
   ]
  },
  {
   "cell_type": "code",
   "execution_count": 28,
   "metadata": {},
   "outputs": [
    {
     "name": "stdout",
     "output_type": "stream",
     "text": [
      "Epoch: 1, BCELoss: 0.6934082865715027\n",
      "Epoch: 2, BCELoss: 0.6853263854980469\n",
      "Epoch: 3, BCELoss: 0.6784209132194519\n",
      "Epoch: 4, BCELoss: 0.6707762956619263\n",
      "Epoch: 5, BCELoss: 0.6612052321434021\n"
     ]
    }
   ],
   "source": [
    "import torch.optim as optim\n",
    "from train.model import LSTMClassifier\n",
    "\n",
    "device = torch.device(\"cuda\" if torch.cuda.is_available() else \"cpu\")\n",
    "model = LSTMClassifier(32, 100, 5000).to(device)\n",
    "optimizer = optim.Adam(model.parameters())\n",
    "loss_fn = torch.nn.BCELoss()\n",
    "\n",
    "train(model, train_sample_dl, 5, optimizer, loss_fn, device)"
   ]
  },
  {
   "cell_type": "markdown",
   "metadata": {},
   "source": [
    "In order to construct a PyTorch model using SageMaker we must provide SageMaker with a training script. We may optionally include a directory which will be copied to the container and from which our training code will be run. When the training container is executed it will check the uploaded directory (if there is one) for a `requirements.txt` file and install any required Python libraries, after which the training script will be run."
   ]
  },
  {
   "cell_type": "markdown",
   "metadata": {},
   "source": [
    "### (TODO) Training the model\n",
    "\n",
    "When a PyTorch model is constructed in SageMaker, an entry point must be specified. This is the Python file which will be executed when the model is trained. Inside of the `train` directory is a file called `train.py` which has been provided and which contains most of the necessary code to train our model. The only thing that is missing is the implementation of the `train()` method which you wrote earlier in this notebook.\n",
    "\n",
    "**TODO**: Copy the `train()` method written above and paste it into the `train/train.py` file where required.\n",
    "\n",
    "The way that SageMaker passes hyperparameters to the training script is by way of arguments. These arguments can then be parsed and used in the training script. To see how this is done take a look at the provided `train/train.py` file."
   ]
  },
  {
   "cell_type": "code",
   "execution_count": 29,
   "metadata": {},
   "outputs": [],
   "source": [
    "from sagemaker.pytorch import PyTorch\n",
    "\n",
    "estimator = PyTorch(entry_point=\"train.py\",\n",
    "                    source_dir=\"train\",\n",
    "                    role=role,\n",
    "                    framework_version='0.4.0',\n",
    "                    train_instance_count=1,\n",
    "                    train_instance_type='ml.p2.xlarge',\n",
    "                    hyperparameters={\n",
    "                        'epochs': 10,\n",
    "                        'hidden_dim': 200,\n",
    "                    })"
   ]
  },
  {
   "cell_type": "code",
   "execution_count": 30,
   "metadata": {},
   "outputs": [
    {
     "name": "stdout",
     "output_type": "stream",
     "text": [
      "2020-01-23 19:37:51 Starting - Starting the training job...\n",
      "2020-01-23 19:37:53 Starting - Launching requested ML instances......\n",
      "2020-01-23 19:38:56 Starting - Preparing the instances for training......\n",
      "2020-01-23 19:40:02 Downloading - Downloading input data...\n",
      "2020-01-23 19:40:43 Training - Downloading the training image...\u001b[34mbash: cannot set terminal process group (-1): Inappropriate ioctl for device\u001b[0m\n",
      "\u001b[34mbash: no job control in this shell\u001b[0m\n",
      "\u001b[34m2020-01-23 19:41:08,676 sagemaker-containers INFO     Imported framework sagemaker_pytorch_container.training\u001b[0m\n",
      "\u001b[34m2020-01-23 19:41:08,704 sagemaker_pytorch_container.training INFO     Block until all host DNS lookups succeed.\u001b[0m\n",
      "\u001b[34m2020-01-23 19:41:08,708 sagemaker_pytorch_container.training INFO     Invoking user training script.\u001b[0m\n",
      "\u001b[34m2020-01-23 19:41:08,940 sagemaker-containers INFO     Module train does not provide a setup.py. \u001b[0m\n",
      "\u001b[34mGenerating setup.py\u001b[0m\n",
      "\u001b[34m2020-01-23 19:41:08,940 sagemaker-containers INFO     Generating setup.cfg\u001b[0m\n",
      "\u001b[34m2020-01-23 19:41:08,941 sagemaker-containers INFO     Generating MANIFEST.in\u001b[0m\n",
      "\u001b[34m2020-01-23 19:41:08,941 sagemaker-containers INFO     Installing module with the following command:\u001b[0m\n",
      "\u001b[34m/usr/bin/python -m pip install -U . -r requirements.txt\u001b[0m\n",
      "\u001b[34mProcessing /opt/ml/code\u001b[0m\n",
      "\u001b[34mCollecting pandas (from -r requirements.txt (line 1))\n",
      "  Downloading https://files.pythonhosted.org/packages/74/24/0cdbf8907e1e3bc5a8da03345c23cbed7044330bb8f73bb12e711a640a00/pandas-0.24.2-cp35-cp35m-manylinux1_x86_64.whl (10.0MB)\u001b[0m\n",
      "\u001b[34mCollecting numpy (from -r requirements.txt (line 2))\u001b[0m\n",
      "\u001b[34m  Downloading https://files.pythonhosted.org/packages/52/e6/1715e592ef47f28f3f50065322423bb75619ed2f7c24be86380ecc93503c/numpy-1.18.1-cp35-cp35m-manylinux1_x86_64.whl (19.9MB)\u001b[0m\n",
      "\u001b[34mCollecting nltk (from -r requirements.txt (line 3))\n",
      "  Downloading https://files.pythonhosted.org/packages/f6/1d/d925cfb4f324ede997f6d47bea4d9babba51b49e87a767c170b77005889d/nltk-3.4.5.zip (1.5MB)\u001b[0m\n",
      "\u001b[34mCollecting beautifulsoup4 (from -r requirements.txt (line 4))\n",
      "  Downloading https://files.pythonhosted.org/packages/cb/a1/c698cf319e9cfed6b17376281bd0efc6bfc8465698f54170ef60a485ab5d/beautifulsoup4-4.8.2-py3-none-any.whl (106kB)\u001b[0m\n",
      "\u001b[34mCollecting html5lib (from -r requirements.txt (line 5))\n",
      "  Downloading https://files.pythonhosted.org/packages/a5/62/bbd2be0e7943ec8504b517e62bab011b4946e1258842bc159e5dfde15b96/html5lib-1.0.1-py2.py3-none-any.whl (117kB)\u001b[0m\n",
      "\u001b[34mRequirement already satisfied, skipping upgrade: python-dateutil>=2.5.0 in /usr/local/lib/python3.5/dist-packages (from pandas->-r requirements.txt (line 1)) (2.7.5)\u001b[0m\n",
      "\u001b[34mCollecting pytz>=2011k (from pandas->-r requirements.txt (line 1))\n",
      "  Downloading https://files.pythonhosted.org/packages/e7/f9/f0b53f88060247251bf481fa6ea62cd0d25bf1b11a87888e53ce5b7c8ad2/pytz-2019.3-py2.py3-none-any.whl (509kB)\u001b[0m\n",
      "\u001b[34mRequirement already satisfied, skipping upgrade: six in /usr/local/lib/python3.5/dist-packages (from nltk->-r requirements.txt (line 3)) (1.11.0)\u001b[0m\n",
      "\u001b[34mCollecting soupsieve>=1.2 (from beautifulsoup4->-r requirements.txt (line 4))\u001b[0m\n",
      "\u001b[34m  Downloading https://files.pythonhosted.org/packages/81/94/03c0f04471fc245d08d0a99f7946ac228ca98da4fa75796c507f61e688c2/soupsieve-1.9.5-py2.py3-none-any.whl\u001b[0m\n",
      "\u001b[34mCollecting webencodings (from html5lib->-r requirements.txt (line 5))\n",
      "  Downloading https://files.pythonhosted.org/packages/f4/24/2a3e3df732393fed8b3ebf2ec078f05546de641fe1b667ee316ec1dcf3b7/webencodings-0.5.1-py2.py3-none-any.whl\u001b[0m\n",
      "\u001b[34mBuilding wheels for collected packages: nltk, train\n",
      "  Running setup.py bdist_wheel for nltk: started\n",
      "  Running setup.py bdist_wheel for nltk: finished with status 'done'\n",
      "  Stored in directory: /root/.cache/pip/wheels/96/86/f6/68ab24c23f207c0077381a5e3904b2815136b879538a24b483\n",
      "  Running setup.py bdist_wheel for train: started\u001b[0m\n",
      "\u001b[34m  Running setup.py bdist_wheel for train: finished with status 'done'\n",
      "  Stored in directory: /tmp/pip-ephem-wheel-cache-ce0s6131/wheels/35/24/16/37574d11bf9bde50616c67372a334f94fa8356bc7164af8ca3\u001b[0m\n",
      "\u001b[34mSuccessfully built nltk train\u001b[0m\n",
      "\u001b[34mInstalling collected packages: numpy, pytz, pandas, nltk, soupsieve, beautifulsoup4, webencodings, html5lib, train\n",
      "  Found existing installation: numpy 1.15.4\n",
      "    Uninstalling numpy-1.15.4:\u001b[0m\n",
      "\u001b[34m      Successfully uninstalled numpy-1.15.4\u001b[0m\n",
      "\u001b[34mSuccessfully installed beautifulsoup4-4.8.2 html5lib-1.0.1 nltk-3.4.5 numpy-1.18.1 pandas-0.24.2 pytz-2019.3 soupsieve-1.9.5 train-1.0.0 webencodings-0.5.1\u001b[0m\n",
      "\u001b[34mYou are using pip version 18.1, however version 20.0.1 is available.\u001b[0m\n",
      "\u001b[34mYou should consider upgrading via the 'pip install --upgrade pip' command.\u001b[0m\n",
      "\u001b[34m2020-01-23 19:41:21,594 sagemaker-containers INFO     Invoking user script\n",
      "\u001b[0m\n",
      "\u001b[34mTraining Env:\n",
      "\u001b[0m\n",
      "\u001b[34m{\n",
      "    \"channel_input_dirs\": {\n",
      "        \"training\": \"/opt/ml/input/data/training\"\n",
      "    },\n",
      "    \"log_level\": 20,\n",
      "    \"input_dir\": \"/opt/ml/input\",\n",
      "    \"hyperparameters\": {\n",
      "        \"hidden_dim\": 200,\n",
      "        \"epochs\": 10\n",
      "    },\n",
      "    \"num_gpus\": 1,\n",
      "    \"hosts\": [\n",
      "        \"algo-1\"\n",
      "    ],\n",
      "    \"input_config_dir\": \"/opt/ml/input/config\",\n",
      "    \"input_data_config\": {\n",
      "        \"training\": {\n",
      "            \"S3DistributionType\": \"FullyReplicated\",\n",
      "            \"RecordWrapperType\": \"None\",\n",
      "            \"TrainingInputMode\": \"File\"\n",
      "        }\n",
      "    },\n",
      "    \"user_entry_point\": \"train.py\",\n",
      "    \"network_interface_name\": \"eth0\",\n",
      "    \"model_dir\": \"/opt/ml/model\",\n",
      "    \"current_host\": \"algo-1\",\n",
      "    \"num_cpus\": 4,\n",
      "    \"resource_config\": {\n",
      "        \"current_host\": \"algo-1\",\n",
      "        \"hosts\": [\n",
      "            \"algo-1\"\n",
      "        ],\n",
      "        \"network_interface_name\": \"eth0\"\n",
      "    },\n",
      "    \"output_intermediate_dir\": \"/opt/ml/output/intermediate\",\n",
      "    \"output_data_dir\": \"/opt/ml/output/data\",\n",
      "    \"framework_module\": \"sagemaker_pytorch_container.training:main\",\n",
      "    \"additional_framework_parameters\": {},\n",
      "    \"module_name\": \"train\",\n",
      "    \"job_name\": \"sagemaker-pytorch-2020-01-23-19-37-50-435\",\n",
      "    \"output_dir\": \"/opt/ml/output\",\n",
      "    \"module_dir\": \"s3://sagemaker-eu-west-1-618252642374/sagemaker-pytorch-2020-01-23-19-37-50-435/source/sourcedir.tar.gz\"\u001b[0m\n",
      "\u001b[34m}\n",
      "\u001b[0m\n",
      "\u001b[34mEnvironment variables:\n",
      "\u001b[0m\n",
      "\u001b[34mSM_CHANNELS=[\"training\"]\u001b[0m\n",
      "\u001b[34mSM_NUM_CPUS=4\u001b[0m\n",
      "\u001b[34mPYTHONPATH=/usr/local/bin:/usr/lib/python35.zip:/usr/lib/python3.5:/usr/lib/python3.5/plat-x86_64-linux-gnu:/usr/lib/python3.5/lib-dynload:/usr/local/lib/python3.5/dist-packages:/usr/lib/python3/dist-packages\u001b[0m\n",
      "\u001b[34mSM_RESOURCE_CONFIG={\"current_host\":\"algo-1\",\"hosts\":[\"algo-1\"],\"network_interface_name\":\"eth0\"}\u001b[0m\n",
      "\u001b[34mSM_TRAINING_ENV={\"additional_framework_parameters\":{},\"channel_input_dirs\":{\"training\":\"/opt/ml/input/data/training\"},\"current_host\":\"algo-1\",\"framework_module\":\"sagemaker_pytorch_container.training:main\",\"hosts\":[\"algo-1\"],\"hyperparameters\":{\"epochs\":10,\"hidden_dim\":200},\"input_config_dir\":\"/opt/ml/input/config\",\"input_data_config\":{\"training\":{\"RecordWrapperType\":\"None\",\"S3DistributionType\":\"FullyReplicated\",\"TrainingInputMode\":\"File\"}},\"input_dir\":\"/opt/ml/input\",\"job_name\":\"sagemaker-pytorch-2020-01-23-19-37-50-435\",\"log_level\":20,\"model_dir\":\"/opt/ml/model\",\"module_dir\":\"s3://sagemaker-eu-west-1-618252642374/sagemaker-pytorch-2020-01-23-19-37-50-435/source/sourcedir.tar.gz\",\"module_name\":\"train\",\"network_interface_name\":\"eth0\",\"num_cpus\":4,\"num_gpus\":1,\"output_data_dir\":\"/opt/ml/output/data\",\"output_dir\":\"/opt/ml/output\",\"output_intermediate_dir\":\"/opt/ml/output/intermediate\",\"resource_config\":{\"current_host\":\"algo-1\",\"hosts\":[\"algo-1\"],\"network_interface_name\":\"eth0\"},\"user_entry_point\":\"train.py\"}\u001b[0m\n",
      "\u001b[34mSM_INPUT_DIR=/opt/ml/input\u001b[0m\n",
      "\u001b[34mSM_HPS={\"epochs\":10,\"hidden_dim\":200}\u001b[0m\n",
      "\u001b[34mSM_OUTPUT_DATA_DIR=/opt/ml/output/data\u001b[0m\n",
      "\u001b[34mSM_MODULE_NAME=train\u001b[0m\n",
      "\u001b[34mSM_USER_ENTRY_POINT=train.py\u001b[0m\n",
      "\u001b[34mSM_LOG_LEVEL=20\u001b[0m\n",
      "\u001b[34mSM_HOSTS=[\"algo-1\"]\u001b[0m\n",
      "\u001b[34mSM_OUTPUT_DIR=/opt/ml/output\u001b[0m\n",
      "\u001b[34mSM_INPUT_DATA_CONFIG={\"training\":{\"RecordWrapperType\":\"None\",\"S3DistributionType\":\"FullyReplicated\",\"TrainingInputMode\":\"File\"}}\u001b[0m\n",
      "\u001b[34mSM_FRAMEWORK_MODULE=sagemaker_pytorch_container.training:main\u001b[0m\n",
      "\u001b[34mSM_INPUT_CONFIG_DIR=/opt/ml/input/config\u001b[0m\n",
      "\u001b[34mSM_MODEL_DIR=/opt/ml/model\u001b[0m\n",
      "\u001b[34mSM_OUTPUT_INTERMEDIATE_DIR=/opt/ml/output/intermediate\u001b[0m\n",
      "\u001b[34mSM_CURRENT_HOST=algo-1\u001b[0m\n",
      "\u001b[34mSM_HP_EPOCHS=10\u001b[0m\n",
      "\u001b[34mSM_NETWORK_INTERFACE_NAME=eth0\u001b[0m\n",
      "\u001b[34mSM_USER_ARGS=[\"--epochs\",\"10\",\"--hidden_dim\",\"200\"]\u001b[0m\n",
      "\u001b[34mSM_CHANNEL_TRAINING=/opt/ml/input/data/training\u001b[0m\n",
      "\u001b[34mSM_MODULE_DIR=s3://sagemaker-eu-west-1-618252642374/sagemaker-pytorch-2020-01-23-19-37-50-435/source/sourcedir.tar.gz\u001b[0m\n",
      "\u001b[34mSM_HP_HIDDEN_DIM=200\u001b[0m\n",
      "\u001b[34mSM_NUM_GPUS=1\u001b[0m\n",
      "\u001b[34mSM_FRAMEWORK_PARAMS={}\n",
      "\u001b[0m\n",
      "\u001b[34mInvoking script with the following command:\n",
      "\u001b[0m\n",
      "\u001b[34m/usr/bin/python -m train --epochs 10 --hidden_dim 200\n",
      "\n",
      "\u001b[0m\n",
      "\u001b[34mUsing device cuda.\u001b[0m\n",
      "\u001b[34mGet train data loader.\u001b[0m\n"
     ]
    },
    {
     "name": "stdout",
     "output_type": "stream",
     "text": [
      "\u001b[34mModel loaded with embedding_dim 32, hidden_dim 200, vocab_size 5000.\u001b[0m\n",
      "\n",
      "2020-01-23 19:41:24 Training - Training image download completed. Training in progress.\u001b[34mEpoch: 1, BCELoss: 0.6736639215021717\u001b[0m\n",
      "\u001b[34mEpoch: 2, BCELoss: 0.6090866315121554\u001b[0m\n",
      "\u001b[34mEpoch: 3, BCELoss: 0.5523452290466854\u001b[0m\n",
      "\u001b[34mEpoch: 4, BCELoss: 0.4541860897930301\u001b[0m\n",
      "\u001b[34mEpoch: 5, BCELoss: 0.3949681173781959\u001b[0m\n",
      "\u001b[34mEpoch: 6, BCELoss: 0.36040046567819556\u001b[0m\n",
      "\u001b[34mEpoch: 7, BCELoss: 0.3465492263132212\u001b[0m\n",
      "\u001b[34mEpoch: 8, BCELoss: 0.31618426223190466\u001b[0m\n",
      "\u001b[34mEpoch: 9, BCELoss: 0.28495335852613257\u001b[0m\n",
      "\n",
      "2020-01-23 19:44:22 Uploading - Uploading generated training model\u001b[34mEpoch: 10, BCELoss: 0.2683658703249328\u001b[0m\n",
      "\u001b[34m2020-01-23 19:44:20,925 sagemaker-containers INFO     Reporting training SUCCESS\u001b[0m\n",
      "\n",
      "2020-01-23 19:44:29 Completed - Training job completed\n",
      "Training seconds: 267\n",
      "Billable seconds: 267\n"
     ]
    }
   ],
   "source": [
    "estimator.fit({'training': input_data})"
   ]
  },
  {
   "cell_type": "markdown",
   "metadata": {},
   "source": [
    "## Step 5: Testing the model\n",
    "\n",
    "As mentioned at the top of this notebook, we will be testing this model by first deploying it and then sending the testing data to the deployed endpoint. We will do this so that we can make sure that the deployed model is working correctly.\n",
    "\n",
    "## Step 6: Deploy the model for testing\n",
    "\n",
    "Now that we have trained our model, we would like to test it to see how it performs. Currently our model takes input of the form `review_length, review[500]` where `review[500]` is a sequence of `500` integers which describe the words present in the review, encoded using `word_dict`. Fortunately for us, SageMaker provides built-in inference code for models with simple inputs such as this.\n",
    "\n",
    "There is one thing that we need to provide, however, and that is a function which loads the saved model. This function must be called `model_fn()` and takes as its only parameter a path to the directory where the model artifacts are stored. This function must also be present in the python file which we specified as the entry point. In our case the model loading function has been provided and so no changes need to be made.\n",
    "\n",
    "**NOTE**: When the built-in inference code is run it must import the `model_fn()` method from the `train.py` file. This is why the training code is wrapped in a main guard ( ie, `if __name__ == '__main__':` )\n",
    "\n",
    "Since we don't need to change anything in the code that was uploaded during training, we can simply deploy the current model as-is.\n",
    "\n",
    "**NOTE:** When deploying a model you are asking SageMaker to launch an compute instance that will wait for data to be sent to it. As a result, this compute instance will continue to run until *you* shut it down. This is important to know since the cost of a deployed endpoint depends on how long it has been running for.\n",
    "\n",
    "In other words **If you are no longer using a deployed endpoint, shut it down!**\n",
    "\n",
    "**TODO:** Deploy the trained model."
   ]
  },
  {
   "cell_type": "code",
   "execution_count": 31,
   "metadata": {},
   "outputs": [
    {
     "name": "stdout",
     "output_type": "stream",
     "text": [
      "--------------------------------------------------------------------------!"
     ]
    }
   ],
   "source": [
    "# TODO: Deploy the trained model\n",
    "predictor = estimator.deploy(initial_instance_count = 1, instance_type = 'ml.m4.xlarge')"
   ]
  },
  {
   "cell_type": "markdown",
   "metadata": {},
   "source": [
    "## Step 7 - Use the model for testing\n",
    "\n",
    "Once deployed, we can read in the test data and send it off to our deployed model to get some results. Once we collect all of the results we can determine how accurate our model is."
   ]
  },
  {
   "cell_type": "code",
   "execution_count": 32,
   "metadata": {},
   "outputs": [],
   "source": [
    "test_X = pd.concat([pd.DataFrame(test_X_len), pd.DataFrame(test_X)], axis=1)"
   ]
  },
  {
   "cell_type": "code",
   "execution_count": 33,
   "metadata": {
    "scrolled": true
   },
   "outputs": [
    {
     "data": {
      "text/html": [
       "<div>\n",
       "<style scoped>\n",
       "    .dataframe tbody tr th:only-of-type {\n",
       "        vertical-align: middle;\n",
       "    }\n",
       "\n",
       "    .dataframe tbody tr th {\n",
       "        vertical-align: top;\n",
       "    }\n",
       "\n",
       "    .dataframe thead th {\n",
       "        text-align: right;\n",
       "    }\n",
       "</style>\n",
       "<table border=\"1\" class=\"dataframe\">\n",
       "  <thead>\n",
       "    <tr style=\"text-align: right;\">\n",
       "      <th></th>\n",
       "      <th>0</th>\n",
       "      <th>0</th>\n",
       "      <th>1</th>\n",
       "      <th>2</th>\n",
       "      <th>3</th>\n",
       "      <th>4</th>\n",
       "      <th>5</th>\n",
       "      <th>6</th>\n",
       "      <th>7</th>\n",
       "      <th>8</th>\n",
       "      <th>...</th>\n",
       "      <th>490</th>\n",
       "      <th>491</th>\n",
       "      <th>492</th>\n",
       "      <th>493</th>\n",
       "      <th>494</th>\n",
       "      <th>495</th>\n",
       "      <th>496</th>\n",
       "      <th>497</th>\n",
       "      <th>498</th>\n",
       "      <th>499</th>\n",
       "    </tr>\n",
       "  </thead>\n",
       "  <tbody>\n",
       "    <tr>\n",
       "      <th>0</th>\n",
       "      <td>39</td>\n",
       "      <td>505</td>\n",
       "      <td>3969</td>\n",
       "      <td>3</td>\n",
       "      <td>47</td>\n",
       "      <td>114</td>\n",
       "      <td>130</td>\n",
       "      <td>266</td>\n",
       "      <td>91</td>\n",
       "      <td>2219</td>\n",
       "      <td>...</td>\n",
       "      <td>0</td>\n",
       "      <td>0</td>\n",
       "      <td>0</td>\n",
       "      <td>0</td>\n",
       "      <td>0</td>\n",
       "      <td>0</td>\n",
       "      <td>0</td>\n",
       "      <td>0</td>\n",
       "      <td>0</td>\n",
       "      <td>0</td>\n",
       "    </tr>\n",
       "  </tbody>\n",
       "</table>\n",
       "<p>1 rows × 501 columns</p>\n",
       "</div>"
      ],
      "text/plain": [
       "   0    0     1    2    3    4    5    6    7     8    ...  490  491  492  \\\n",
       "0   39  505  3969    3   47  114  130  266   91  2219  ...    0    0    0   \n",
       "\n",
       "   493  494  495  496  497  498  499  \n",
       "0    0    0    0    0    0    0    0  \n",
       "\n",
       "[1 rows x 501 columns]"
      ]
     },
     "execution_count": 33,
     "metadata": {},
     "output_type": "execute_result"
    }
   ],
   "source": [
    "test_X.head(1)"
   ]
  },
  {
   "cell_type": "code",
   "execution_count": 34,
   "metadata": {},
   "outputs": [],
   "source": [
    "# We split the data into chunks and send each chunk seperately, accumulating the results.\n",
    "\n",
    "def predict(data, rows=512):\n",
    "    split_array = np.array_split(data, int(data.shape[0] / float(rows) + 1))\n",
    "    predictions = np.array([])\n",
    "    for array in split_array:\n",
    "        predictions = np.append(predictions, predictor.predict(array))\n",
    "    \n",
    "    return predictions"
   ]
  },
  {
   "cell_type": "code",
   "execution_count": 35,
   "metadata": {},
   "outputs": [],
   "source": [
    "predictions = predict(test_X.values)\n",
    "predictions = [round(num) for num in predictions]"
   ]
  },
  {
   "cell_type": "code",
   "execution_count": 36,
   "metadata": {},
   "outputs": [
    {
     "data": {
      "text/plain": [
       "0.86012"
      ]
     },
     "execution_count": 36,
     "metadata": {},
     "output_type": "execute_result"
    }
   ],
   "source": [
    "from sklearn.metrics import accuracy_score\n",
    "accuracy_score(test_y, predictions)"
   ]
  },
  {
   "cell_type": "markdown",
   "metadata": {},
   "source": [
    "**Question:** How does this model compare to the XGBoost model you created earlier? Why might these two models perform differently on this dataset? Which do *you* think is better for sentiment analysis?"
   ]
  },
  {
   "cell_type": "markdown",
   "metadata": {},
   "source": [
    "**Answer:** It seems that the accuracy is slightly the same when compared with the XGBoost model. So far, I don't really think there's much difference between them. "
   ]
  },
  {
   "cell_type": "markdown",
   "metadata": {},
   "source": [
    "### (TODO) More testing\n",
    "\n",
    "We now have a trained model which has been deployed and which we can send processed reviews to and which returns the predicted sentiment. However, ultimately we would like to be able to send our model an unprocessed review. That is, we would like to send the review itself as a string. For example, suppose we wish to send the following review to our model."
   ]
  },
  {
   "cell_type": "code",
   "execution_count": 37,
   "metadata": {},
   "outputs": [],
   "source": [
    "test_review = 'The simplest pleasures in life are the best, and this film is one of them. Combining a rather basic storyline of love and adventure this movie transcends the usual weekend fair with wit and unmitigated charm.'"
   ]
  },
  {
   "cell_type": "markdown",
   "metadata": {},
   "source": [
    "The question we now need to answer is, how do we send this review to our model?\n",
    "\n",
    "Recall in the first section of this notebook we did a bunch of data processing to the IMDb dataset. In particular, we did two specific things to the provided reviews.\n",
    " - Removed any html tags and stemmed the input\n",
    " - Encoded the review as a sequence of integers using `word_dict`\n",
    " \n",
    "In order process the review we will need to repeat these two steps.\n",
    "\n",
    "**TODO**: Using the `review_to_words` and `convert_and_pad` methods from section one, convert `test_review` into a numpy array `test_data` suitable to send to our model. Remember that our model expects input of the form `review_length, review[500]`."
   ]
  },
  {
   "cell_type": "code",
   "execution_count": 38,
   "metadata": {},
   "outputs": [],
   "source": [
    "# TODO: Convert test_review into a form usable by the model and save the results in test_data\n",
    "#test_data = review_to_words(test_review)\n",
    "#test_data = [np.array(convert_and_pad(word_dict, test_data)[0])]\n",
    "#test_data"
   ]
  },
  {
   "cell_type": "code",
   "execution_count": 39,
   "metadata": {},
   "outputs": [
    {
     "data": {
      "text/plain": [
       "[array([  20,    1, 1376,   49,   53,    3,    4,  878,  173,  392,  682,\n",
       "          29,  724,    2, 4410,  275, 2077, 1060,  760,    1,  582,    0,\n",
       "           0,    0,    0,    0,    0,    0,    0,    0,    0,    0,    0,\n",
       "           0,    0,    0,    0,    0,    0,    0,    0,    0,    0,    0,\n",
       "           0,    0,    0,    0,    0,    0,    0,    0,    0,    0,    0,\n",
       "           0,    0,    0,    0,    0,    0,    0,    0,    0,    0,    0,\n",
       "           0,    0,    0,    0,    0,    0,    0,    0,    0,    0,    0,\n",
       "           0,    0,    0,    0,    0,    0,    0,    0,    0,    0,    0,\n",
       "           0,    0,    0,    0,    0,    0,    0,    0,    0,    0,    0,\n",
       "           0,    0,    0,    0,    0,    0,    0,    0,    0,    0,    0,\n",
       "           0,    0,    0,    0,    0,    0,    0,    0,    0,    0,    0,\n",
       "           0,    0,    0,    0,    0,    0,    0,    0,    0,    0,    0,\n",
       "           0,    0,    0,    0,    0,    0,    0,    0,    0,    0,    0,\n",
       "           0,    0,    0,    0,    0,    0,    0,    0,    0,    0,    0,\n",
       "           0,    0,    0,    0,    0,    0,    0,    0,    0,    0,    0,\n",
       "           0,    0,    0,    0,    0,    0,    0,    0,    0,    0,    0,\n",
       "           0,    0,    0,    0,    0,    0,    0,    0,    0,    0,    0,\n",
       "           0,    0,    0,    0,    0,    0,    0,    0,    0,    0,    0,\n",
       "           0,    0,    0,    0,    0,    0,    0,    0,    0,    0,    0,\n",
       "           0,    0,    0,    0,    0,    0,    0,    0,    0,    0,    0,\n",
       "           0,    0,    0,    0,    0,    0,    0,    0,    0,    0,    0,\n",
       "           0,    0,    0,    0,    0,    0,    0,    0,    0,    0,    0,\n",
       "           0,    0,    0,    0,    0,    0,    0,    0,    0,    0,    0,\n",
       "           0,    0,    0,    0,    0,    0,    0,    0,    0,    0,    0,\n",
       "           0,    0,    0,    0,    0,    0,    0,    0,    0,    0,    0,\n",
       "           0,    0,    0,    0,    0,    0,    0,    0,    0,    0,    0,\n",
       "           0,    0,    0,    0,    0,    0,    0,    0,    0,    0,    0,\n",
       "           0,    0,    0,    0,    0,    0,    0,    0,    0,    0,    0,\n",
       "           0,    0,    0,    0,    0,    0,    0,    0,    0,    0,    0,\n",
       "           0,    0,    0,    0,    0,    0,    0,    0,    0,    0,    0,\n",
       "           0,    0,    0,    0,    0,    0,    0,    0,    0,    0,    0,\n",
       "           0,    0,    0,    0,    0,    0,    0,    0,    0,    0,    0,\n",
       "           0,    0,    0,    0,    0,    0,    0,    0,    0,    0,    0,\n",
       "           0,    0,    0,    0,    0,    0,    0,    0,    0,    0,    0,\n",
       "           0,    0,    0,    0,    0,    0,    0,    0,    0,    0,    0,\n",
       "           0,    0,    0,    0,    0,    0,    0,    0,    0,    0,    0,\n",
       "           0,    0,    0,    0,    0,    0,    0,    0,    0,    0,    0,\n",
       "           0,    0,    0,    0,    0,    0,    0,    0,    0,    0,    0,\n",
       "           0,    0,    0,    0,    0,    0,    0,    0,    0,    0,    0,\n",
       "           0,    0,    0,    0,    0,    0,    0,    0,    0,    0,    0,\n",
       "           0,    0,    0,    0,    0,    0,    0,    0,    0,    0,    0,\n",
       "           0,    0,    0,    0,    0,    0,    0,    0,    0,    0,    0,\n",
       "           0,    0,    0,    0,    0,    0,    0,    0,    0,    0,    0,\n",
       "           0,    0,    0,    0,    0,    0,    0,    0,    0,    0,    0,\n",
       "           0,    0,    0,    0,    0,    0,    0,    0,    0,    0,    0,\n",
       "           0,    0,    0,    0,    0,    0])]"
      ]
     },
     "execution_count": 39,
     "metadata": {},
     "output_type": "execute_result"
    }
   ],
   "source": [
    "test_data = None\n",
    "test_data = review_to_words(test_review)\n",
    "test_list, test_length = convert_and_pad(word_dict,test_data)\n",
    "test_data = [np.array([test_length] + test_list)]\n",
    "test_data"
   ]
  },
  {
   "cell_type": "markdown",
   "metadata": {},
   "source": [
    "Now that we have processed the review, we can send the resulting array to our model to predict the sentiment of the review."
   ]
  },
  {
   "cell_type": "code",
   "execution_count": 40,
   "metadata": {},
   "outputs": [
    {
     "data": {
      "text/plain": [
       "array(0.8347961, dtype=float32)"
      ]
     },
     "execution_count": 40,
     "metadata": {},
     "output_type": "execute_result"
    }
   ],
   "source": [
    "predictor.predict(test_data)"
   ]
  },
  {
   "cell_type": "markdown",
   "metadata": {},
   "source": [
    "Since the return value of our model is close to `1`, we can be certain that the review we submitted is positive."
   ]
  },
  {
   "cell_type": "markdown",
   "metadata": {},
   "source": [
    "### Delete the endpoint\n",
    "\n",
    "Of course, just like in the XGBoost notebook, once we've deployed an endpoint it continues to run until we tell it to shut down. Since we are done using our endpoint for now, we can delete it."
   ]
  },
  {
   "cell_type": "code",
   "execution_count": 41,
   "metadata": {},
   "outputs": [],
   "source": [
    "estimator.delete_endpoint()"
   ]
  },
  {
   "cell_type": "markdown",
   "metadata": {},
   "source": [
    "## Step 6 (again) - Deploy the model for the web app\n",
    "\n",
    "Now that we know that our model is working, it's time to create some custom inference code so that we can send the model a review which has not been processed and have it determine the sentiment of the review.\n",
    "\n",
    "As we saw above, by default the estimator which we created, when deployed, will use the entry script and directory which we provided when creating the model. However, since we now wish to accept a string as input and our model expects a processed review, we need to write some custom inference code.\n",
    "\n",
    "We will store the code that we write in the `serve` directory. Provided in this directory is the `model.py` file that we used to construct our model, a `utils.py` file which contains the `review_to_words` and `convert_and_pad` pre-processing functions which we used during the initial data processing, and `predict.py`, the file which will contain our custom inference code. Note also that `requirements.txt` is present which will tell SageMaker what Python libraries are required by our custom inference code.\n",
    "\n",
    "When deploying a PyTorch model in SageMaker, you are expected to provide four functions which the SageMaker inference container will use.\n",
    " - `model_fn`: This function is the same function that we used in the training script and it tells SageMaker how to load our model.\n",
    " - `input_fn`: This function receives the raw serialized input that has been sent to the model's endpoint and its job is to de-serialize and make the input available for the inference code.\n",
    " - `output_fn`: This function takes the output of the inference code and its job is to serialize this output and return it to the caller of the model's endpoint.\n",
    " - `predict_fn`: The heart of the inference script, this is where the actual prediction is done and is the function which you will need to complete.\n",
    "\n",
    "For the simple website that we are constructing during this project, the `input_fn` and `output_fn` methods are relatively straightforward. We only require being able to accept a string as input and we expect to return a single value as output. You might imagine though that in a more complex application the input or output may be image data or some other binary data which would require some effort to serialize.\n",
    "\n",
    "### (TODO) Writing inference code\n",
    "\n",
    "Before writing our custom inference code, we will begin by taking a look at the code which has been provided."
   ]
  },
  {
   "cell_type": "code",
   "execution_count": 42,
   "metadata": {},
   "outputs": [
    {
     "name": "stdout",
     "output_type": "stream",
     "text": [
      "\u001b[34mimport\u001b[39;49;00m \u001b[04m\u001b[36margparse\u001b[39;49;00m\r\n",
      "\u001b[34mimport\u001b[39;49;00m \u001b[04m\u001b[36mjson\u001b[39;49;00m\r\n",
      "\u001b[34mimport\u001b[39;49;00m \u001b[04m\u001b[36mos\u001b[39;49;00m\r\n",
      "\u001b[34mimport\u001b[39;49;00m \u001b[04m\u001b[36mpickle\u001b[39;49;00m\r\n",
      "\u001b[34mimport\u001b[39;49;00m \u001b[04m\u001b[36msys\u001b[39;49;00m\r\n",
      "\u001b[34mimport\u001b[39;49;00m \u001b[04m\u001b[36msagemaker_containers\u001b[39;49;00m\r\n",
      "\u001b[34mimport\u001b[39;49;00m \u001b[04m\u001b[36mpandas\u001b[39;49;00m \u001b[34mas\u001b[39;49;00m \u001b[04m\u001b[36mpd\u001b[39;49;00m\r\n",
      "\u001b[34mimport\u001b[39;49;00m \u001b[04m\u001b[36mnumpy\u001b[39;49;00m \u001b[34mas\u001b[39;49;00m \u001b[04m\u001b[36mnp\u001b[39;49;00m\r\n",
      "\u001b[34mimport\u001b[39;49;00m \u001b[04m\u001b[36mtorch\u001b[39;49;00m\r\n",
      "\u001b[34mimport\u001b[39;49;00m \u001b[04m\u001b[36mtorch.nn\u001b[39;49;00m \u001b[34mas\u001b[39;49;00m \u001b[04m\u001b[36mnn\u001b[39;49;00m\r\n",
      "\u001b[34mimport\u001b[39;49;00m \u001b[04m\u001b[36mtorch.optim\u001b[39;49;00m \u001b[34mas\u001b[39;49;00m \u001b[04m\u001b[36moptim\u001b[39;49;00m\r\n",
      "\u001b[34mimport\u001b[39;49;00m \u001b[04m\u001b[36mtorch.utils.data\u001b[39;49;00m\r\n",
      "\r\n",
      "\u001b[34mfrom\u001b[39;49;00m \u001b[04m\u001b[36mmodel\u001b[39;49;00m \u001b[34mimport\u001b[39;49;00m LSTMClassifier\r\n",
      "\r\n",
      "\u001b[34mfrom\u001b[39;49;00m \u001b[04m\u001b[36mutils\u001b[39;49;00m \u001b[34mimport\u001b[39;49;00m review_to_words, convert_and_pad\r\n",
      "\r\n",
      "\u001b[34mdef\u001b[39;49;00m \u001b[32mmodel_fn\u001b[39;49;00m(model_dir):\r\n",
      "    \u001b[33m\"\"\"Load the PyTorch model from the `model_dir` directory.\"\"\"\u001b[39;49;00m\r\n",
      "    \u001b[34mprint\u001b[39;49;00m(\u001b[33m\"\u001b[39;49;00m\u001b[33mLoading model.\u001b[39;49;00m\u001b[33m\"\u001b[39;49;00m)\r\n",
      "\r\n",
      "    \u001b[37m# First, load the parameters used to create the model.\u001b[39;49;00m\r\n",
      "    model_info = {}\r\n",
      "    model_info_path = os.path.join(model_dir, \u001b[33m'\u001b[39;49;00m\u001b[33mmodel_info.pth\u001b[39;49;00m\u001b[33m'\u001b[39;49;00m)\r\n",
      "    \u001b[34mwith\u001b[39;49;00m \u001b[36mopen\u001b[39;49;00m(model_info_path, \u001b[33m'\u001b[39;49;00m\u001b[33mrb\u001b[39;49;00m\u001b[33m'\u001b[39;49;00m) \u001b[34mas\u001b[39;49;00m f:\r\n",
      "        model_info = torch.load(f)\r\n",
      "\r\n",
      "    \u001b[34mprint\u001b[39;49;00m(\u001b[33m\"\u001b[39;49;00m\u001b[33mmodel_info: {}\u001b[39;49;00m\u001b[33m\"\u001b[39;49;00m.format(model_info))\r\n",
      "\r\n",
      "    \u001b[37m# Determine the device and construct the model.\u001b[39;49;00m\r\n",
      "    device = torch.device(\u001b[33m\"\u001b[39;49;00m\u001b[33mcuda\u001b[39;49;00m\u001b[33m\"\u001b[39;49;00m \u001b[34mif\u001b[39;49;00m torch.cuda.is_available() \u001b[34melse\u001b[39;49;00m \u001b[33m\"\u001b[39;49;00m\u001b[33mcpu\u001b[39;49;00m\u001b[33m\"\u001b[39;49;00m)\r\n",
      "    model = LSTMClassifier(model_info[\u001b[33m'\u001b[39;49;00m\u001b[33membedding_dim\u001b[39;49;00m\u001b[33m'\u001b[39;49;00m], model_info[\u001b[33m'\u001b[39;49;00m\u001b[33mhidden_dim\u001b[39;49;00m\u001b[33m'\u001b[39;49;00m], model_info[\u001b[33m'\u001b[39;49;00m\u001b[33mvocab_size\u001b[39;49;00m\u001b[33m'\u001b[39;49;00m])\r\n",
      "\r\n",
      "    \u001b[37m# Load the store model parameters.\u001b[39;49;00m\r\n",
      "    model_path = os.path.join(model_dir, \u001b[33m'\u001b[39;49;00m\u001b[33mmodel.pth\u001b[39;49;00m\u001b[33m'\u001b[39;49;00m)\r\n",
      "    \u001b[34mwith\u001b[39;49;00m \u001b[36mopen\u001b[39;49;00m(model_path, \u001b[33m'\u001b[39;49;00m\u001b[33mrb\u001b[39;49;00m\u001b[33m'\u001b[39;49;00m) \u001b[34mas\u001b[39;49;00m f:\r\n",
      "        model.load_state_dict(torch.load(f))\r\n",
      "\r\n",
      "    \u001b[37m# Load the saved word_dict.\u001b[39;49;00m\r\n",
      "    word_dict_path = os.path.join(model_dir, \u001b[33m'\u001b[39;49;00m\u001b[33mword_dict.pkl\u001b[39;49;00m\u001b[33m'\u001b[39;49;00m)\r\n",
      "    \u001b[34mwith\u001b[39;49;00m \u001b[36mopen\u001b[39;49;00m(word_dict_path, \u001b[33m'\u001b[39;49;00m\u001b[33mrb\u001b[39;49;00m\u001b[33m'\u001b[39;49;00m) \u001b[34mas\u001b[39;49;00m f:\r\n",
      "        model.word_dict = pickle.load(f)\r\n",
      "\r\n",
      "    model.to(device).eval()\r\n",
      "\r\n",
      "    \u001b[34mprint\u001b[39;49;00m(\u001b[33m\"\u001b[39;49;00m\u001b[33mDone loading model.\u001b[39;49;00m\u001b[33m\"\u001b[39;49;00m)\r\n",
      "    \u001b[34mreturn\u001b[39;49;00m model\r\n",
      "\r\n",
      "\u001b[34mdef\u001b[39;49;00m \u001b[32minput_fn\u001b[39;49;00m(serialized_input_data, content_type):\r\n",
      "    \u001b[34mprint\u001b[39;49;00m(\u001b[33m'\u001b[39;49;00m\u001b[33mDeserializing the input data.\u001b[39;49;00m\u001b[33m'\u001b[39;49;00m)\r\n",
      "    \u001b[34mif\u001b[39;49;00m content_type == \u001b[33m'\u001b[39;49;00m\u001b[33mtext/plain\u001b[39;49;00m\u001b[33m'\u001b[39;49;00m:\r\n",
      "        data = serialized_input_data.decode(\u001b[33m'\u001b[39;49;00m\u001b[33mutf-8\u001b[39;49;00m\u001b[33m'\u001b[39;49;00m)\r\n",
      "        \u001b[34mreturn\u001b[39;49;00m data\r\n",
      "    \u001b[34mraise\u001b[39;49;00m \u001b[36mException\u001b[39;49;00m(\u001b[33m'\u001b[39;49;00m\u001b[33mRequested unsupported ContentType in content_type: \u001b[39;49;00m\u001b[33m'\u001b[39;49;00m + content_type)\r\n",
      "\r\n",
      "\u001b[34mdef\u001b[39;49;00m \u001b[32moutput_fn\u001b[39;49;00m(prediction_output, accept):\r\n",
      "    \u001b[34mprint\u001b[39;49;00m(\u001b[33m'\u001b[39;49;00m\u001b[33mSerializing the generated output.\u001b[39;49;00m\u001b[33m'\u001b[39;49;00m)\r\n",
      "    \u001b[34mreturn\u001b[39;49;00m \u001b[36mstr\u001b[39;49;00m(prediction_output)\r\n",
      "\r\n",
      "\u001b[34mdef\u001b[39;49;00m \u001b[32mpredict_fn\u001b[39;49;00m(input_data, model):\r\n",
      "    \u001b[34mprint\u001b[39;49;00m(\u001b[33m'\u001b[39;49;00m\u001b[33mInferring sentiment of input data.\u001b[39;49;00m\u001b[33m'\u001b[39;49;00m)\r\n",
      "\r\n",
      "    device = torch.device(\u001b[33m\"\u001b[39;49;00m\u001b[33mcuda\u001b[39;49;00m\u001b[33m\"\u001b[39;49;00m \u001b[34mif\u001b[39;49;00m torch.cuda.is_available() \u001b[34melse\u001b[39;49;00m \u001b[33m\"\u001b[39;49;00m\u001b[33mcpu\u001b[39;49;00m\u001b[33m\"\u001b[39;49;00m)\r\n",
      "    \r\n",
      "    \u001b[34mif\u001b[39;49;00m model.word_dict \u001b[35mis\u001b[39;49;00m \u001b[36mNone\u001b[39;49;00m:\r\n",
      "        \u001b[34mraise\u001b[39;49;00m \u001b[36mException\u001b[39;49;00m(\u001b[33m'\u001b[39;49;00m\u001b[33mModel has not been loaded properly, no word_dict.\u001b[39;49;00m\u001b[33m'\u001b[39;49;00m)\r\n",
      "    \r\n",
      "    \u001b[37m# TODO: Process input_data so that it is ready to be sent to our model.\u001b[39;49;00m\r\n",
      "    \u001b[37m#       You should produce two variables:\u001b[39;49;00m\r\n",
      "    \u001b[37m#         data_X   - A sequence of length 500 which represents the converted review\u001b[39;49;00m\r\n",
      "    \u001b[37m#         data_len - The length of the review\u001b[39;49;00m\r\n",
      "    \r\n",
      "    words = review_to_words(input_data)\r\n",
      "    data_X, data_len = convert_and_pad(model.word_dict,words)\r\n",
      "    \r\n",
      "    \r\n",
      "\r\n",
      "    \u001b[37m#data_X = None\u001b[39;49;00m\r\n",
      "    \u001b[37m#data_len = None\u001b[39;49;00m\r\n",
      "\r\n",
      "    \u001b[37m# Using data_X and data_len we construct an appropriate input tensor. Remember\u001b[39;49;00m\r\n",
      "    \u001b[37m# that our model expects input data of the form 'len, review[500]'.\u001b[39;49;00m\r\n",
      "    data_pack = np.hstack((data_len, data_X))\r\n",
      "    data_pack = data_pack.reshape(\u001b[34m1\u001b[39;49;00m, -\u001b[34m1\u001b[39;49;00m)\r\n",
      "    \r\n",
      "    data = torch.from_numpy(data_pack)\r\n",
      "    data = data.to(device)\r\n",
      "\r\n",
      "    \u001b[37m# Make sure to put the model into evaluation mode\u001b[39;49;00m\r\n",
      "    model.eval()\r\n",
      "\r\n",
      "    \u001b[37m# TODO: Compute the result of applying the model to the input data. The variable `result` should\u001b[39;49;00m\r\n",
      "    \u001b[37m#       be a numpy array which contains a single integer which is either 1 or 0\u001b[39;49;00m\r\n",
      "    \r\n",
      "    \u001b[34mwith\u001b[39;49;00m torch.no_grad():\r\n",
      "        output = model.forward(data)\r\n",
      "   \r\n",
      "\r\n",
      "    result = np.round(output.numpy())\r\n",
      "\r\n",
      "    \u001b[34mreturn\u001b[39;49;00m result\r\n"
     ]
    }
   ],
   "source": [
    "!pygmentize serve/predict.py"
   ]
  },
  {
   "cell_type": "markdown",
   "metadata": {},
   "source": [
    "As mentioned earlier, the `model_fn` method is the same as the one provided in the training code and the `input_fn` and `output_fn` methods are very simple and your task will be to complete the `predict_fn` method. Make sure that you save the completed file as `predict.py` in the `serve` directory.\n",
    "\n",
    "**TODO**: Complete the `predict_fn()` method in the `serve/predict.py` file."
   ]
  },
  {
   "cell_type": "markdown",
   "metadata": {},
   "source": [
    "### Deploying the model\n",
    "\n",
    "Now that the custom inference code has been written, we will create and deploy our model. To begin with, we need to construct a new PyTorchModel object which points to the model artifacts created during training and also points to the inference code that we wish to use. Then we can call the deploy method to launch the deployment container.\n",
    "\n",
    "**NOTE**: The default behaviour for a deployed PyTorch model is to assume that any input passed to the predictor is a `numpy` array. In our case we want to send a string so we need to construct a simple wrapper around the `RealTimePredictor` class to accomodate simple strings. In a more complicated situation you may want to provide a serialization object, for example if you wanted to sent image data."
   ]
  },
  {
   "cell_type": "code",
   "execution_count": 43,
   "metadata": {},
   "outputs": [
    {
     "name": "stdout",
     "output_type": "stream",
     "text": [
      "--------------------------------------------------------------!"
     ]
    }
   ],
   "source": [
    "from sagemaker.predictor import RealTimePredictor\n",
    "from sagemaker.pytorch import PyTorchModel\n",
    "\n",
    "class StringPredictor(RealTimePredictor):\n",
    "    def __init__(self, endpoint_name, sagemaker_session):\n",
    "        super(StringPredictor, self).__init__(endpoint_name, sagemaker_session, content_type='text/plain')\n",
    "\n",
    "model = PyTorchModel(model_data=estimator.model_data,\n",
    "                     role = role,\n",
    "                     framework_version='0.4.0',\n",
    "                     entry_point='predict.py',\n",
    "                     source_dir='serve',\n",
    "                     predictor_cls=StringPredictor)\n",
    "predictor = model.deploy(initial_instance_count=1, instance_type='ml.m4.xlarge')"
   ]
  },
  {
   "cell_type": "markdown",
   "metadata": {},
   "source": [
    "### Testing the model\n",
    "\n",
    "Now that we have deployed our model with the custom inference code, we should test to see if everything is working. Here we test our model by loading the first `250` positive and negative reviews and send them to the endpoint, then collect the results. The reason for only sending some of the data is that the amount of time it takes for our model to process the input and then perform inference is quite long and so testing the entire data set would be prohibitive."
   ]
  },
  {
   "cell_type": "code",
   "execution_count": 44,
   "metadata": {},
   "outputs": [],
   "source": [
    "import glob\n",
    "\n",
    "def test_reviews(data_dir='../data/aclImdb', stop=250):\n",
    "    \n",
    "    results = []\n",
    "    ground = []\n",
    "    \n",
    "    # We make sure to test both positive and negative reviews    \n",
    "    for sentiment in ['pos', 'neg']:\n",
    "        \n",
    "        path = os.path.join(data_dir, 'test', sentiment, '*.txt')\n",
    "        files = glob.glob(path)\n",
    "        \n",
    "        files_read = 0\n",
    "        \n",
    "        print('Starting ', sentiment, ' files')\n",
    "        \n",
    "        # Iterate through the files and send them to the predictor\n",
    "        for f in files:\n",
    "            with open(f) as review:\n",
    "                # First, we store the ground truth (was the review positive or negative)\n",
    "                if sentiment == 'pos':\n",
    "                    ground.append(1)\n",
    "                else:\n",
    "                    ground.append(0)\n",
    "                # Read in the review and convert to 'utf-8' for transmission via HTTP\n",
    "                review_input = review.read().encode('utf-8')\n",
    "                # Send the review to the predictor and store the results\n",
    "                results.append(int(float(predictor.predict(review_input))))\n",
    "                \n",
    "            # Sending reviews to our endpoint one at a time takes a while so we\n",
    "            # only send a small number of reviews\n",
    "            files_read += 1\n",
    "            if files_read == stop:\n",
    "                break\n",
    "              \n",
    "    return ground, results"
   ]
  },
  {
   "cell_type": "code",
   "execution_count": 45,
   "metadata": {},
   "outputs": [
    {
     "name": "stdout",
     "output_type": "stream",
     "text": [
      "Starting  pos  files\n",
      "Starting  neg  files\n"
     ]
    }
   ],
   "source": [
    "ground, results = test_reviews()"
   ]
  },
  {
   "cell_type": "code",
   "execution_count": 46,
   "metadata": {},
   "outputs": [
    {
     "data": {
      "text/plain": [
       "0.892"
      ]
     },
     "execution_count": 46,
     "metadata": {},
     "output_type": "execute_result"
    }
   ],
   "source": [
    "from sklearn.metrics import accuracy_score\n",
    "accuracy_score(ground, results)"
   ]
  },
  {
   "cell_type": "markdown",
   "metadata": {},
   "source": [
    "As an additional test, we can try sending the `test_review` that we looked at earlier."
   ]
  },
  {
   "cell_type": "code",
   "execution_count": 47,
   "metadata": {},
   "outputs": [
    {
     "data": {
      "text/plain": [
       "b'1.0'"
      ]
     },
     "execution_count": 47,
     "metadata": {},
     "output_type": "execute_result"
    }
   ],
   "source": [
    "predictor.predict(test_review)"
   ]
  },
  {
   "cell_type": "markdown",
   "metadata": {},
   "source": [
    "Now that we know our endpoint is working as expected, we can set up the web page that will interact with it. If you don't have time to finish the project now, make sure to skip down to the end of this notebook and shut down your endpoint. You can deploy it again when you come back."
   ]
  },
  {
   "cell_type": "markdown",
   "metadata": {},
   "source": [
    "## Step 7 (again): Use the model for the web app\n",
    "\n",
    "> **TODO:** This entire section and the next contain tasks for you to complete, mostly using the AWS console.\n",
    "\n",
    "So far we have been accessing our model endpoint by constructing a predictor object which uses the endpoint and then just using the predictor object to perform inference. What if we wanted to create a web app which accessed our model? The way things are set up currently makes that not possible since in order to access a SageMaker endpoint the app would first have to authenticate with AWS using an IAM role which included access to SageMaker endpoints. However, there is an easier way! We just need to use some additional AWS services.\n",
    "\n",
    "<img src=\"Web App Diagram.svg\">\n",
    "\n",
    "The diagram above gives an overview of how the various services will work together. On the far right is the model which we trained above and which is deployed using SageMaker. On the far left is our web app that collects a user's movie review, sends it off and expects a positive or negative sentiment in return.\n",
    "\n",
    "In the middle is where some of the magic happens. We will construct a Lambda function, which you can think of as a straightforward Python function that can be executed whenever a specified event occurs. We will give this function permission to send and recieve data from a SageMaker endpoint.\n",
    "\n",
    "Lastly, the method we will use to execute the Lambda function is a new endpoint that we will create using API Gateway. This endpoint will be a url that listens for data to be sent to it. Once it gets some data it will pass that data on to the Lambda function and then return whatever the Lambda function returns. Essentially it will act as an interface that lets our web app communicate with the Lambda function.\n",
    "\n",
    "### Setting up a Lambda function\n",
    "\n",
    "The first thing we are going to do is set up a Lambda function. This Lambda function will be executed whenever our public API has data sent to it. When it is executed it will receive the data, perform any sort of processing that is required, send the data (the review) to the SageMaker endpoint we've created and then return the result.\n",
    "\n",
    "#### Part A: Create an IAM Role for the Lambda function\n",
    "\n",
    "Since we want the Lambda function to call a SageMaker endpoint, we need to make sure that it has permission to do so. To do this, we will construct a role that we can later give the Lambda function.\n",
    "\n",
    "Using the AWS Console, navigate to the **IAM** page and click on **Roles**. Then, click on **Create role**. Make sure that the **AWS service** is the type of trusted entity selected and choose **Lambda** as the service that will use this role, then click **Next: Permissions**.\n",
    "\n",
    "In the search box type `sagemaker` and select the check box next to the **AmazonSageMakerFullAccess** policy. Then, click on **Next: Review**.\n",
    "\n",
    "Lastly, give this role a name. Make sure you use a name that you will remember later on, for example `LambdaSageMakerRole`. Then, click on **Create role**.\n",
    "\n",
    "#### Part B: Create a Lambda function\n",
    "\n",
    "Now it is time to actually create the Lambda function.\n",
    "\n",
    "Using the AWS Console, navigate to the AWS Lambda page and click on **Create a function**. When you get to the next page, make sure that **Author from scratch** is selected. Now, name your Lambda function, using a name that you will remember later on, for example `sentiment_analysis_func`. Make sure that the **Python 3.6** runtime is selected and then choose the role that you created in the previous part. Then, click on **Create Function**.\n",
    "\n",
    "On the next page you will see some information about the Lambda function you've just created. If you scroll down you should see an editor in which you can write the code that will be executed when your Lambda function is triggered. In our example, we will use the code below. \n",
    "\n",
    "```python\n",
    "# We need to use the low-level library to interact with SageMaker since the SageMaker API\n",
    "# is not available natively through Lambda.\n",
    "import boto3\n",
    "\n",
    "def lambda_handler(event, context):\n",
    "\n",
    "    # The SageMaker runtime is what allows us to invoke the endpoint that we've created.\n",
    "    runtime = boto3.Session().client('sagemaker-runtime')\n",
    "\n",
    "    # Now we use the SageMaker runtime to invoke our endpoint, sending the review we were given\n",
    "    response = runtime.invoke_endpoint(EndpointName = '**ENDPOINT NAME HERE**',    # The name of the endpoint we created\n",
    "                                       ContentType = 'text/plain',                 # The data format that is expected\n",
    "                                       Body = event['body'])                       # The actual review\n",
    "\n",
    "    # The response is an HTTP response whose body contains the result of our inference\n",
    "    result = response['Body'].read().decode('utf-8')\n",
    "\n",
    "    return {\n",
    "        'statusCode' : 200,\n",
    "        'headers' : { 'Content-Type' : 'text/plain', 'Access-Control-Allow-Origin' : '*' },\n",
    "        'body' : result\n",
    "    }\n",
    "```\n",
    "\n",
    "Once you have copy and pasted the code above into the Lambda code editor, replace the `**ENDPOINT NAME HERE**` portion with the name of the endpoint that we deployed earlier. You can determine the name of the endpoint using the code cell below."
   ]
  },
  {
   "cell_type": "code",
   "execution_count": 48,
   "metadata": {},
   "outputs": [
    {
     "data": {
      "text/plain": [
       "'sagemaker-pytorch-2020-01-23-20-06-13-969'"
      ]
     },
     "execution_count": 48,
     "metadata": {},
     "output_type": "execute_result"
    }
   ],
   "source": [
    "predictor.endpoint"
   ]
  },
  {
   "cell_type": "markdown",
   "metadata": {},
   "source": [
    "Once you have added the endpoint name to the Lambda function, click on **Save**. Your Lambda function is now up and running. Next we need to create a way for our web app to execute the Lambda function.\n",
    "\n",
    "### Setting up API Gateway\n",
    "\n",
    "Now that our Lambda function is set up, it is time to create a new API using API Gateway that will trigger the Lambda function we have just created.\n",
    "\n",
    "Using AWS Console, navigate to **Amazon API Gateway** and then click on **Get started**.\n",
    "\n",
    "On the next page, make sure that **New API** is selected and give the new api a name, for example, `sentiment_analysis_api`. Then, click on **Create API**.\n",
    "\n",
    "Now we have created an API, however it doesn't currently do anything. What we want it to do is to trigger the Lambda function that we created earlier.\n",
    "\n",
    "Select the **Actions** dropdown menu and click **Create Method**. A new blank method will be created, select its dropdown menu and select **POST**, then click on the check mark beside it.\n",
    "\n",
    "For the integration point, make sure that **Lambda Function** is selected and click on the **Use Lambda Proxy integration**. This option makes sure that the data that is sent to the API is then sent directly to the Lambda function with no processing. It also means that the return value must be a proper response object as it will also not be processed by API Gateway.\n",
    "\n",
    "Type the name of the Lambda function you created earlier into the **Lambda Function** text entry box and then click on **Save**. Click on **OK** in the pop-up box that then appears, giving permission to API Gateway to invoke the Lambda function you created.\n",
    "\n",
    "The last step in creating the API Gateway is to select the **Actions** dropdown and click on **Deploy API**. You will need to create a new Deployment stage and name it anything you like, for example `prod`.\n",
    "\n",
    "You have now successfully set up a public API to access your SageMaker model. Make sure to copy or write down the URL provided to invoke your newly created public API as this will be needed in the next step. This URL can be found at the top of the page, highlighted in blue next to the text **Invoke URL**."
   ]
  },
  {
   "cell_type": "markdown",
   "metadata": {},
   "source": [
    "## Step 4: Deploying our web app\n",
    "\n",
    "Now that we have a publicly available API, we can start using it in a web app. For our purposes, we have provided a simple static html file which can make use of the public api you created earlier.\n",
    "\n",
    "In the `website` folder there should be a file called `index.html`. Download the file to your computer and open that file up in a text editor of your choice. There should be a line which contains **\\*\\*REPLACE WITH PUBLIC API URL\\*\\***. Replace this string with the url that you wrote down in the last step and then save the file.\n",
    "\n",
    "Now, if you open `index.html` on your local computer, your browser will behave as a local web server and you can use the provided site to interact with your SageMaker model.\n",
    "\n",
    "If you'd like to go further, you can host this html file anywhere you'd like, for example using github or hosting a static site on Amazon's S3. Once you have done this you can share the link with anyone you'd like and have them play with it too!\n",
    "\n",
    "> **Important Note** In order for the web app to communicate with the SageMaker endpoint, the endpoint has to actually be deployed and running. This means that you are paying for it. Make sure that the endpoint is running when you want to use the web app but that you shut it down when you don't need it, otherwise you will end up with a surprisingly large AWS bill.\n",
    "\n",
    "**TODO:** Make sure that you include the edited `index.html` file in your project submission."
   ]
  },
  {
   "cell_type": "markdown",
   "metadata": {},
   "source": [
    "Now that your web app is working, trying playing around with it and see how well it works.\n",
    "\n",
    "**Question**: Give an example of a review that you entered into your web app. What was the predicted sentiment of your example review?"
   ]
  },
  {
   "cell_type": "code",
   "execution_count": 50,
   "metadata": {},
   "outputs": [
    {
     "data": {
      "text/plain": [
       "\"Jurassic World's biggest flaw, a complete lack of relatable female characters, is only further underscored by a laughably unrealistic shot of our heroine running away from a dinosaur -- in heels\""
      ]
     },
     "execution_count": 50,
     "metadata": {},
     "output_type": "execute_result"
    }
   ],
   "source": [
    "\"Jurassic World's biggest flaw, a complete lack of relatable female characters, is only further underscored by a laughably unrealistic shot of our heroine running away from a dinosaur -- in heels\""
   ]
  },
  {
   "cell_type": "markdown",
   "metadata": {},
   "source": [
    "**Answer:** Negative\n"
   ]
  },
  {
   "cell_type": "markdown",
   "metadata": {},
   "source": [
    "### Delete the endpoint\n",
    "\n",
    "Remember to always shut down your endpoint if you are no longer using it. You are charged for the length of time that the endpoint is running so if you forget and leave it on you could end up with an unexpectedly large bill."
   ]
  },
  {
   "cell_type": "code",
   "execution_count": 51,
   "metadata": {},
   "outputs": [],
   "source": [
    "predictor.delete_endpoint()"
   ]
  },
  {
   "cell_type": "code",
   "execution_count": null,
   "metadata": {},
   "outputs": [],
   "source": []
  }
 ],
 "metadata": {
  "kernelspec": {
   "display_name": "conda_pytorch_p36",
   "language": "python",
   "name": "conda_pytorch_p36"
  },
  "language_info": {
   "codemirror_mode": {
    "name": "ipython",
    "version": 3
   },
   "file_extension": ".py",
   "mimetype": "text/x-python",
   "name": "python",
   "nbconvert_exporter": "python",
   "pygments_lexer": "ipython3",
   "version": "3.6.5"
  }
 },
 "nbformat": 4,
 "nbformat_minor": 2
}
